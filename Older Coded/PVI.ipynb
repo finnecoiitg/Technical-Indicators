{
 "cells": [
  {
   "cell_type": "markdown",
   "metadata": {},
   "source": [
    "# Positive Volume Index"
   ]
  },
  {
   "cell_type": "markdown",
   "metadata": {},
   "source": [
    "[Investopedia Link](https://www.investopedia.com/terms/p/pvi.asp)"
   ]
  },
  {
   "cell_type": "markdown",
   "metadata": {},
   "source": [
    "## Import Libraries"
   ]
  },
  {
   "cell_type": "code",
   "execution_count": 1,
   "metadata": {},
   "outputs": [],
   "source": [
    "import pandas as pd\n",
    "import matplotlib.pyplot as plt\n",
    "import numpy as np\n",
    "\n",
    "\n",
    "import warnings\n",
    "warnings.filterwarnings(\"ignore\")\n",
    "\n",
    "# to fetch data \n",
    "import yfinance as yf\n",
    "\n",
    "import talib as ta"
   ]
  },
  {
   "cell_type": "markdown",
   "metadata": {},
   "source": [
    "## Import Stock Price of Reliance"
   ]
  },
  {
   "cell_type": "code",
   "execution_count": 2,
   "metadata": {},
   "outputs": [
    {
     "name": "stdout",
     "output_type": "stream",
     "text": [
      "[*********************100%***********************]  1 of 1 completed\n"
     ]
    },
    {
     "data": {
      "text/html": [
       "<div>\n",
       "<style scoped>\n",
       "    .dataframe tbody tr th:only-of-type {\n",
       "        vertical-align: middle;\n",
       "    }\n",
       "\n",
       "    .dataframe tbody tr th {\n",
       "        vertical-align: top;\n",
       "    }\n",
       "\n",
       "    .dataframe thead th {\n",
       "        text-align: right;\n",
       "    }\n",
       "</style>\n",
       "<table border=\"1\" class=\"dataframe\">\n",
       "  <thead>\n",
       "    <tr style=\"text-align: right;\">\n",
       "      <th></th>\n",
       "      <th>Open</th>\n",
       "      <th>High</th>\n",
       "      <th>Low</th>\n",
       "      <th>Close</th>\n",
       "      <th>Adj Close</th>\n",
       "      <th>Volume</th>\n",
       "    </tr>\n",
       "    <tr>\n",
       "      <th>Date</th>\n",
       "      <th></th>\n",
       "      <th></th>\n",
       "      <th></th>\n",
       "      <th></th>\n",
       "      <th></th>\n",
       "      <th></th>\n",
       "    </tr>\n",
       "  </thead>\n",
       "  <tbody>\n",
       "    <tr>\n",
       "      <th>2015-01-01</th>\n",
       "      <td>443.149994</td>\n",
       "      <td>446.000000</td>\n",
       "      <td>441.825012</td>\n",
       "      <td>443.950012</td>\n",
       "      <td>415.367096</td>\n",
       "      <td>1354878</td>\n",
       "    </tr>\n",
       "    <tr>\n",
       "      <th>2015-01-02</th>\n",
       "      <td>444.049988</td>\n",
       "      <td>448.024994</td>\n",
       "      <td>442.149994</td>\n",
       "      <td>442.774994</td>\n",
       "      <td>414.267700</td>\n",
       "      <td>3351654</td>\n",
       "    </tr>\n",
       "    <tr>\n",
       "      <th>2015-01-05</th>\n",
       "      <td>442.500000</td>\n",
       "      <td>445.450012</td>\n",
       "      <td>437.049988</td>\n",
       "      <td>437.924988</td>\n",
       "      <td>409.729980</td>\n",
       "      <td>4619182</td>\n",
       "    </tr>\n",
       "    <tr>\n",
       "      <th>2015-01-06</th>\n",
       "      <td>435.000000</td>\n",
       "      <td>436.500000</td>\n",
       "      <td>416.000000</td>\n",
       "      <td>418.049988</td>\n",
       "      <td>391.134613</td>\n",
       "      <td>8516086</td>\n",
       "    </tr>\n",
       "    <tr>\n",
       "      <th>2015-01-07</th>\n",
       "      <td>418.549988</td>\n",
       "      <td>429.399994</td>\n",
       "      <td>418.500000</td>\n",
       "      <td>427.149994</td>\n",
       "      <td>399.648712</td>\n",
       "      <td>9472630</td>\n",
       "    </tr>\n",
       "  </tbody>\n",
       "</table>\n",
       "</div>"
      ],
      "text/plain": [
       "                  Open        High         Low       Close   Adj Close  \\\n",
       "Date                                                                     \n",
       "2015-01-01  443.149994  446.000000  441.825012  443.950012  415.367096   \n",
       "2015-01-02  444.049988  448.024994  442.149994  442.774994  414.267700   \n",
       "2015-01-05  442.500000  445.450012  437.049988  437.924988  409.729980   \n",
       "2015-01-06  435.000000  436.500000  416.000000  418.049988  391.134613   \n",
       "2015-01-07  418.549988  429.399994  418.500000  427.149994  399.648712   \n",
       "\n",
       "             Volume  \n",
       "Date                 \n",
       "2015-01-01  1354878  \n",
       "2015-01-02  3351654  \n",
       "2015-01-05  4619182  \n",
       "2015-01-06  8516086  \n",
       "2015-01-07  9472630  "
      ]
     },
     "execution_count": 2,
     "metadata": {},
     "output_type": "execute_result"
    }
   ],
   "source": [
    "symbol = 'RELIANCE.NS'\n",
    "start = '2015-01-01'\n",
    "end = '2019-01-01'\n",
    "\n",
    "# Read data \n",
    "df = yf.download(symbol,start,end)\n",
    "\n",
    "df.head()"
   ]
  },
  {
   "cell_type": "markdown",
   "metadata": {},
   "source": [
    "## Generating PVI values\n",
    "\n",
    "If volume traded today is less than volume traded yesterday:  \n",
    "PVI = Previous(day) PVI  \n",
    "else  \n",
    "PVI = Previous PVI*(1 + returns)"
   ]
  },
  {
   "cell_type": "code",
   "execution_count": 3,
   "metadata": {},
   "outputs": [],
   "source": [
    "returns = df['Close'].pct_change()\n",
    "vol_increase = (df['Volume'].shift(1) < df['Volume'])  #to compare volume traded today with yesterday\n",
    "\n",
    "pvi = pd.Series(data=np.nan, index=df['Adj Close'].index, dtype='float64')  #initialising pvi as a series with nan value\n",
    "\n",
    "pvi.iloc[0] = 1000  #random number\n",
    "for i in range(1,len(pvi)):\n",
    "    if vol_increase.iloc[i]:\n",
    "        pvi.iloc[i] = pvi.iloc[i - 1] * (1.0 + returns.iloc[i])\n",
    "    else:\n",
    "        pvi.iloc[i] = pvi.iloc[i - 1]\n",
    "\n",
    "df['PVI'] = pd.Series(pvi)"
   ]
  },
  {
   "cell_type": "code",
   "execution_count": 4,
   "metadata": {},
   "outputs": [
    {
     "data": {
      "text/html": [
       "<div>\n",
       "<style scoped>\n",
       "    .dataframe tbody tr th:only-of-type {\n",
       "        vertical-align: middle;\n",
       "    }\n",
       "\n",
       "    .dataframe tbody tr th {\n",
       "        vertical-align: top;\n",
       "    }\n",
       "\n",
       "    .dataframe thead th {\n",
       "        text-align: right;\n",
       "    }\n",
       "</style>\n",
       "<table border=\"1\" class=\"dataframe\">\n",
       "  <thead>\n",
       "    <tr style=\"text-align: right;\">\n",
       "      <th></th>\n",
       "      <th>Open</th>\n",
       "      <th>High</th>\n",
       "      <th>Low</th>\n",
       "      <th>Close</th>\n",
       "      <th>Adj Close</th>\n",
       "      <th>Volume</th>\n",
       "      <th>PVI</th>\n",
       "    </tr>\n",
       "    <tr>\n",
       "      <th>Date</th>\n",
       "      <th></th>\n",
       "      <th></th>\n",
       "      <th></th>\n",
       "      <th></th>\n",
       "      <th></th>\n",
       "      <th></th>\n",
       "      <th></th>\n",
       "    </tr>\n",
       "  </thead>\n",
       "  <tbody>\n",
       "    <tr>\n",
       "      <th>2015-01-01</th>\n",
       "      <td>443.149994</td>\n",
       "      <td>446.000000</td>\n",
       "      <td>441.825012</td>\n",
       "      <td>443.950012</td>\n",
       "      <td>415.367096</td>\n",
       "      <td>1354878</td>\n",
       "      <td>1000.000000</td>\n",
       "    </tr>\n",
       "    <tr>\n",
       "      <th>2015-01-02</th>\n",
       "      <td>444.049988</td>\n",
       "      <td>448.024994</td>\n",
       "      <td>442.149994</td>\n",
       "      <td>442.774994</td>\n",
       "      <td>414.267700</td>\n",
       "      <td>3351654</td>\n",
       "      <td>997.353264</td>\n",
       "    </tr>\n",
       "    <tr>\n",
       "      <th>2015-01-05</th>\n",
       "      <td>442.500000</td>\n",
       "      <td>445.450012</td>\n",
       "      <td>437.049988</td>\n",
       "      <td>437.924988</td>\n",
       "      <td>409.729980</td>\n",
       "      <td>4619182</td>\n",
       "      <td>986.428597</td>\n",
       "    </tr>\n",
       "    <tr>\n",
       "      <th>2015-01-06</th>\n",
       "      <td>435.000000</td>\n",
       "      <td>436.500000</td>\n",
       "      <td>416.000000</td>\n",
       "      <td>418.049988</td>\n",
       "      <td>391.134613</td>\n",
       "      <td>8516086</td>\n",
       "      <td>941.660043</td>\n",
       "    </tr>\n",
       "    <tr>\n",
       "      <th>2015-01-07</th>\n",
       "      <td>418.549988</td>\n",
       "      <td>429.399994</td>\n",
       "      <td>418.500000</td>\n",
       "      <td>427.149994</td>\n",
       "      <td>399.648712</td>\n",
       "      <td>9472630</td>\n",
       "      <td>962.157860</td>\n",
       "    </tr>\n",
       "  </tbody>\n",
       "</table>\n",
       "</div>"
      ],
      "text/plain": [
       "                  Open        High         Low       Close   Adj Close  \\\n",
       "Date                                                                     \n",
       "2015-01-01  443.149994  446.000000  441.825012  443.950012  415.367096   \n",
       "2015-01-02  444.049988  448.024994  442.149994  442.774994  414.267700   \n",
       "2015-01-05  442.500000  445.450012  437.049988  437.924988  409.729980   \n",
       "2015-01-06  435.000000  436.500000  416.000000  418.049988  391.134613   \n",
       "2015-01-07  418.549988  429.399994  418.500000  427.149994  399.648712   \n",
       "\n",
       "             Volume          PVI  \n",
       "Date                              \n",
       "2015-01-01  1354878  1000.000000  \n",
       "2015-01-02  3351654   997.353264  \n",
       "2015-01-05  4619182   986.428597  \n",
       "2015-01-06  8516086   941.660043  \n",
       "2015-01-07  9472630   962.157860  "
      ]
     },
     "execution_count": 4,
     "metadata": {},
     "output_type": "execute_result"
    }
   ],
   "source": [
    "df.head()"
   ]
  },
  {
   "cell_type": "code",
   "execution_count": 5,
   "metadata": {},
   "outputs": [
    {
     "data": {
      "text/html": [
       "<div>\n",
       "<style scoped>\n",
       "    .dataframe tbody tr th:only-of-type {\n",
       "        vertical-align: middle;\n",
       "    }\n",
       "\n",
       "    .dataframe tbody tr th {\n",
       "        vertical-align: top;\n",
       "    }\n",
       "\n",
       "    .dataframe thead th {\n",
       "        text-align: right;\n",
       "    }\n",
       "</style>\n",
       "<table border=\"1\" class=\"dataframe\">\n",
       "  <thead>\n",
       "    <tr style=\"text-align: right;\">\n",
       "      <th></th>\n",
       "      <th>Open</th>\n",
       "      <th>High</th>\n",
       "      <th>Low</th>\n",
       "      <th>Close</th>\n",
       "      <th>Adj Close</th>\n",
       "      <th>Volume</th>\n",
       "      <th>PVI</th>\n",
       "      <th>PVI_9</th>\n",
       "      <th>PVI_255</th>\n",
       "    </tr>\n",
       "    <tr>\n",
       "      <th>Date</th>\n",
       "      <th></th>\n",
       "      <th></th>\n",
       "      <th></th>\n",
       "      <th></th>\n",
       "      <th></th>\n",
       "      <th></th>\n",
       "      <th></th>\n",
       "      <th></th>\n",
       "      <th></th>\n",
       "    </tr>\n",
       "  </thead>\n",
       "  <tbody>\n",
       "    <tr>\n",
       "      <th>2016-01-13</th>\n",
       "      <td>526.549988</td>\n",
       "      <td>544.875000</td>\n",
       "      <td>523.599976</td>\n",
       "      <td>538.424988</td>\n",
       "      <td>515.602234</td>\n",
       "      <td>32825622</td>\n",
       "      <td>1281.438332</td>\n",
       "      <td>1211.763075</td>\n",
       "      <td>1010.919047</td>\n",
       "    </tr>\n",
       "    <tr>\n",
       "      <th>2016-01-14</th>\n",
       "      <td>531.924988</td>\n",
       "      <td>540.500000</td>\n",
       "      <td>526.525024</td>\n",
       "      <td>530.825012</td>\n",
       "      <td>508.324341</td>\n",
       "      <td>12719826</td>\n",
       "      <td>1281.438332</td>\n",
       "      <td>1221.833455</td>\n",
       "      <td>1012.022727</td>\n",
       "    </tr>\n",
       "    <tr>\n",
       "      <th>2016-01-15</th>\n",
       "      <td>534.875000</td>\n",
       "      <td>544.750000</td>\n",
       "      <td>532.799988</td>\n",
       "      <td>536.650024</td>\n",
       "      <td>513.902466</td>\n",
       "      <td>13151450</td>\n",
       "      <td>1295.500205</td>\n",
       "      <td>1236.079006</td>\n",
       "      <td>1013.191931</td>\n",
       "    </tr>\n",
       "    <tr>\n",
       "      <th>2016-01-18</th>\n",
       "      <td>537.500000</td>\n",
       "      <td>541.974976</td>\n",
       "      <td>504.049988</td>\n",
       "      <td>508.424988</td>\n",
       "      <td>486.873810</td>\n",
       "      <td>12459918</td>\n",
       "      <td>1295.500205</td>\n",
       "      <td>1250.324558</td>\n",
       "      <td>1014.403976</td>\n",
       "    </tr>\n",
       "    <tr>\n",
       "      <th>2016-01-19</th>\n",
       "      <td>514.500000</td>\n",
       "      <td>524.900024</td>\n",
       "      <td>507.049988</td>\n",
       "      <td>521.799988</td>\n",
       "      <td>499.681915</td>\n",
       "      <td>9824192</td>\n",
       "      <td>1295.500205</td>\n",
       "      <td>1261.079740</td>\n",
       "      <td>1015.791585</td>\n",
       "    </tr>\n",
       "  </tbody>\n",
       "</table>\n",
       "</div>"
      ],
      "text/plain": [
       "                  Open        High         Low       Close   Adj Close  \\\n",
       "Date                                                                     \n",
       "2016-01-13  526.549988  544.875000  523.599976  538.424988  515.602234   \n",
       "2016-01-14  531.924988  540.500000  526.525024  530.825012  508.324341   \n",
       "2016-01-15  534.875000  544.750000  532.799988  536.650024  513.902466   \n",
       "2016-01-18  537.500000  541.974976  504.049988  508.424988  486.873810   \n",
       "2016-01-19  514.500000  524.900024  507.049988  521.799988  499.681915   \n",
       "\n",
       "              Volume          PVI        PVI_9      PVI_255  \n",
       "Date                                                         \n",
       "2016-01-13  32825622  1281.438332  1211.763075  1010.919047  \n",
       "2016-01-14  12719826  1281.438332  1221.833455  1012.022727  \n",
       "2016-01-15  13151450  1295.500205  1236.079006  1013.191931  \n",
       "2016-01-18  12459918  1295.500205  1250.324558  1014.403976  \n",
       "2016-01-19   9824192  1295.500205  1261.079740  1015.791585  "
      ]
     },
     "execution_count": 5,
     "metadata": {},
     "output_type": "execute_result"
    }
   ],
   "source": [
    "#9 day and 255 days moving average of PVI\n",
    "df['PVI_9'] = ta.MA(df['PVI'], timeperiod = 9)\n",
    "df['PVI_255'] = ta.MA(df['PVI'], timeperiod = 255)\n",
    "df.dropna(inplace=True)\n",
    "df.head()"
   ]
  },
  {
   "cell_type": "markdown",
   "metadata": {},
   "source": [
    "### Graphical Analysis"
   ]
  },
  {
   "cell_type": "code",
   "execution_count": 6,
   "metadata": {},
   "outputs": [
    {
     "data": {
      "text/plain": [
       "Text(0.5, 0, 'Date')"
      ]
     },
     "execution_count": 6,
     "metadata": {},
     "output_type": "execute_result"
    },
    {
     "data": {
      "image/png": "[encoded data removed]",
      "text/plain": [
       "<Figure size 1008x720 with 2 Axes>"
      ]
     },
     "metadata": {
      "needs_background": "light"
     },
     "output_type": "display_data"
    }
   ],
   "source": [
    "fig = plt.figure(figsize=(14,10))\n",
    "ax1 = plt.subplot(2, 1, 1)\n",
    "ax1.plot(df['Close'], label='Closing Price')\n",
    "ax1.set_title('Stock '+ symbol +' Closing Price')\n",
    "ax1.set_ylabel('Price')\n",
    "ax1.legend(loc='best')\n",
    "\n",
    "ax2 = plt.subplot(2, 1, 2)\n",
    "ax2.plot(df['PVI_9'], label='9 period Positive Volume Index', color='green')\n",
    "ax2.plot(df['PVI_255'], label='255 period Positive Volume Index', color = 'red')\n",
    "ax2.grid()\n",
    "ax2.legend(loc='best')\n",
    "ax2.set_ylabel('Positive Volume Index')\n",
    "ax2.set_xlabel('Date')"
   ]
  },
  {
   "cell_type": "markdown",
   "metadata": {},
   "source": [
    "The graph clearly shows the uptrend in the stock price of Reliance after Feb 2017 as the 9 period PVI is way above the 255 period PVI"
   ]
  },
  {
   "cell_type": "code",
   "execution_count": null,
   "metadata": {},
   "outputs": [],
   "source": []
  }
 ],
 "metadata": {
  "kernelspec": {
   "display_name": "Python 3",
   "language": "python",
   "name": "python3"
  },
  "language_info": {
   "codemirror_mode": {
    "name": "ipython",
    "version": 3
   },
   "file_extension": ".py",
   "mimetype": "text/x-python",
   "name": "python",
   "nbconvert_exporter": "python",
   "pygments_lexer": "ipython3",
   "version": "3.7.3"
  }
 },
 "nbformat": 4,
 "nbformat_minor": 2
}
