{
  "nbformat": 4,
  "nbformat_minor": 0,
  "metadata": {
    "colab": {
      "provenance": []
    },
    "kernelspec": {
      "name": "python3",
      "display_name": "Python 3"
    },
    "language_info": {
      "name": "python"
    }
  },
  "cells": [
    {
      "cell_type": "markdown",
      "source": [
        "## **Installing the Packages**\n",
        "Mpl finance will be used for ploting the Candle stics Chart\n",
        "\n"
      ],
      "metadata": {
        "id": "6zcQE2U7Ypb0"
      }
    },
    {
      "cell_type": "code",
      "execution_count": 4,
      "metadata": {
        "colab": {
          "base_uri": "https://localhost:8080/"
        },
        "id": "hYWZnNbWX7vV",
        "outputId": "6f4635ae-2a53-405d-b6ce-6353c7087ef8"
      },
      "outputs": [
        {
          "output_type": "stream",
          "name": "stdout",
          "text": [
            "Looking in indexes: https://pypi.org/simple, https://us-python.pkg.dev/colab-wheels/public/simple/\n",
            "Requirement already satisfied: mplfinance in /usr/local/lib/python3.8/dist-packages (0.12.9b7)\n",
            "Requirement already satisfied: matplotlib in /usr/local/lib/python3.8/dist-packages (from mplfinance) (3.2.2)\n",
            "Requirement already satisfied: pandas in /usr/local/lib/python3.8/dist-packages (from mplfinance) (1.3.5)\n",
            "Requirement already satisfied: cycler>=0.10 in /usr/local/lib/python3.8/dist-packages (from matplotlib->mplfinance) (0.11.0)\n",
            "Requirement already satisfied: numpy>=1.11 in /usr/local/lib/python3.8/dist-packages (from matplotlib->mplfinance) (1.21.6)\n",
            "Requirement already satisfied: pyparsing!=2.0.4,!=2.1.2,!=2.1.6,>=2.0.1 in /usr/local/lib/python3.8/dist-packages (from matplotlib->mplfinance) (3.0.9)\n",
            "Requirement already satisfied: python-dateutil>=2.1 in /usr/local/lib/python3.8/dist-packages (from matplotlib->mplfinance) (2.8.2)\n",
            "Requirement already satisfied: kiwisolver>=1.0.1 in /usr/local/lib/python3.8/dist-packages (from matplotlib->mplfinance) (1.4.4)\n",
            "Requirement already satisfied: six>=1.5 in /usr/local/lib/python3.8/dist-packages (from python-dateutil>=2.1->matplotlib->mplfinance) (1.15.0)\n",
            "Requirement already satisfied: pytz>=2017.3 in /usr/local/lib/python3.8/dist-packages (from pandas->mplfinance) (2022.6)\n",
            "Looking in indexes: https://pypi.org/simple, https://us-python.pkg.dev/colab-wheels/public/simple/\n",
            "Collecting yfinance\n",
            "  Downloading yfinance-0.2.3-py2.py3-none-any.whl (50 kB)\n",
            "\u001b[K     |████████████████████████████████| 50 kB 4.3 MB/s \n",
            "\u001b[?25hRequirement already satisfied: pytz>=2022.5 in /usr/local/lib/python3.8/dist-packages (from yfinance) (2022.6)\n",
            "Requirement already satisfied: multitasking>=0.0.7 in /usr/local/lib/python3.8/dist-packages (from yfinance) (0.0.11)\n",
            "Requirement already satisfied: appdirs>=1.4.4 in /usr/local/lib/python3.8/dist-packages (from yfinance) (1.4.4)\n",
            "Requirement already satisfied: numpy>=1.16.5 in /usr/local/lib/python3.8/dist-packages (from yfinance) (1.21.6)\n",
            "Collecting requests>=2.26\n",
            "  Downloading requests-2.28.1-py3-none-any.whl (62 kB)\n",
            "\u001b[K     |████████████████████████████████| 62 kB 1.6 MB/s \n",
            "\u001b[?25hRequirement already satisfied: lxml>=4.9.1 in /usr/local/lib/python3.8/dist-packages (from yfinance) (4.9.2)\n",
            "Collecting beautifulsoup4>=4.11.1\n",
            "  Downloading beautifulsoup4-4.11.1-py3-none-any.whl (128 kB)\n",
            "\u001b[K     |████████████████████████████████| 128 kB 60.0 MB/s \n",
            "\u001b[?25hCollecting cryptography>=3.3.2\n",
            "  Downloading cryptography-38.0.4-cp36-abi3-manylinux_2_24_x86_64.whl (4.0 MB)\n",
            "\u001b[K     |████████████████████████████████| 4.0 MB 55.5 MB/s \n",
            "\u001b[?25hRequirement already satisfied: pandas>=1.3.0 in /usr/local/lib/python3.8/dist-packages (from yfinance) (1.3.5)\n",
            "Collecting html5lib>=1.1\n",
            "  Downloading html5lib-1.1-py2.py3-none-any.whl (112 kB)\n",
            "\u001b[K     |████████████████████████████████| 112 kB 60.9 MB/s \n",
            "\u001b[?25hCollecting frozendict>=2.3.4\n",
            "  Downloading frozendict-2.3.4-cp38-cp38-manylinux_2_17_x86_64.manylinux2014_x86_64.whl (110 kB)\n",
            "\u001b[K     |████████████████████████████████| 110 kB 43.4 MB/s \n",
            "\u001b[?25hCollecting soupsieve>1.2\n",
            "  Downloading soupsieve-2.3.2.post1-py3-none-any.whl (37 kB)\n",
            "Requirement already satisfied: cffi>=1.12 in /usr/local/lib/python3.8/dist-packages (from cryptography>=3.3.2->yfinance) (1.15.1)\n",
            "Requirement already satisfied: pycparser in /usr/local/lib/python3.8/dist-packages (from cffi>=1.12->cryptography>=3.3.2->yfinance) (2.21)\n",
            "Requirement already satisfied: webencodings in /usr/local/lib/python3.8/dist-packages (from html5lib>=1.1->yfinance) (0.5.1)\n",
            "Requirement already satisfied: six>=1.9 in /usr/local/lib/python3.8/dist-packages (from html5lib>=1.1->yfinance) (1.15.0)\n",
            "Requirement already satisfied: python-dateutil>=2.7.3 in /usr/local/lib/python3.8/dist-packages (from pandas>=1.3.0->yfinance) (2.8.2)\n",
            "Requirement already satisfied: certifi>=2017.4.17 in /usr/local/lib/python3.8/dist-packages (from requests>=2.26->yfinance) (2022.12.7)\n",
            "Requirement already satisfied: charset-normalizer<3,>=2 in /usr/local/lib/python3.8/dist-packages (from requests>=2.26->yfinance) (2.1.1)\n",
            "Requirement already satisfied: idna<4,>=2.5 in /usr/local/lib/python3.8/dist-packages (from requests>=2.26->yfinance) (2.10)\n",
            "Requirement already satisfied: urllib3<1.27,>=1.21.1 in /usr/local/lib/python3.8/dist-packages (from requests>=2.26->yfinance) (1.24.3)\n",
            "Installing collected packages: soupsieve, requests, html5lib, frozendict, cryptography, beautifulsoup4, yfinance\n",
            "  Attempting uninstall: requests\n",
            "    Found existing installation: requests 2.23.0\n",
            "    Uninstalling requests-2.23.0:\n",
            "      Successfully uninstalled requests-2.23.0\n",
            "  Attempting uninstall: html5lib\n",
            "    Found existing installation: html5lib 1.0.1\n",
            "    Uninstalling html5lib-1.0.1:\n",
            "      Successfully uninstalled html5lib-1.0.1\n",
            "  Attempting uninstall: beautifulsoup4\n",
            "    Found existing installation: beautifulsoup4 4.6.3\n",
            "    Uninstalling beautifulsoup4-4.6.3:\n",
            "      Successfully uninstalled beautifulsoup4-4.6.3\n",
            "Successfully installed beautifulsoup4-4.11.1 cryptography-38.0.4 frozendict-2.3.4 html5lib-1.1 requests-2.28.1 soupsieve-2.3.2.post1 yfinance-0.2.3\n"
          ]
        }
      ],
      "source": [
        "!pip install mplfinance\n",
        "!pip install yfinance"
      ]
    },
    {
      "cell_type": "markdown",
      "source": [
        "## Importing the libraries "
      ],
      "metadata": {
        "id": "QFUQd1Z2aC2Y"
      }
    },
    {
      "cell_type": "code",
      "source": [
        "import yfinance as yf\n",
        "import numpy as np\n",
        "import matplotlib.pyplot as plt\n",
        "import pandas as pd \n",
        "import datetime\n",
        "import mplfinance as mpf #for easy candlesticks ploting "
      ],
      "metadata": {
        "id": "BNvIBPAkYXZD"
      },
      "execution_count": 5,
      "outputs": []
    },
    {
      "cell_type": "markdown",
      "source": [
        "## Downloading the data from yahoo finance \n",
        "\n",
        "VWAP is mostly used for Intraday trading. So downloading the data in a small time frame as (for i.e. 5minutes  and 15minutes)"
      ],
      "metadata": {
        "id": "XK9U-dmTaL8P"
      }
    },
    {
      "cell_type": "code",
      "source": [
        "sun = yf.Ticker(\"TATAPOWER.NS\")\n",
        "sun_data = sun.history(start='2022-12-19',end = '2022-12-20', interval='1m')\n",
        "df = pd.DataFrame()\n",
        "df= sun_data\n",
        "# df.drop(['Dividends', 'Stock Splits'], axis=1)\n",
        "df"
      ],
      "metadata": {
        "colab": {
          "base_uri": "https://localhost:8080/",
          "height": 455
        },
        "id": "jSI-XTvJYcPW",
        "outputId": "5b917397-6c18-4bb4-880b-0f218f7b5e95"
      },
      "execution_count": 18,
      "outputs": [
        {
          "output_type": "execute_result",
          "data": {
            "text/plain": [
              "                                 Open        High         Low       Close  \\\n",
              "Datetime                                                                    \n",
              "2022-12-19 09:15:00+05:30  217.949997  218.000000  217.000000  217.350006   \n",
              "2022-12-19 09:16:00+05:30  217.300003  217.550003  217.000000  217.000000   \n",
              "2022-12-19 09:17:00+05:30  217.000000  217.050003  216.500000  216.500000   \n",
              "2022-12-19 09:18:00+05:30  216.500000  217.100006  216.100006  217.100006   \n",
              "2022-12-19 09:19:00+05:30  217.149994  217.300003  216.449997  216.500000   \n",
              "...                               ...         ...         ...         ...   \n",
              "2022-12-19 15:25:00+05:30  216.699997  216.949997  216.699997  216.949997   \n",
              "2022-12-19 15:26:00+05:30  216.949997  217.199997  216.949997  217.149994   \n",
              "2022-12-19 15:27:00+05:30  217.199997  217.199997  217.149994  217.199997   \n",
              "2022-12-19 15:28:00+05:30  217.199997  217.199997  217.050003  217.050003   \n",
              "2022-12-19 15:29:00+05:30  217.100006  217.199997  217.100006  217.199997   \n",
              "\n",
              "                           Volume  Dividends  Stock Splits  \n",
              "Datetime                                                    \n",
              "2022-12-19 09:15:00+05:30       0        0.0           0.0  \n",
              "2022-12-19 09:16:00+05:30   97482        0.0           0.0  \n",
              "2022-12-19 09:17:00+05:30   77652        0.0           0.0  \n",
              "2022-12-19 09:18:00+05:30   83592        0.0           0.0  \n",
              "2022-12-19 09:19:00+05:30   59811        0.0           0.0  \n",
              "...                           ...        ...           ...  \n",
              "2022-12-19 15:25:00+05:30   46233        0.0           0.0  \n",
              "2022-12-19 15:26:00+05:30   65915        0.0           0.0  \n",
              "2022-12-19 15:27:00+05:30   38545        0.0           0.0  \n",
              "2022-12-19 15:28:00+05:30   33578        0.0           0.0  \n",
              "2022-12-19 15:29:00+05:30   34793        0.0           0.0  \n",
              "\n",
              "[375 rows x 7 columns]"
            ],
            "text/html": [
              "\n",
              "  <div id=\"df-68226672-2d02-4577-8a31-e0229e0961f2\">\n",
              "    <div class=\"colab-df-container\">\n",
              "      <div>\n",
              "<style scoped>\n",
              "    .dataframe tbody tr th:only-of-type {\n",
              "        vertical-align: middle;\n",
              "    }\n",
              "\n",
              "    .dataframe tbody tr th {\n",
              "        vertical-align: top;\n",
              "    }\n",
              "\n",
              "    .dataframe thead th {\n",
              "        text-align: right;\n",
              "    }\n",
              "</style>\n",
              "<table border=\"1\" class=\"dataframe\">\n",
              "  <thead>\n",
              "    <tr style=\"text-align: right;\">\n",
              "      <th></th>\n",
              "      <th>Open</th>\n",
              "      <th>High</th>\n",
              "      <th>Low</th>\n",
              "      <th>Close</th>\n",
              "      <th>Volume</th>\n",
              "      <th>Dividends</th>\n",
              "      <th>Stock Splits</th>\n",
              "    </tr>\n",
              "    <tr>\n",
              "      <th>Datetime</th>\n",
              "      <th></th>\n",
              "      <th></th>\n",
              "      <th></th>\n",
              "      <th></th>\n",
              "      <th></th>\n",
              "      <th></th>\n",
              "      <th></th>\n",
              "    </tr>\n",
              "  </thead>\n",
              "  <tbody>\n",
              "    <tr>\n",
              "      <th>2022-12-19 09:15:00+05:30</th>\n",
              "      <td>217.949997</td>\n",
              "      <td>218.000000</td>\n",
              "      <td>217.000000</td>\n",
              "      <td>217.350006</td>\n",
              "      <td>0</td>\n",
              "      <td>0.0</td>\n",
              "      <td>0.0</td>\n",
              "    </tr>\n",
              "    <tr>\n",
              "      <th>2022-12-19 09:16:00+05:30</th>\n",
              "      <td>217.300003</td>\n",
              "      <td>217.550003</td>\n",
              "      <td>217.000000</td>\n",
              "      <td>217.000000</td>\n",
              "      <td>97482</td>\n",
              "      <td>0.0</td>\n",
              "      <td>0.0</td>\n",
              "    </tr>\n",
              "    <tr>\n",
              "      <th>2022-12-19 09:17:00+05:30</th>\n",
              "      <td>217.000000</td>\n",
              "      <td>217.050003</td>\n",
              "      <td>216.500000</td>\n",
              "      <td>216.500000</td>\n",
              "      <td>77652</td>\n",
              "      <td>0.0</td>\n",
              "      <td>0.0</td>\n",
              "    </tr>\n",
              "    <tr>\n",
              "      <th>2022-12-19 09:18:00+05:30</th>\n",
              "      <td>216.500000</td>\n",
              "      <td>217.100006</td>\n",
              "      <td>216.100006</td>\n",
              "      <td>217.100006</td>\n",
              "      <td>83592</td>\n",
              "      <td>0.0</td>\n",
              "      <td>0.0</td>\n",
              "    </tr>\n",
              "    <tr>\n",
              "      <th>2022-12-19 09:19:00+05:30</th>\n",
              "      <td>217.149994</td>\n",
              "      <td>217.300003</td>\n",
              "      <td>216.449997</td>\n",
              "      <td>216.500000</td>\n",
              "      <td>59811</td>\n",
              "      <td>0.0</td>\n",
              "      <td>0.0</td>\n",
              "    </tr>\n",
              "    <tr>\n",
              "      <th>...</th>\n",
              "      <td>...</td>\n",
              "      <td>...</td>\n",
              "      <td>...</td>\n",
              "      <td>...</td>\n",
              "      <td>...</td>\n",
              "      <td>...</td>\n",
              "      <td>...</td>\n",
              "    </tr>\n",
              "    <tr>\n",
              "      <th>2022-12-19 15:25:00+05:30</th>\n",
              "      <td>216.699997</td>\n",
              "      <td>216.949997</td>\n",
              "      <td>216.699997</td>\n",
              "      <td>216.949997</td>\n",
              "      <td>46233</td>\n",
              "      <td>0.0</td>\n",
              "      <td>0.0</td>\n",
              "    </tr>\n",
              "    <tr>\n",
              "      <th>2022-12-19 15:26:00+05:30</th>\n",
              "      <td>216.949997</td>\n",
              "      <td>217.199997</td>\n",
              "      <td>216.949997</td>\n",
              "      <td>217.149994</td>\n",
              "      <td>65915</td>\n",
              "      <td>0.0</td>\n",
              "      <td>0.0</td>\n",
              "    </tr>\n",
              "    <tr>\n",
              "      <th>2022-12-19 15:27:00+05:30</th>\n",
              "      <td>217.199997</td>\n",
              "      <td>217.199997</td>\n",
              "      <td>217.149994</td>\n",
              "      <td>217.199997</td>\n",
              "      <td>38545</td>\n",
              "      <td>0.0</td>\n",
              "      <td>0.0</td>\n",
              "    </tr>\n",
              "    <tr>\n",
              "      <th>2022-12-19 15:28:00+05:30</th>\n",
              "      <td>217.199997</td>\n",
              "      <td>217.199997</td>\n",
              "      <td>217.050003</td>\n",
              "      <td>217.050003</td>\n",
              "      <td>33578</td>\n",
              "      <td>0.0</td>\n",
              "      <td>0.0</td>\n",
              "    </tr>\n",
              "    <tr>\n",
              "      <th>2022-12-19 15:29:00+05:30</th>\n",
              "      <td>217.100006</td>\n",
              "      <td>217.199997</td>\n",
              "      <td>217.100006</td>\n",
              "      <td>217.199997</td>\n",
              "      <td>34793</td>\n",
              "      <td>0.0</td>\n",
              "      <td>0.0</td>\n",
              "    </tr>\n",
              "  </tbody>\n",
              "</table>\n",
              "<p>375 rows × 7 columns</p>\n",
              "</div>\n",
              "      <button class=\"colab-df-convert\" onclick=\"convertToInteractive('df-68226672-2d02-4577-8a31-e0229e0961f2')\"\n",
              "              title=\"Convert this dataframe to an interactive table.\"\n",
              "              style=\"display:none;\">\n",
              "        \n",
              "  <svg xmlns=\"http://www.w3.org/2000/svg\" height=\"24px\"viewBox=\"0 0 24 24\"\n",
              "       width=\"24px\">\n",
              "    <path d=\"M0 0h24v24H0V0z\" fill=\"none\"/>\n",
              "    <path d=\"M18.56 5.44l.94 2.06.94-2.06 2.06-.94-2.06-.94-.94-2.06-.94 2.06-2.06.94zm-11 1L8.5 8.5l.94-2.06 2.06-.94-2.06-.94L8.5 2.5l-.94 2.06-2.06.94zm10 10l.94 2.06.94-2.06 2.06-.94-2.06-.94-.94-2.06-.94 2.06-2.06.94z\"/><path d=\"M17.41 7.96l-1.37-1.37c-.4-.4-.92-.59-1.43-.59-.52 0-1.04.2-1.43.59L10.3 9.45l-7.72 7.72c-.78.78-.78 2.05 0 2.83L4 21.41c.39.39.9.59 1.41.59.51 0 1.02-.2 1.41-.59l7.78-7.78 2.81-2.81c.8-.78.8-2.07 0-2.86zM5.41 20L4 18.59l7.72-7.72 1.47 1.35L5.41 20z\"/>\n",
              "  </svg>\n",
              "      </button>\n",
              "      \n",
              "  <style>\n",
              "    .colab-df-container {\n",
              "      display:flex;\n",
              "      flex-wrap:wrap;\n",
              "      gap: 12px;\n",
              "    }\n",
              "\n",
              "    .colab-df-convert {\n",
              "      background-color: #E8F0FE;\n",
              "      border: none;\n",
              "      border-radius: 50%;\n",
              "      cursor: pointer;\n",
              "      display: none;\n",
              "      fill: #1967D2;\n",
              "      height: 32px;\n",
              "      padding: 0 0 0 0;\n",
              "      width: 32px;\n",
              "    }\n",
              "\n",
              "    .colab-df-convert:hover {\n",
              "      background-color: #E2EBFA;\n",
              "      box-shadow: 0px 1px 2px rgba(60, 64, 67, 0.3), 0px 1px 3px 1px rgba(60, 64, 67, 0.15);\n",
              "      fill: #174EA6;\n",
              "    }\n",
              "\n",
              "    [theme=dark] .colab-df-convert {\n",
              "      background-color: #3B4455;\n",
              "      fill: #D2E3FC;\n",
              "    }\n",
              "\n",
              "    [theme=dark] .colab-df-convert:hover {\n",
              "      background-color: #434B5C;\n",
              "      box-shadow: 0px 1px 3px 1px rgba(0, 0, 0, 0.15);\n",
              "      filter: drop-shadow(0px 1px 2px rgba(0, 0, 0, 0.3));\n",
              "      fill: #FFFFFF;\n",
              "    }\n",
              "  </style>\n",
              "\n",
              "      <script>\n",
              "        const buttonEl =\n",
              "          document.querySelector('#df-68226672-2d02-4577-8a31-e0229e0961f2 button.colab-df-convert');\n",
              "        buttonEl.style.display =\n",
              "          google.colab.kernel.accessAllowed ? 'block' : 'none';\n",
              "\n",
              "        async function convertToInteractive(key) {\n",
              "          const element = document.querySelector('#df-68226672-2d02-4577-8a31-e0229e0961f2');\n",
              "          const dataTable =\n",
              "            await google.colab.kernel.invokeFunction('convertToInteractive',\n",
              "                                                     [key], {});\n",
              "          if (!dataTable) return;\n",
              "\n",
              "          const docLinkHtml = 'Like what you see? Visit the ' +\n",
              "            '<a target=\"_blank\" href=https://colab.research.google.com/notebooks/data_table.ipynb>data table notebook</a>'\n",
              "            + ' to learn more about interactive tables.';\n",
              "          element.innerHTML = '';\n",
              "          dataTable['output_type'] = 'display_data';\n",
              "          await google.colab.output.renderOutput(dataTable, element);\n",
              "          const docLink = document.createElement('div');\n",
              "          docLink.innerHTML = docLinkHtml;\n",
              "          element.appendChild(docLink);\n",
              "        }\n",
              "      </script>\n",
              "    </div>\n",
              "  </div>\n",
              "  "
            ]
          },
          "metadata": {},
          "execution_count": 18
        }
      ]
    },
    {
      "cell_type": "markdown",
      "source": [
        "## **Calculation of VWAP**\n",
        "\n",
        "VWAP = Cumulative Typical Price x Volume/Cumulative Volume\n",
        "\n",
        "Where Typical Price = High price + Low price + Closing Price/3\n",
        "\n",
        "Cumulative = total since the trading session opened.\n"
      ],
      "metadata": {
        "id": "4JmbohYFajmc"
      }
    },
    {
      "cell_type": "code",
      "source": [
        "df['Typical_Price'] =((df.Close+df.High+df.Low)/3)\n",
        "df['VWAP'] = (np.cumsum(df.Volume * df.Typical_Price) / np.cumsum(df.Volume))"
      ],
      "metadata": {
        "id": "CbDhS3sfYcWM"
      },
      "execution_count": 19,
      "outputs": []
    },
    {
      "cell_type": "markdown",
      "source": [
        "## Ploting the Candlestick Chart \n"
      ],
      "metadata": {
        "id": "d_44rBX1bjG3"
      }
    },
    {
      "cell_type": "code",
      "source": [
        "adp = mpf.make_addplot(df['VWAP'], type='line')\n",
        "mpf.plot(df, figratio=(8,4), type='candle', addplot=adp, volume=True, style='yahoo')"
      ],
      "metadata": {
        "colab": {
          "base_uri": "https://localhost:8080/",
          "height": 487
        },
        "id": "H8tLVYDBYcYq",
        "outputId": "b783c405-eb1c-4da3-c2a5-697c9535511b"
      },
      "execution_count": 20,
      "outputs": [
        {
          "output_type": "display_data",
          "data": {
            "text/plain": [
              "<Figure size 1150x575 with 4 Axes>"
            ],
            "image/png": "[encoded data removed]"
          },
          "metadata": {}
        }
      ]
    },
    {
      "cell_type": "markdown",
      "source": [
        "### Strategy and  Calculation of return \n",
        "\n",
        "\n",
        "\n",
        "\n"
      ],
      "metadata": {
        "id": "0nWEbbtmb_0z"
      }
    },
    {
      "cell_type": "markdown",
      "source": [
        "# ![strategy_VWAP.png](data:image/png;base64,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)"
      ],
      "metadata": {
        "id": "1lCxfEHic_jj"
      }
    },
    {
      "cell_type": "code",
      "source": [
        "def find_returns_APO(dataset):\n",
        " # Create empty lists to store buy and sell signals\n",
        "  buy = []\n",
        "  sell = [] \n",
        "# Create a flag to track whether a position is currently open\n",
        "  position = False\n",
        "\n",
        "  # Appling the buying an selling conditions \n",
        "  for i in range(len(dataset)):\n",
        "    if ((dataset.VWAP[i] >dataset.Open[i] and dataset.VWAP[i] <dataset.Close[i]) and (dataset.Close[i+1] > dataset.High[i])) :\n",
        "\n",
        "      if position == False:\n",
        "        buy.append(i+1)\n",
        "\n",
        "        position = True\n",
        "\n",
        "    elif ((dataset.Close[i] <dataset.VWAP[i] and dataset.VWAP[i] <dataset.Open[i]) and (dataset.Close[i+1] < dataset.Low[i])):\n",
        "\n",
        "      if position == True:\n",
        "        sell.append(i)\n",
        "        \n",
        "        position = False\n",
        "# Concatenate the closing prices at the buy and sell signal indices from dataset1\n",
        "  merged= pd.concat([dataset.iloc[buy].Close , dataset.iloc[sell].Close] , axis=1)\n",
        "# Set the column names of the DataFrame to 'Buy' and 'Sell'\n",
        "  merged.columns = ['Buy', 'Sell']\n",
        "\n",
        "  totalprofit = merged.shift(-1).Sell-merged.Buy\n",
        "  \n",
        "  percent_profits = (merged.shift(-1).Sell-merged.Buy) / merged.Buy\n",
        "    \n",
        "  print(merged)\n",
        "#    uncomment for the number of trades \n",
        "\n",
        "  return percent_profits.sum()"
      ],
      "metadata": {
        "id": "1PZk4mgPYcaY"
      },
      "execution_count": 21,
      "outputs": []
    },
    {
      "cell_type": "code",
      "source": [
        "find_returns_APO( df )"
      ],
      "metadata": {
        "colab": {
          "base_uri": "https://localhost:8080/"
        },
        "id": "sRizhtguYceB",
        "outputId": "cb4221e1-ff6a-4f45-dc1f-1268d005afa6"
      },
      "execution_count": 22,
      "outputs": [
        {
          "output_type": "stream",
          "name": "stdout",
          "text": [
            "                                  Buy        Sell\n",
            "Datetime                                         \n",
            "2022-12-19 09:21:00+05:30  217.100006         NaN\n",
            "2022-12-19 12:34:00+05:30         NaN  216.199997\n",
            "2022-12-19 13:43:00+05:30  216.350006         NaN\n"
          ]
        },
        {
          "output_type": "execute_result",
          "data": {
            "text/plain": [
              "-0.004145597097976604"
            ]
          },
          "metadata": {},
          "execution_count": 22
        }
      ]
    },
    {
      "cell_type": "markdown",
      "source": [
        "There are less number of trades because of the strict Conditions for buying and selling .\n",
        "As VWAP mostly used with another indicators and mostly in intraday trading.\n",
        "it is used for to estimate the actual price considering the volumes traded.\n"
      ],
      "metadata": {
        "id": "bAUpuEqVqvIU"
      }
    },
    {
      "cell_type": "code",
      "source": [],
      "metadata": {
        "id": "aTHAmmDVYchP"
      },
      "execution_count": 22,
      "outputs": []
    },
    {
      "cell_type": "code",
      "source": [],
      "metadata": {
        "id": "pF6eCS2mYcjp"
      },
      "execution_count": 22,
      "outputs": []
    }
  ]
}