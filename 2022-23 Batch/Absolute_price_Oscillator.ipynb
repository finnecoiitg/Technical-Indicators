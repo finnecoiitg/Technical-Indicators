{
  "nbformat": 4,
  "nbformat_minor": 0,
  "metadata": {
    "colab": {
      "provenance": []
    },
    "kernelspec": {
      "name": "python3",
      "display_name": "Python 3"
    },
    "language_info": {
      "name": "python"
    }
  },
  "cells": [
    {
      "cell_type": "markdown",
      "source": [
        "Install the Packages"
      ],
      "metadata": {
        "id": "UiPqKUBeNTlf"
      }
    },
    {
      "cell_type": "code",
      "execution_count": null,
      "metadata": {
        "colab": {
          "base_uri": "https://localhost:8080/"
        },
        "id": "BIgNGJvtLZCj",
        "outputId": "0967ddd5-1426-4f5f-b82a-83e41ec6cacc"
      },
      "outputs": [
        {
          "output_type": "stream",
          "name": "stdout",
          "text": [
            "Looking in indexes: https://pypi.org/simple, https://us-python.pkg.dev/colab-wheels/public/simple/\n",
            "Collecting yfinance\n",
            "  Downloading yfinance-0.2.3-py2.py3-none-any.whl (50 kB)\n",
            "\u001b[K     |████████████████████████████████| 50 kB 6.3 MB/s \n",
            "\u001b[?25hRequirement already satisfied: pandas>=1.3.0 in /usr/local/lib/python3.8/dist-packages (from yfinance) (1.3.5)\n",
            "Collecting frozendict>=2.3.4\n",
            "  Downloading frozendict-2.3.4-cp38-cp38-manylinux_2_17_x86_64.manylinux2014_x86_64.whl (110 kB)\n",
            "\u001b[K     |████████████████████████████████| 110 kB 47.3 MB/s \n",
            "\u001b[?25hCollecting cryptography>=3.3.2\n",
            "  Downloading cryptography-38.0.4-cp36-abi3-manylinux_2_24_x86_64.whl (4.0 MB)\n",
            "\u001b[K     |████████████████████████████████| 4.0 MB 54.8 MB/s \n",
            "\u001b[?25hRequirement already satisfied: pytz>=2022.5 in /usr/local/lib/python3.8/dist-packages (from yfinance) (2022.6)\n",
            "Requirement already satisfied: numpy>=1.16.5 in /usr/local/lib/python3.8/dist-packages (from yfinance) (1.21.6)\n",
            "Requirement already satisfied: appdirs>=1.4.4 in /usr/local/lib/python3.8/dist-packages (from yfinance) (1.4.4)\n",
            "Requirement already satisfied: lxml>=4.9.1 in /usr/local/lib/python3.8/dist-packages (from yfinance) (4.9.2)\n",
            "Collecting beautifulsoup4>=4.11.1\n",
            "  Downloading beautifulsoup4-4.11.1-py3-none-any.whl (128 kB)\n",
            "\u001b[K     |████████████████████████████████| 128 kB 69.7 MB/s \n",
            "\u001b[?25hRequirement already satisfied: multitasking>=0.0.7 in /usr/local/lib/python3.8/dist-packages (from yfinance) (0.0.11)\n",
            "Collecting requests>=2.26\n",
            "  Downloading requests-2.28.1-py3-none-any.whl (62 kB)\n",
            "\u001b[K     |████████████████████████████████| 62 kB 1.3 MB/s \n",
            "\u001b[?25hCollecting html5lib>=1.1\n",
            "  Downloading html5lib-1.1-py2.py3-none-any.whl (112 kB)\n",
            "\u001b[K     |████████████████████████████████| 112 kB 63.0 MB/s \n",
            "\u001b[?25hCollecting soupsieve>1.2\n",
            "  Downloading soupsieve-2.3.2.post1-py3-none-any.whl (37 kB)\n",
            "Requirement already satisfied: cffi>=1.12 in /usr/local/lib/python3.8/dist-packages (from cryptography>=3.3.2->yfinance) (1.15.1)\n",
            "Requirement already satisfied: pycparser in /usr/local/lib/python3.8/dist-packages (from cffi>=1.12->cryptography>=3.3.2->yfinance) (2.21)\n",
            "Requirement already satisfied: webencodings in /usr/local/lib/python3.8/dist-packages (from html5lib>=1.1->yfinance) (0.5.1)\n",
            "Requirement already satisfied: six>=1.9 in /usr/local/lib/python3.8/dist-packages (from html5lib>=1.1->yfinance) (1.15.0)\n",
            "Requirement already satisfied: python-dateutil>=2.7.3 in /usr/local/lib/python3.8/dist-packages (from pandas>=1.3.0->yfinance) (2.8.2)\n",
            "Requirement already satisfied: certifi>=2017.4.17 in /usr/local/lib/python3.8/dist-packages (from requests>=2.26->yfinance) (2022.12.7)\n",
            "Requirement already satisfied: charset-normalizer<3,>=2 in /usr/local/lib/python3.8/dist-packages (from requests>=2.26->yfinance) (2.1.1)\n",
            "Requirement already satisfied: idna<4,>=2.5 in /usr/local/lib/python3.8/dist-packages (from requests>=2.26->yfinance) (2.10)\n",
            "Requirement already satisfied: urllib3<1.27,>=1.21.1 in /usr/local/lib/python3.8/dist-packages (from requests>=2.26->yfinance) (1.24.3)\n",
            "Installing collected packages: soupsieve, requests, html5lib, frozendict, cryptography, beautifulsoup4, yfinance\n",
            "  Attempting uninstall: requests\n",
            "    Found existing installation: requests 2.23.0\n",
            "    Uninstalling requests-2.23.0:\n",
            "      Successfully uninstalled requests-2.23.0\n",
            "  Attempting uninstall: html5lib\n",
            "    Found existing installation: html5lib 1.0.1\n",
            "    Uninstalling html5lib-1.0.1:\n",
            "      Successfully uninstalled html5lib-1.0.1\n",
            "  Attempting uninstall: beautifulsoup4\n",
            "    Found existing installation: beautifulsoup4 4.6.3\n",
            "    Uninstalling beautifulsoup4-4.6.3:\n",
            "      Successfully uninstalled beautifulsoup4-4.6.3\n",
            "Successfully installed beautifulsoup4-4.11.1 cryptography-38.0.4 frozendict-2.3.4 html5lib-1.1 requests-2.28.1 soupsieve-2.3.2.post1 yfinance-0.2.3\n"
          ]
        }
      ],
      "source": [
        "pip install yfinance"
      ]
    },
    {
      "cell_type": "markdown",
      "source": [
        "Importing the libraries "
      ],
      "metadata": {
        "id": "OpYgIISgM_C_"
      }
    },
    {
      "cell_type": "code",
      "source": [
        "import numpy as np\n",
        "import yfinance as yf\n",
        "import pandas as pd\n",
        "import matplotlib.pyplot as plt"
      ],
      "metadata": {
        "id": "HsLp6GmTL3-4"
      },
      "execution_count": null,
      "outputs": []
    },
    {
      "cell_type": "markdown",
      "source": [
        "Downloading data "
      ],
      "metadata": {
        "id": "OhD8Y8i2Ol9e"
      }
    },
    {
      "cell_type": "code",
      "source": [
        "sun = yf.Ticker(\"SUNPHARMA.NS\")\n",
        "df = sun.history(start='2021-09-15',end = '2022-12-16')"
      ],
      "metadata": {
        "id": "KOYsvdaSLhHH"
      },
      "execution_count": null,
      "outputs": []
    },
    {
      "cell_type": "code",
      "source": [],
      "metadata": {
        "id": "JGnHlkkGOLEq"
      },
      "execution_count": null,
      "outputs": []
    },
    {
      "cell_type": "markdown",
      "source": [
        "Calculation of Absolute price Oscillator \n",
        "\n",
        "The Absolute Price Oscillator displays the difference between two exponential moving averages of a security's price and is expressed as an absolute value.\n",
        "\n",
        "APO = Shorter Period EMA – Longer Period EMA\n",
        "\n",
        "In this case Short period EMA is for 12 days \n",
        "In this case Longer period EMA is for 26 days "
      ],
      "metadata": {
        "id": "ctkzcJMEOXbp"
      }
    },
    {
      "cell_type": "code",
      "source": [
        "def APO(df1):\n",
        " \n",
        "    df1['ShortEMA']=df1['Close'].ewm(span=12, adjust=False).mean() \n",
        "\n",
        " \n",
        "    df1['LongEMA']= df1['Close'].ewm(span=26, adjust=False).mean() \n",
        "\n",
        "\n",
        "    df1['APO'] = df1['ShortEMA'] - df1['LongEMA']\n",
        "\n",
        "    \n",
        "    return df1"
      ],
      "metadata": {
        "id": "B9cXL8HGLhPw"
      },
      "execution_count": null,
      "outputs": []
    },
    {
      "cell_type": "code",
      "source": [
        "APO(df)"
      ],
      "metadata": {
        "colab": {
          "base_uri": "https://localhost:8080/",
          "height": 455
        },
        "id": "o0Q_Ttz6MY-D",
        "outputId": "3517a609-942b-4243-b2b7-2a8e465887cb"
      },
      "execution_count": null,
      "outputs": [
        {
          "output_type": "execute_result",
          "data": {
            "text/plain": [
              "                                  Open         High         Low        Close  \\\n",
              "Date                                                                           \n",
              "2021-09-15 00:00:00+05:30   776.008731   777.047090  770.174055   772.003601   \n",
              "2021-09-16 00:00:00+05:30   771.360812   775.860404  769.679629   772.399170   \n",
              "2021-09-17 00:00:00+05:30   776.305410   779.173314  758.158677   761.372681   \n",
              "2021-09-20 00:00:00+05:30   758.208070   766.168896  743.275281   748.121033   \n",
              "2021-09-21 00:00:00+05:30   748.121078   757.861956  742.731430   756.032471   \n",
              "...                                ...          ...         ...          ...   \n",
              "2022-12-09 00:00:00+05:30   980.799988   997.000000  980.000000   992.849976   \n",
              "2022-12-12 00:00:00+05:30   994.900024   995.000000  980.150024   987.400024   \n",
              "2022-12-13 00:00:00+05:30   980.000000   996.349976  979.799988   994.650024   \n",
              "2022-12-14 00:00:00+05:30   999.000000  1003.000000  994.549988  1000.250000   \n",
              "2022-12-15 00:00:00+05:30  1001.000000  1007.000000  998.099976  1002.200012   \n",
              "\n",
              "                            Volume  Dividends  Stock Splits     ShortEMA  \\\n",
              "Date                                                                       \n",
              "2021-09-15 00:00:00+05:30  1393824        0.0           0.0   772.003601   \n",
              "2021-09-16 00:00:00+05:30  1353677        0.0           0.0   772.064458   \n",
              "2021-09-17 00:00:00+05:30  4052622        0.0           0.0   770.419569   \n",
              "2021-09-20 00:00:00+05:30  2206369        0.0           0.0   766.989025   \n",
              "2021-09-21 00:00:00+05:30  2123997        0.0           0.0   765.303401   \n",
              "...                            ...        ...           ...          ...   \n",
              "2022-12-09 00:00:00+05:30  4231753        0.0           0.0  1018.894053   \n",
              "2022-12-12 00:00:00+05:30  1875104        0.0           0.0  1014.048818   \n",
              "2022-12-13 00:00:00+05:30  1863361        0.0           0.0  1011.064388   \n",
              "2022-12-14 00:00:00+05:30  1570685        0.0           0.0  1009.400636   \n",
              "2022-12-15 00:00:00+05:30  1304660        0.0           0.0  1008.292848   \n",
              "\n",
              "                               LongEMA       APO  \n",
              "Date                                              \n",
              "2021-09-15 00:00:00+05:30   772.003601  0.000000  \n",
              "2021-09-16 00:00:00+05:30   772.032902  0.031555  \n",
              "2021-09-17 00:00:00+05:30   771.243256 -0.823687  \n",
              "2021-09-20 00:00:00+05:30   769.530499 -2.541474  \n",
              "2021-09-21 00:00:00+05:30   768.530645 -3.227244  \n",
              "...                                ...       ...  \n",
              "2022-12-09 00:00:00+05:30  1015.840390  3.053663  \n",
              "2022-12-12 00:00:00+05:30  1013.733697  0.315121  \n",
              "2022-12-13 00:00:00+05:30  1012.320091 -1.255703  \n",
              "2022-12-14 00:00:00+05:30  1011.426010 -2.025374  \n",
              "2022-12-15 00:00:00+05:30  1010.742603 -2.449755  \n",
              "\n",
              "[312 rows x 10 columns]"
            ],
            "text/html": [
              "\n",
              "  <div id=\"df-785544a8-4bb1-43e0-9a62-6b46a2c2c05f\">\n",
              "    <div class=\"colab-df-container\">\n",
              "      <div>\n",
              "<style scoped>\n",
              "    .dataframe tbody tr th:only-of-type {\n",
              "        vertical-align: middle;\n",
              "    }\n",
              "\n",
              "    .dataframe tbody tr th {\n",
              "        vertical-align: top;\n",
              "    }\n",
              "\n",
              "    .dataframe thead th {\n",
              "        text-align: right;\n",
              "    }\n",
              "</style>\n",
              "<table border=\"1\" class=\"dataframe\">\n",
              "  <thead>\n",
              "    <tr style=\"text-align: right;\">\n",
              "      <th></th>\n",
              "      <th>Open</th>\n",
              "      <th>High</th>\n",
              "      <th>Low</th>\n",
              "      <th>Close</th>\n",
              "      <th>Volume</th>\n",
              "      <th>Dividends</th>\n",
              "      <th>Stock Splits</th>\n",
              "      <th>ShortEMA</th>\n",
              "      <th>LongEMA</th>\n",
              "      <th>APO</th>\n",
              "    </tr>\n",
              "    <tr>\n",
              "      <th>Date</th>\n",
              "      <th></th>\n",
              "      <th></th>\n",
              "      <th></th>\n",
              "      <th></th>\n",
              "      <th></th>\n",
              "      <th></th>\n",
              "      <th></th>\n",
              "      <th></th>\n",
              "      <th></th>\n",
              "      <th></th>\n",
              "    </tr>\n",
              "  </thead>\n",
              "  <tbody>\n",
              "    <tr>\n",
              "      <th>2021-09-15 00:00:00+05:30</th>\n",
              "      <td>776.008731</td>\n",
              "      <td>777.047090</td>\n",
              "      <td>770.174055</td>\n",
              "      <td>772.003601</td>\n",
              "      <td>1393824</td>\n",
              "      <td>0.0</td>\n",
              "      <td>0.0</td>\n",
              "      <td>772.003601</td>\n",
              "      <td>772.003601</td>\n",
              "      <td>0.000000</td>\n",
              "    </tr>\n",
              "    <tr>\n",
              "      <th>2021-09-16 00:00:00+05:30</th>\n",
              "      <td>771.360812</td>\n",
              "      <td>775.860404</td>\n",
              "      <td>769.679629</td>\n",
              "      <td>772.399170</td>\n",
              "      <td>1353677</td>\n",
              "      <td>0.0</td>\n",
              "      <td>0.0</td>\n",
              "      <td>772.064458</td>\n",
              "      <td>772.032902</td>\n",
              "      <td>0.031555</td>\n",
              "    </tr>\n",
              "    <tr>\n",
              "      <th>2021-09-17 00:00:00+05:30</th>\n",
              "      <td>776.305410</td>\n",
              "      <td>779.173314</td>\n",
              "      <td>758.158677</td>\n",
              "      <td>761.372681</td>\n",
              "      <td>4052622</td>\n",
              "      <td>0.0</td>\n",
              "      <td>0.0</td>\n",
              "      <td>770.419569</td>\n",
              "      <td>771.243256</td>\n",
              "      <td>-0.823687</td>\n",
              "    </tr>\n",
              "    <tr>\n",
              "      <th>2021-09-20 00:00:00+05:30</th>\n",
              "      <td>758.208070</td>\n",
              "      <td>766.168896</td>\n",
              "      <td>743.275281</td>\n",
              "      <td>748.121033</td>\n",
              "      <td>2206369</td>\n",
              "      <td>0.0</td>\n",
              "      <td>0.0</td>\n",
              "      <td>766.989025</td>\n",
              "      <td>769.530499</td>\n",
              "      <td>-2.541474</td>\n",
              "    </tr>\n",
              "    <tr>\n",
              "      <th>2021-09-21 00:00:00+05:30</th>\n",
              "      <td>748.121078</td>\n",
              "      <td>757.861956</td>\n",
              "      <td>742.731430</td>\n",
              "      <td>756.032471</td>\n",
              "      <td>2123997</td>\n",
              "      <td>0.0</td>\n",
              "      <td>0.0</td>\n",
              "      <td>765.303401</td>\n",
              "      <td>768.530645</td>\n",
              "      <td>-3.227244</td>\n",
              "    </tr>\n",
              "    <tr>\n",
              "      <th>...</th>\n",
              "      <td>...</td>\n",
              "      <td>...</td>\n",
              "      <td>...</td>\n",
              "      <td>...</td>\n",
              "      <td>...</td>\n",
              "      <td>...</td>\n",
              "      <td>...</td>\n",
              "      <td>...</td>\n",
              "      <td>...</td>\n",
              "      <td>...</td>\n",
              "    </tr>\n",
              "    <tr>\n",
              "      <th>2022-12-09 00:00:00+05:30</th>\n",
              "      <td>980.799988</td>\n",
              "      <td>997.000000</td>\n",
              "      <td>980.000000</td>\n",
              "      <td>992.849976</td>\n",
              "      <td>4231753</td>\n",
              "      <td>0.0</td>\n",
              "      <td>0.0</td>\n",
              "      <td>1018.894053</td>\n",
              "      <td>1015.840390</td>\n",
              "      <td>3.053663</td>\n",
              "    </tr>\n",
              "    <tr>\n",
              "      <th>2022-12-12 00:00:00+05:30</th>\n",
              "      <td>994.900024</td>\n",
              "      <td>995.000000</td>\n",
              "      <td>980.150024</td>\n",
              "      <td>987.400024</td>\n",
              "      <td>1875104</td>\n",
              "      <td>0.0</td>\n",
              "      <td>0.0</td>\n",
              "      <td>1014.048818</td>\n",
              "      <td>1013.733697</td>\n",
              "      <td>0.315121</td>\n",
              "    </tr>\n",
              "    <tr>\n",
              "      <th>2022-12-13 00:00:00+05:30</th>\n",
              "      <td>980.000000</td>\n",
              "      <td>996.349976</td>\n",
              "      <td>979.799988</td>\n",
              "      <td>994.650024</td>\n",
              "      <td>1863361</td>\n",
              "      <td>0.0</td>\n",
              "      <td>0.0</td>\n",
              "      <td>1011.064388</td>\n",
              "      <td>1012.320091</td>\n",
              "      <td>-1.255703</td>\n",
              "    </tr>\n",
              "    <tr>\n",
              "      <th>2022-12-14 00:00:00+05:30</th>\n",
              "      <td>999.000000</td>\n",
              "      <td>1003.000000</td>\n",
              "      <td>994.549988</td>\n",
              "      <td>1000.250000</td>\n",
              "      <td>1570685</td>\n",
              "      <td>0.0</td>\n",
              "      <td>0.0</td>\n",
              "      <td>1009.400636</td>\n",
              "      <td>1011.426010</td>\n",
              "      <td>-2.025374</td>\n",
              "    </tr>\n",
              "    <tr>\n",
              "      <th>2022-12-15 00:00:00+05:30</th>\n",
              "      <td>1001.000000</td>\n",
              "      <td>1007.000000</td>\n",
              "      <td>998.099976</td>\n",
              "      <td>1002.200012</td>\n",
              "      <td>1304660</td>\n",
              "      <td>0.0</td>\n",
              "      <td>0.0</td>\n",
              "      <td>1008.292848</td>\n",
              "      <td>1010.742603</td>\n",
              "      <td>-2.449755</td>\n",
              "    </tr>\n",
              "  </tbody>\n",
              "</table>\n",
              "<p>312 rows × 10 columns</p>\n",
              "</div>\n",
              "      <button class=\"colab-df-convert\" onclick=\"convertToInteractive('df-785544a8-4bb1-43e0-9a62-6b46a2c2c05f')\"\n",
              "              title=\"Convert this dataframe to an interactive table.\"\n",
              "              style=\"display:none;\">\n",
              "        \n",
              "  <svg xmlns=\"http://www.w3.org/2000/svg\" height=\"24px\"viewBox=\"0 0 24 24\"\n",
              "       width=\"24px\">\n",
              "    <path d=\"M0 0h24v24H0V0z\" fill=\"none\"/>\n",
              "    <path d=\"M18.56 5.44l.94 2.06.94-2.06 2.06-.94-2.06-.94-.94-2.06-.94 2.06-2.06.94zm-11 1L8.5 8.5l.94-2.06 2.06-.94-2.06-.94L8.5 2.5l-.94 2.06-2.06.94zm10 10l.94 2.06.94-2.06 2.06-.94-2.06-.94-.94-2.06-.94 2.06-2.06.94z\"/><path d=\"M17.41 7.96l-1.37-1.37c-.4-.4-.92-.59-1.43-.59-.52 0-1.04.2-1.43.59L10.3 9.45l-7.72 7.72c-.78.78-.78 2.05 0 2.83L4 21.41c.39.39.9.59 1.41.59.51 0 1.02-.2 1.41-.59l7.78-7.78 2.81-2.81c.8-.78.8-2.07 0-2.86zM5.41 20L4 18.59l7.72-7.72 1.47 1.35L5.41 20z\"/>\n",
              "  </svg>\n",
              "      </button>\n",
              "      \n",
              "  <style>\n",
              "    .colab-df-container {\n",
              "      display:flex;\n",
              "      flex-wrap:wrap;\n",
              "      gap: 12px;\n",
              "    }\n",
              "\n",
              "    .colab-df-convert {\n",
              "      background-color: #E8F0FE;\n",
              "      border: none;\n",
              "      border-radius: 50%;\n",
              "      cursor: pointer;\n",
              "      display: none;\n",
              "      fill: #1967D2;\n",
              "      height: 32px;\n",
              "      padding: 0 0 0 0;\n",
              "      width: 32px;\n",
              "    }\n",
              "\n",
              "    .colab-df-convert:hover {\n",
              "      background-color: #E2EBFA;\n",
              "      box-shadow: 0px 1px 2px rgba(60, 64, 67, 0.3), 0px 1px 3px 1px rgba(60, 64, 67, 0.15);\n",
              "      fill: #174EA6;\n",
              "    }\n",
              "\n",
              "    [theme=dark] .colab-df-convert {\n",
              "      background-color: #3B4455;\n",
              "      fill: #D2E3FC;\n",
              "    }\n",
              "\n",
              "    [theme=dark] .colab-df-convert:hover {\n",
              "      background-color: #434B5C;\n",
              "      box-shadow: 0px 1px 3px 1px rgba(0, 0, 0, 0.15);\n",
              "      filter: drop-shadow(0px 1px 2px rgba(0, 0, 0, 0.3));\n",
              "      fill: #FFFFFF;\n",
              "    }\n",
              "  </style>\n",
              "\n",
              "      <script>\n",
              "        const buttonEl =\n",
              "          document.querySelector('#df-785544a8-4bb1-43e0-9a62-6b46a2c2c05f button.colab-df-convert');\n",
              "        buttonEl.style.display =\n",
              "          google.colab.kernel.accessAllowed ? 'block' : 'none';\n",
              "\n",
              "        async function convertToInteractive(key) {\n",
              "          const element = document.querySelector('#df-785544a8-4bb1-43e0-9a62-6b46a2c2c05f');\n",
              "          const dataTable =\n",
              "            await google.colab.kernel.invokeFunction('convertToInteractive',\n",
              "                                                     [key], {});\n",
              "          if (!dataTable) return;\n",
              "\n",
              "          const docLinkHtml = 'Like what you see? Visit the ' +\n",
              "            '<a target=\"_blank\" href=https://colab.research.google.com/notebooks/data_table.ipynb>data table notebook</a>'\n",
              "            + ' to learn more about interactive tables.';\n",
              "          element.innerHTML = '';\n",
              "          dataTable['output_type'] = 'display_data';\n",
              "          await google.colab.output.renderOutput(dataTable, element);\n",
              "          const docLink = document.createElement('div');\n",
              "          docLink.innerHTML = docLinkHtml;\n",
              "          element.appendChild(docLink);\n",
              "        }\n",
              "      </script>\n",
              "    </div>\n",
              "  </div>\n",
              "  "
            ]
          },
          "metadata": {},
          "execution_count": 16
        }
      ]
    },
    {
      "cell_type": "markdown",
      "source": [
        "Ploting of APO and closed price of the Stock or index \n",
        "\n"
      ],
      "metadata": {
        "id": "Ecx1USv2PZy7"
      }
    },
    {
      "cell_type": "code",
      "source": [
        "def show_APO(df1, idx_name):\n",
        "    fig, axs = plt.subplots(2, sharex=True, figsize=(20,15))\n",
        "    fig.suptitle(idx_name,fontweight=\"bold\")\n",
        "\n",
        "    # Plot the closing prices \n",
        "    axs[0].plot(df1['Close'],label='Close') \n",
        "    axs[0].legend(loc='upper left')\n",
        "    axs[0].grid()\n",
        "   \n",
        "    axs[1].plot(df1['APO'], label='APO', color = 'blue')\n",
        "\n",
        "\n",
        "    axs[1].legend(loc='upper left')\n",
        "    axs[1].grid()\n"
      ],
      "metadata": {
        "id": "A-uFo3p3Lmu9"
      },
      "execution_count": null,
      "outputs": []
    },
    {
      "cell_type": "markdown",
      "source": [],
      "metadata": {
        "id": "1Ezth11bL2U5"
      }
    },
    {
      "cell_type": "code",
      "source": [
        "show_APO(df, 'Sun Pharma')"
      ],
      "metadata": {
        "colab": {
          "base_uri": "https://localhost:8080/",
          "height": 961
        },
        "id": "iLGaIHu1L2r4",
        "outputId": "77b8f181-d8f1-44ae-c763-3c2d6666d2d2"
      },
      "execution_count": null,
      "outputs": [
        {
          "output_type": "display_data",
          "data": {
            "text/plain": [
              "<Figure size 1440x1080 with 2 Axes>"
            ],
            "image/png": "[encoded data removed]"
          },
          "metadata": {
            "needs_background": "light"
          }
        }
      ]
    },
    {
      "cell_type": "markdown",
      "source": [
        "# Strategy and Calculating return \n",
        "### Strategy \n",
        "buy  when APO becomes positive and \n",
        "sell when apo becomes negative \n",
        "### return calculation \n",
        "First made two list Buy and sell and then  will append the indices of  the  buys and sell signals in their  respective lists \n",
        "and after that merged them into a dataframe and calculated the returns "
      ],
      "metadata": {
        "id": "-LPEAPh_PrCd"
      }
    },
    {
      "cell_type": "code",
      "source": [
        "def find_returns_APO(dataset):\n",
        "# Create empty lists to store buy and sell signals\n",
        "  buy = []\n",
        "  sell = []\n",
        "\n",
        " # Create a flag to track whether a position is currently open\n",
        "  position = False\n",
        "\n",
        "  \n",
        "  for i in range(len(dataset)):\n",
        "    if dataset.APO[i] >0:\n",
        "\n",
        "      if position == False:\n",
        "        buy.append(i)\n",
        "\n",
        "        position = True\n",
        "\n",
        "    elif dataset.APO[i] < 0:\n",
        "\n",
        "      if position == True:\n",
        "        sell.append(i)\n",
        "        \n",
        "        position = False\n",
        "  # Concatenate the closing prices at the buy and sell signal indices from dataset1\n",
        "  merged= pd.concat([dataset.iloc[buy].Close , dataset.iloc[sell].Close] , axis=1)\n",
        "# Set the column names of the DataFrame to 'Buy' and 'Sell'\n",
        "  merged.columns = ['Buy', 'Sell']\n",
        "\n",
        "  totalprofit = merged.shift(-1).Sell-merged.Buy\n",
        "  \n",
        "  percent_profits = (merged.shift(-1).Sell-merged.Buy) / merged.Buy\n",
        "    \n",
        "  print(merged)\n",
        "#    uncomment for the number of trades \n",
        "  print (\"return  =\")\n",
        "  return percent_profits.sum()"
      ],
      "metadata": {
        "id": "3GkqjAg_L3Ao"
      },
      "execution_count": null,
      "outputs": []
    },
    {
      "cell_type": "code",
      "source": [
        "find_returns_APO( df )"
      ],
      "metadata": {
        "colab": {
          "base_uri": "https://localhost:8080/"
        },
        "id": "eFg0BBQHLmxU",
        "outputId": "2a6cd4d3-2b05-43db-89fe-0334285154ae"
      },
      "execution_count": null,
      "outputs": [
        {
          "output_type": "stream",
          "name": "stdout",
          "text": [
            "                                  Buy        Sell\n",
            "Date                                             \n",
            "2021-09-16 00:00:00+05:30  772.399170         NaN\n",
            "2021-09-17 00:00:00+05:30         NaN  761.372681\n",
            "2021-09-29 00:00:00+05:30  802.314087         NaN\n",
            "2021-11-04 00:00:00+05:30         NaN  786.639709\n",
            "2021-12-24 00:00:00+05:30  776.700989         NaN\n",
            "2022-02-28 00:00:00+05:30         NaN  841.138428\n",
            "2022-03-10 00:00:00+05:30  866.704468         NaN\n",
            "2022-05-06 00:00:00+05:30         NaN  880.409485\n",
            "2022-05-25 00:00:00+05:30  908.218201         NaN\n",
            "2022-05-30 00:00:00+05:30         NaN  885.393127\n",
            "2022-07-13 00:00:00+05:30  857.335266         NaN\n",
            "2022-09-01 00:00:00+05:30         NaN  871.849976\n",
            "2022-09-09 00:00:00+05:30  890.000000         NaN\n",
            "2022-09-12 00:00:00+05:30         NaN  887.700012\n",
            "2022-09-13 00:00:00+05:30  890.150024         NaN\n",
            "2022-09-14 00:00:00+05:30         NaN  883.750000\n",
            "2022-09-21 00:00:00+05:30  905.299988         NaN\n",
            "2022-12-13 00:00:00+05:30         NaN  994.650024\n",
            "return  =\n"
          ]
        },
        {
          "output_type": "execute_result",
          "data": {
            "text/plain": [
              "0.1456845332563086"
            ]
          },
          "metadata": {},
          "execution_count": 26
        }
      ]
    },
    {
      "cell_type": "code",
      "source": [],
      "metadata": {
        "id": "OCGpMhJiLmzk"
      },
      "execution_count": null,
      "outputs": []
    },
    {
      "cell_type": "markdown",
      "source": [],
      "metadata": {
        "id": "J_z2NMmiM03m"
      }
    },
    {
      "cell_type": "code",
      "source": [],
      "metadata": {
        "id": "xEyNqGVCLm12"
      },
      "execution_count": null,
      "outputs": []
    },
    {
      "cell_type": "code",
      "source": [],
      "metadata": {
        "id": "8NEt-h0JLm4P"
      },
      "execution_count": null,
      "outputs": []
    }
  ]
}