{
  "nbformat": 4,
  "nbformat_minor": 0,
  "metadata": {
    "colab": {
      "provenance": []
    },
    "kernelspec": {
      "name": "python3",
      "display_name": "Python 3"
    },
    "language_info": {
      "name": "python"
    }
  },
  "cells": [
    {
      "cell_type": "code",
      "execution_count": null,
      "metadata": {
        "colab": {
          "base_uri": "https://localhost:8080/"
        },
        "id": "rmxqY9xK1Lgh",
        "outputId": "ac428459-aa5a-4be3-dba1-dea9b7fbb13c"
      },
      "outputs": [
        {
          "output_type": "stream",
          "name": "stdout",
          "text": [
            "Looking in indexes: https://pypi.org/simple, https://us-python.pkg.dev/colab-wheels/public/simple/\n",
            "Collecting yfinance\n",
            "  Downloading yfinance-0.2.1-py2.py3-none-any.whl (50 kB)\n",
            "\u001b[K     |████████████████████████████████| 50 kB 2.8 MB/s \n",
            "\u001b[?25hCollecting beautifulsoup4>=4.11.1\n",
            "  Downloading beautifulsoup4-4.11.1-py3-none-any.whl (128 kB)\n",
            "\u001b[K     |████████████████████████████████| 128 kB 9.6 MB/s \n",
            "\u001b[?25hCollecting cryptography>=3.3.2\n",
            "  Downloading cryptography-38.0.4-cp36-abi3-manylinux_2_24_x86_64.whl (4.0 MB)\n",
            "\u001b[K     |████████████████████████████████| 4.0 MB 53.7 MB/s \n",
            "\u001b[?25hCollecting requests>=2.26\n",
            "  Downloading requests-2.28.1-py3-none-any.whl (62 kB)\n",
            "\u001b[K     |████████████████████████████████| 62 kB 1.4 MB/s \n",
            "\u001b[?25hCollecting html5lib>=1.1\n",
            "  Downloading html5lib-1.1-py2.py3-none-any.whl (112 kB)\n",
            "\u001b[K     |████████████████████████████████| 112 kB 61.9 MB/s \n",
            "\u001b[?25hRequirement already satisfied: pytz>=2022.5 in /usr/local/lib/python3.8/dist-packages (from yfinance) (2022.6)\n",
            "Requirement already satisfied: appdirs>=1.4.4 in /usr/local/lib/python3.8/dist-packages (from yfinance) (1.4.4)\n",
            "Requirement already satisfied: numpy>=1.16.5 in /usr/local/lib/python3.8/dist-packages (from yfinance) (1.21.6)\n",
            "Collecting frozendict>=2.3.4\n",
            "  Downloading frozendict-2.3.4-cp38-cp38-manylinux_2_17_x86_64.manylinux2014_x86_64.whl (110 kB)\n",
            "\u001b[K     |████████████████████████████████| 110 kB 48.0 MB/s \n",
            "\u001b[?25hRequirement already satisfied: lxml>=4.9.1 in /usr/local/lib/python3.8/dist-packages (from yfinance) (4.9.2)\n",
            "Requirement already satisfied: pandas>=1.3.0 in /usr/local/lib/python3.8/dist-packages (from yfinance) (1.3.5)\n",
            "Requirement already satisfied: multitasking>=0.0.7 in /usr/local/lib/python3.8/dist-packages (from yfinance) (0.0.11)\n",
            "Collecting soupsieve>1.2\n",
            "  Downloading soupsieve-2.3.2.post1-py3-none-any.whl (37 kB)\n",
            "Requirement already satisfied: cffi>=1.12 in /usr/local/lib/python3.8/dist-packages (from cryptography>=3.3.2->yfinance) (1.15.1)\n",
            "Requirement already satisfied: pycparser in /usr/local/lib/python3.8/dist-packages (from cffi>=1.12->cryptography>=3.3.2->yfinance) (2.21)\n",
            "Requirement already satisfied: webencodings in /usr/local/lib/python3.8/dist-packages (from html5lib>=1.1->yfinance) (0.5.1)\n",
            "Requirement already satisfied: six>=1.9 in /usr/local/lib/python3.8/dist-packages (from html5lib>=1.1->yfinance) (1.15.0)\n",
            "Requirement already satisfied: python-dateutil>=2.7.3 in /usr/local/lib/python3.8/dist-packages (from pandas>=1.3.0->yfinance) (2.8.2)\n",
            "Requirement already satisfied: certifi>=2017.4.17 in /usr/local/lib/python3.8/dist-packages (from requests>=2.26->yfinance) (2022.12.7)\n",
            "Requirement already satisfied: idna<4,>=2.5 in /usr/local/lib/python3.8/dist-packages (from requests>=2.26->yfinance) (2.10)\n",
            "Requirement already satisfied: charset-normalizer<3,>=2 in /usr/local/lib/python3.8/dist-packages (from requests>=2.26->yfinance) (2.1.1)\n",
            "Requirement already satisfied: urllib3<1.27,>=1.21.1 in /usr/local/lib/python3.8/dist-packages (from requests>=2.26->yfinance) (1.24.3)\n",
            "Installing collected packages: soupsieve, requests, html5lib, frozendict, cryptography, beautifulsoup4, yfinance\n",
            "  Attempting uninstall: requests\n",
            "    Found existing installation: requests 2.23.0\n",
            "    Uninstalling requests-2.23.0:\n",
            "      Successfully uninstalled requests-2.23.0\n",
            "  Attempting uninstall: html5lib\n",
            "    Found existing installation: html5lib 1.0.1\n",
            "    Uninstalling html5lib-1.0.1:\n",
            "      Successfully uninstalled html5lib-1.0.1\n",
            "  Attempting uninstall: beautifulsoup4\n",
            "    Found existing installation: beautifulsoup4 4.6.3\n",
            "    Uninstalling beautifulsoup4-4.6.3:\n",
            "      Successfully uninstalled beautifulsoup4-4.6.3\n",
            "Successfully installed beautifulsoup4-4.11.1 cryptography-38.0.4 frozendict-2.3.4 html5lib-1.1 requests-2.28.1 soupsieve-2.3.2.post1 yfinance-0.2.1\n"
          ]
        }
      ],
      "source": [
        "!pip install yfinance"
      ]
    },
    {
      "cell_type": "code",
      "source": [
        "import numpy as np\n",
        "import pandas as pd\n",
        "import yfinance as yf\n",
        "import matplotlib.pyplot as plt"
      ],
      "metadata": {
        "id": "7BEcEihk1Xls"
      },
      "execution_count": null,
      "outputs": []
    },
    {
      "cell_type": "markdown",
      "source": [
        "#Getting Stock Data"
      ],
      "metadata": {
        "id": "Qe68VLZd5OYc"
      }
    },
    {
      "cell_type": "code",
      "source": [
        "def get_stock_data(data): #returns closing prices of the stocks in data\n",
        "\n",
        "  stock_data = yf.download(data, start=\"2019-12-10\" ,end= \"2022-12-10\")\n",
        "\n",
        "  return stock_data"
      ],
      "metadata": {
        "id": "6OWMQZnx1h2H"
      },
      "execution_count": null,
      "outputs": []
    },
    {
      "cell_type": "markdown",
      "source": [
        "#Double Exponential Moving Average"
      ],
      "metadata": {
        "id": "sNYq8zAg2zzd"
      }
    },
    {
      "cell_type": "markdown",
      "source": [
        "##Calculating Double Exponential Moving Average"
      ],
      "metadata": {
        "id": "DD-iyEV6P5ck"
      }
    },
    {
      "cell_type": "markdown",
      "source": [
        "\\begin{align}\n",
        "  DEMA_n = 2 × EMA_n - EMA\\;of\\;EMA_n\n",
        "\\end{align}\n",
        "\n",
        "where<br>\n",
        "$n$ is the look back period"
      ],
      "metadata": {
        "id": "vJObyjWFNvgY"
      }
    },
    {
      "cell_type": "code",
      "source": [
        "def double_exponential_moving_average(data, period): # returns double exponential moving average of the series data with a n = period\n",
        "\n",
        "  ema = data.ewm(span=period).mean()\n",
        "  ema_of_ema = ema.ewm(span=period).mean()\n",
        "\n",
        "  dema = 2 * ema - ema_of_ema\n",
        "\n",
        "  dema.dropna(inplace=True)\n",
        "\n",
        "  return dema"
      ],
      "metadata": {
        "id": "bIRaCbOz6jMi"
      },
      "execution_count": null,
      "outputs": []
    },
    {
      "cell_type": "markdown",
      "source": [
        "Here, \n",
        "\n",
        "short_double_exponential_moving_average_series has $n = 20$<br>\n",
        "long_double_exponential_moving_average_series has $n = 50$"
      ],
      "metadata": {
        "id": "4WMv2eF7Oicp"
      }
    },
    {
      "cell_type": "code",
      "source": [
        "short_double_exponential_moving_average_series = double_exponential_moving_average(closing_prices, 20)\n",
        "long_double_exponential_moving_average_series = double_exponential_moving_average(closing_prices, 50)\n",
        "short_double_exponential_moving_average_series"
      ],
      "metadata": {
        "colab": {
          "base_uri": "https://localhost:8080/"
        },
        "id": "JdI78SxQ80rP",
        "outputId": "fceeb41c-506b-44bc-d9ee-163d8d739880"
      },
      "execution_count": null,
      "outputs": [
        {
          "output_type": "execute_result",
          "data": {
            "text/plain": [
              "Date\n",
              "2019-12-10    297.422333\n",
              "2019-12-11    298.076137\n",
              "2019-12-12    299.780595\n",
              "2019-12-13    300.560891\n",
              "2019-12-16    301.819661\n",
              "                 ...    \n",
              "2022-12-05    402.533744\n",
              "2022-12-06    401.331820\n",
              "2022-12-07    400.142575\n",
              "2022-12-08    399.645607\n",
              "2022-12-09    398.656966\n",
              "Name: Adj Close, Length: 757, dtype: float64"
            ]
          },
          "metadata": {},
          "execution_count": 8
        }
      ]
    },
    {
      "cell_type": "markdown",
      "source": [
        "##Plotting Long and Short DEMAs"
      ],
      "metadata": {
        "id": "NCYANUizEQxR"
      }
    },
    {
      "cell_type": "code",
      "source": [
        "def plot_double_exponential_moving_averages(dema_series_long, dema_series_short, data): # plots long and short DEMA with stock closing prices\n",
        "\n",
        "  plt.figure(figsize=(14,6),)\n",
        "  l1 = plt.plot(data, c='g')\n",
        "  l2 = plt.plot(dema_series_long, c='red')\n",
        "  l3 = plt.plot(dema_series_short, c='orange')\n",
        "  plt.ylabel('Stock Closing Price')\n",
        "  plt.xlabel('Date')\n",
        "  plt.title('Stock Closing Price Along with Double Exponential Moving Averages')\n",
        "  plt.legend(['Stock Closing Price', 'Long Double Exponential Moving Average', 'Short Double Exponential Moving Average'], loc='upper left');\n"
      ],
      "metadata": {
        "id": "dZTWOyc79AOj"
      },
      "execution_count": null,
      "outputs": []
    },
    {
      "cell_type": "code",
      "source": [
        "plot_double_exponential_moving_averages(long_double_exponential_moving_average_series, short_double_exponential_moving_average_series, closing_prices)"
      ],
      "metadata": {
        "colab": {
          "base_uri": "https://localhost:8080/",
          "height": 404
        },
        "id": "e3EMFFVfACMj",
        "outputId": "89330642-6364-4854-aaa3-c498b535da61"
      },
      "execution_count": null,
      "outputs": [
        {
          "output_type": "display_data",
          "data": {
            "text/plain": [
              "<Figure size 1008x432 with 1 Axes>"
            ],
            "image/png": "[encoded data removed]"
          },
          "metadata": {
            "needs_background": "light"
          }
        }
      ]
    },
    {
      "cell_type": "markdown",
      "source": [
        "##Strategy"
      ],
      "metadata": {
        "id": "uHRDNLDMEZsk"
      }
    },
    {
      "cell_type": "markdown",
      "source": [
        "When<br> \n",
        "Short DEMA crosses above long DEMA, buy.<br>\n",
        "Short DEMA crosses below long DEMA, sell.\n"
      ],
      "metadata": {
        "id": "kRZwP5l3EfY-"
      }
    },
    {
      "cell_type": "code",
      "source": [
        "def generating_trading_signals(data, short_dema, long_dema): # generates a dataframe signal which will be used to plot trading signals and calculate CAGR\n",
        "\n",
        "  signal = pd.DataFrame()\n",
        "  signal['Close'] = data\n",
        "  signal['Short DEMA'] = short_dema\n",
        "  signal['Long DEMA'] = long_dema\n",
        "  buy_price = []\n",
        "  sell_price = []\n",
        "\n",
        "  #flag is true when short DEMA > long DEMA\n",
        "  #flag is false when long DEMA > short DEMA\n",
        "  #This variable ensures trades only happen when the two lines cross\n",
        "  flag = False\n",
        "\n",
        "  for i in range(0, len(data)):\n",
        "\n",
        "    if signal['Short DEMA'][i] > signal['Long DEMA'][i] and flag == False:\n",
        "      buy_price.append(signal['Close'][i])\n",
        "      sell_price.append(np.nan)\n",
        "      flag = True\n",
        "\n",
        "    elif signal['Long DEMA'][i] > signal['Short DEMA'][i] and flag == True:\n",
        "      buy_price.append(np.nan)\n",
        "      sell_price.append(signal['Close'][i])\n",
        "      flag = False\n",
        "\n",
        "    else:\n",
        "      buy_price.append(np.nan)\n",
        "      sell_price.append(np.nan)\n",
        "\n",
        "  signal['Buy'] = buy_price\n",
        "  signal['Sell'] = sell_price\n",
        "  \n",
        "  return signal"
      ],
      "metadata": {
        "id": "BBlJm5r_ALkp"
      },
      "execution_count": null,
      "outputs": []
    },
    {
      "cell_type": "code",
      "source": [
        "signals = generating_trading_signals(closing_prices, short_double_exponential_moving_average_series, long_double_exponential_moving_average_series)\n",
        "signals"
      ],
      "metadata": {
        "colab": {
          "base_uri": "https://localhost:8080/",
          "height": 455
        },
        "id": "CBq705QbGFnR",
        "outputId": "1ead7a39-9552-41bb-da5d-3d88395af4db"
      },
      "execution_count": null,
      "outputs": [
        {
          "output_type": "execute_result",
          "data": {
            "text/plain": [
              "                 Close  Short DEMA   Long DEMA         Buy  Sell\n",
              "Date                                                            \n",
              "2019-12-10  297.422333  297.422333  297.422333         NaN   NaN\n",
              "2019-12-11  298.266632  298.076137  298.063916  298.266632   NaN\n",
              "2019-12-12  300.837402  299.780595  299.701663         NaN   NaN\n",
              "2019-12-13  301.017639  300.560891  300.465689         NaN   NaN\n",
              "2019-12-16  303.085663  301.819661  301.648304         NaN   NaN\n",
              "...                ...         ...         ...         ...   ...\n",
              "2022-12-05  397.763458  402.533744  390.815534         NaN   NaN\n",
              "2022-12-06  392.029785  401.331820  391.018453         NaN   NaN\n",
              "2022-12-07  391.362854  400.142575  391.156042         NaN   NaN\n",
              "2022-12-08  394.428772  399.645607  391.519118         NaN   NaN\n",
              "2022-12-09  391.482300  398.656966  391.632186         NaN   NaN\n",
              "\n",
              "[757 rows x 5 columns]"
            ],
            "text/html": [
              "\n",
              "  <div id=\"df-8dcd55e3-c4f4-41e7-bd82-617ffa92e9ea\">\n",
              "    <div class=\"colab-df-container\">\n",
              "      <div>\n",
              "<style scoped>\n",
              "    .dataframe tbody tr th:only-of-type {\n",
              "        vertical-align: middle;\n",
              "    }\n",
              "\n",
              "    .dataframe tbody tr th {\n",
              "        vertical-align: top;\n",
              "    }\n",
              "\n",
              "    .dataframe thead th {\n",
              "        text-align: right;\n",
              "    }\n",
              "</style>\n",
              "<table border=\"1\" class=\"dataframe\">\n",
              "  <thead>\n",
              "    <tr style=\"text-align: right;\">\n",
              "      <th></th>\n",
              "      <th>Close</th>\n",
              "      <th>Short DEMA</th>\n",
              "      <th>Long DEMA</th>\n",
              "      <th>Buy</th>\n",
              "      <th>Sell</th>\n",
              "    </tr>\n",
              "    <tr>\n",
              "      <th>Date</th>\n",
              "      <th></th>\n",
              "      <th></th>\n",
              "      <th></th>\n",
              "      <th></th>\n",
              "      <th></th>\n",
              "    </tr>\n",
              "  </thead>\n",
              "  <tbody>\n",
              "    <tr>\n",
              "      <th>2019-12-10</th>\n",
              "      <td>297.422333</td>\n",
              "      <td>297.422333</td>\n",
              "      <td>297.422333</td>\n",
              "      <td>NaN</td>\n",
              "      <td>NaN</td>\n",
              "    </tr>\n",
              "    <tr>\n",
              "      <th>2019-12-11</th>\n",
              "      <td>298.266632</td>\n",
              "      <td>298.076137</td>\n",
              "      <td>298.063916</td>\n",
              "      <td>298.266632</td>\n",
              "      <td>NaN</td>\n",
              "    </tr>\n",
              "    <tr>\n",
              "      <th>2019-12-12</th>\n",
              "      <td>300.837402</td>\n",
              "      <td>299.780595</td>\n",
              "      <td>299.701663</td>\n",
              "      <td>NaN</td>\n",
              "      <td>NaN</td>\n",
              "    </tr>\n",
              "    <tr>\n",
              "      <th>2019-12-13</th>\n",
              "      <td>301.017639</td>\n",
              "      <td>300.560891</td>\n",
              "      <td>300.465689</td>\n",
              "      <td>NaN</td>\n",
              "      <td>NaN</td>\n",
              "    </tr>\n",
              "    <tr>\n",
              "      <th>2019-12-16</th>\n",
              "      <td>303.085663</td>\n",
              "      <td>301.819661</td>\n",
              "      <td>301.648304</td>\n",
              "      <td>NaN</td>\n",
              "      <td>NaN</td>\n",
              "    </tr>\n",
              "    <tr>\n",
              "      <th>...</th>\n",
              "      <td>...</td>\n",
              "      <td>...</td>\n",
              "      <td>...</td>\n",
              "      <td>...</td>\n",
              "      <td>...</td>\n",
              "    </tr>\n",
              "    <tr>\n",
              "      <th>2022-12-05</th>\n",
              "      <td>397.763458</td>\n",
              "      <td>402.533744</td>\n",
              "      <td>390.815534</td>\n",
              "      <td>NaN</td>\n",
              "      <td>NaN</td>\n",
              "    </tr>\n",
              "    <tr>\n",
              "      <th>2022-12-06</th>\n",
              "      <td>392.029785</td>\n",
              "      <td>401.331820</td>\n",
              "      <td>391.018453</td>\n",
              "      <td>NaN</td>\n",
              "      <td>NaN</td>\n",
              "    </tr>\n",
              "    <tr>\n",
              "      <th>2022-12-07</th>\n",
              "      <td>391.362854</td>\n",
              "      <td>400.142575</td>\n",
              "      <td>391.156042</td>\n",
              "      <td>NaN</td>\n",
              "      <td>NaN</td>\n",
              "    </tr>\n",
              "    <tr>\n",
              "      <th>2022-12-08</th>\n",
              "      <td>394.428772</td>\n",
              "      <td>399.645607</td>\n",
              "      <td>391.519118</td>\n",
              "      <td>NaN</td>\n",
              "      <td>NaN</td>\n",
              "    </tr>\n",
              "    <tr>\n",
              "      <th>2022-12-09</th>\n",
              "      <td>391.482300</td>\n",
              "      <td>398.656966</td>\n",
              "      <td>391.632186</td>\n",
              "      <td>NaN</td>\n",
              "      <td>NaN</td>\n",
              "    </tr>\n",
              "  </tbody>\n",
              "</table>\n",
              "<p>757 rows × 5 columns</p>\n",
              "</div>\n",
              "      <button class=\"colab-df-convert\" onclick=\"convertToInteractive('df-8dcd55e3-c4f4-41e7-bd82-617ffa92e9ea')\"\n",
              "              title=\"Convert this dataframe to an interactive table.\"\n",
              "              style=\"display:none;\">\n",
              "        \n",
              "  <svg xmlns=\"http://www.w3.org/2000/svg\" height=\"24px\"viewBox=\"0 0 24 24\"\n",
              "       width=\"24px\">\n",
              "    <path d=\"M0 0h24v24H0V0z\" fill=\"none\"/>\n",
              "    <path d=\"M18.56 5.44l.94 2.06.94-2.06 2.06-.94-2.06-.94-.94-2.06-.94 2.06-2.06.94zm-11 1L8.5 8.5l.94-2.06 2.06-.94-2.06-.94L8.5 2.5l-.94 2.06-2.06.94zm10 10l.94 2.06.94-2.06 2.06-.94-2.06-.94-.94-2.06-.94 2.06-2.06.94z\"/><path d=\"M17.41 7.96l-1.37-1.37c-.4-.4-.92-.59-1.43-.59-.52 0-1.04.2-1.43.59L10.3 9.45l-7.72 7.72c-.78.78-.78 2.05 0 2.83L4 21.41c.39.39.9.59 1.41.59.51 0 1.02-.2 1.41-.59l7.78-7.78 2.81-2.81c.8-.78.8-2.07 0-2.86zM5.41 20L4 18.59l7.72-7.72 1.47 1.35L5.41 20z\"/>\n",
              "  </svg>\n",
              "      </button>\n",
              "      \n",
              "  <style>\n",
              "    .colab-df-container {\n",
              "      display:flex;\n",
              "      flex-wrap:wrap;\n",
              "      gap: 12px;\n",
              "    }\n",
              "\n",
              "    .colab-df-convert {\n",
              "      background-color: #E8F0FE;\n",
              "      border: none;\n",
              "      border-radius: 50%;\n",
              "      cursor: pointer;\n",
              "      display: none;\n",
              "      fill: #1967D2;\n",
              "      height: 32px;\n",
              "      padding: 0 0 0 0;\n",
              "      width: 32px;\n",
              "    }\n",
              "\n",
              "    .colab-df-convert:hover {\n",
              "      background-color: #E2EBFA;\n",
              "      box-shadow: 0px 1px 2px rgba(60, 64, 67, 0.3), 0px 1px 3px 1px rgba(60, 64, 67, 0.15);\n",
              "      fill: #174EA6;\n",
              "    }\n",
              "\n",
              "    [theme=dark] .colab-df-convert {\n",
              "      background-color: #3B4455;\n",
              "      fill: #D2E3FC;\n",
              "    }\n",
              "\n",
              "    [theme=dark] .colab-df-convert:hover {\n",
              "      background-color: #434B5C;\n",
              "      box-shadow: 0px 1px 3px 1px rgba(0, 0, 0, 0.15);\n",
              "      filter: drop-shadow(0px 1px 2px rgba(0, 0, 0, 0.3));\n",
              "      fill: #FFFFFF;\n",
              "    }\n",
              "  </style>\n",
              "\n",
              "      <script>\n",
              "        const buttonEl =\n",
              "          document.querySelector('#df-8dcd55e3-c4f4-41e7-bd82-617ffa92e9ea button.colab-df-convert');\n",
              "        buttonEl.style.display =\n",
              "          google.colab.kernel.accessAllowed ? 'block' : 'none';\n",
              "\n",
              "        async function convertToInteractive(key) {\n",
              "          const element = document.querySelector('#df-8dcd55e3-c4f4-41e7-bd82-617ffa92e9ea');\n",
              "          const dataTable =\n",
              "            await google.colab.kernel.invokeFunction('convertToInteractive',\n",
              "                                                     [key], {});\n",
              "          if (!dataTable) return;\n",
              "\n",
              "          const docLinkHtml = 'Like what you see? Visit the ' +\n",
              "            '<a target=\"_blank\" href=https://colab.research.google.com/notebooks/data_table.ipynb>data table notebook</a>'\n",
              "            + ' to learn more about interactive tables.';\n",
              "          element.innerHTML = '';\n",
              "          dataTable['output_type'] = 'display_data';\n",
              "          await google.colab.output.renderOutput(dataTable, element);\n",
              "          const docLink = document.createElement('div');\n",
              "          docLink.innerHTML = docLinkHtml;\n",
              "          element.appendChild(docLink);\n",
              "        }\n",
              "      </script>\n",
              "    </div>\n",
              "  </div>\n",
              "  "
            ]
          },
          "metadata": {},
          "execution_count": 12
        }
      ]
    },
    {
      "cell_type": "markdown",
      "source": [
        "##Plotting Trading Signals"
      ],
      "metadata": {
        "id": "-eZsCbs5PuFf"
      }
    },
    {
      "cell_type": "code",
      "source": [
        "def plotting_signals_data(signal): # plots important columns from signal\n",
        "\n",
        "  plt.figure(figsize=(14,6),)\n",
        "  l1 = plt.plot(signal['Close'], c='blue', alpha=0.4)\n",
        "  l2 = plt.plot(signal['Long DEMA'], c='yellow', alpha=0.4)\n",
        "  l3 = plt.plot(signal['Short DEMA'], c='orange', alpha=0.4)\n",
        "  plt.scatter(signal.index, signal['Buy'], c='green', label='Buy Signal', marker='^')\n",
        "  plt.scatter(signal.index, signal['Sell'], c='red', label='Sell Signal', marker='v')\n",
        "  plt.ylabel('Stock Closing Price')\n",
        "  plt.xlabel('Date')\n",
        "  plt.title('Sell Signal Plot')\n",
        "  plt.legend(['Stock Closing Price', 'Long Double Exponential Moving Average', 'Short Double Exponential Moving Average'], loc='upper left');"
      ],
      "metadata": {
        "id": "tiX08AMQGRax"
      },
      "execution_count": null,
      "outputs": []
    },
    {
      "cell_type": "code",
      "source": [
        "plotting_signals_data(signals)"
      ],
      "metadata": {
        "colab": {
          "base_uri": "https://localhost:8080/",
          "height": 404
        },
        "id": "opJIzvQSJUgK",
        "outputId": "6f072aeb-22b0-42a6-f348-852148e97850"
      },
      "execution_count": null,
      "outputs": [
        {
          "output_type": "display_data",
          "data": {
            "text/plain": [
              "<Figure size 1008x432 with 1 Axes>"
            ],
            "image/png": "[encoded data removed]"
          },
          "metadata": {
            "needs_background": "light"
          }
        }
      ]
    },
    {
      "cell_type": "markdown",
      "source": [
        "##Calculating CAGR"
      ],
      "metadata": {
        "id": "B9_XGYruQDyq"
      }
    },
    {
      "cell_type": "code",
      "source": [
        "def profit_and_loss_calculation(signal): # calculated CAGR with signal dataframe\n",
        "\n",
        "  #In this function i assume that we start off with a capital of 100,000\n",
        "  #Upon encountering a buy signal no_of_stocks amount of stocks are bought\n",
        "  #Upon encountering a sell signal no_of_stocks amount of stocks are sold\n",
        "  #In the end of the simulation, all stocks held are sold off at the current market price\n",
        "  initial_capital = 100000\n",
        "  no_of_stocks = initial_capital // max(signal['Close'])\n",
        "  assets_in_cash = 100000\n",
        "  stocks_held = 0\n",
        "  buy_check = signal['Buy'].isna()\n",
        "  sell_check = signal['Sell'].isna()\n",
        "\n",
        "  for i in range(0, len(signal)):\n",
        "    \n",
        "    if buy_check[i] == False:\n",
        "      assets_in_cash -= no_of_stocks * signal['Buy'][i]\n",
        "      stocks_held += no_of_stocks\n",
        "\n",
        "    if sell_check[i] == False:\n",
        "      assets_in_cash += no_of_stocks * signal['Sell'][i]\n",
        "      stocks_held -= no_of_stocks\n",
        "\n",
        "  final_assets = assets_in_cash + stocks_held * signal['Close'][len(signal) - 1]\n",
        "  no_of_days = (signal.index[-1] - signal.index[0]).days\n",
        "  returns = ((final_assets / initial_capital) ** (float(no_of_days) / (3 * 365)) - 1) * 100\n",
        "  \n",
        "  return returns"
      ],
      "metadata": {
        "id": "sH-sKtIhJXQM"
      },
      "execution_count": null,
      "outputs": []
    },
    {
      "cell_type": "markdown",
      "source": [
        "CAGR of The Double Exponential Moving Average Strategy Explained Above"
      ],
      "metadata": {
        "id": "0UMYddv5PV--"
      }
    },
    {
      "cell_type": "code",
      "source": [
        "print('CAGR =', profit_and_loss_calculation(signals), '%')"
      ],
      "metadata": {
        "colab": {
          "base_uri": "https://localhost:8080/"
        },
        "id": "Sp3w1JRSLoFT",
        "outputId": "78b7dfea-b73b-4526-b366-e665bb50de84"
      },
      "execution_count": null,
      "outputs": [
        {
          "output_type": "stream",
          "name": "stdout",
          "text": [
            "CAGR = -2.7746651611328166 %\n"
          ]
        }
      ]
    },
    {
      "cell_type": "markdown",
      "source": [
        "#Average Directional Index\n",
        "\n"
      ],
      "metadata": {
        "id": "rqZ75Zokpn91"
      }
    },
    {
      "cell_type": "markdown",
      "source": [
        "##Getting Stock Data"
      ],
      "metadata": {
        "id": "1ok8Wt_MUwYR"
      }
    },
    {
      "cell_type": "code",
      "source": [
        "data = ['SPY']\n",
        "stock_df = get_stock_data(data)\n",
        "stock_df"
      ],
      "metadata": {
        "colab": {
          "base_uri": "https://localhost:8080/",
          "height": 472
        },
        "id": "47F_B_dNUvoW",
        "outputId": "27b78343-2b02-4c2d-b0b5-c9e4c99aef78"
      },
      "execution_count": null,
      "outputs": [
        {
          "output_type": "stream",
          "name": "stdout",
          "text": [
            "\r[*********************100%***********************]  1 of 1 completed\n"
          ]
        },
        {
          "output_type": "execute_result",
          "data": {
            "text/plain": [
              "                  Open        High         Low       Close   Adj Close  \\\n",
              "Date                                                                     \n",
              "2019-12-10  313.820007  314.549988  312.809998  313.529999  297.422302   \n",
              "2019-12-11  314.029999  314.700012  313.440002  314.420013  298.266632   \n",
              "2019-12-12  314.429993  317.989990  314.170013  317.130005  300.837402   \n",
              "2019-12-13  316.869995  318.670013  316.019989  317.320007  301.017639   \n",
              "2019-12-16  319.220001  320.149994  317.250000  319.500000  303.085632   \n",
              "...                ...         ...         ...         ...         ...   \n",
              "2022-12-05  403.950012  404.929993  398.170013  399.589996  397.763458   \n",
              "2022-12-06  399.420013  399.989990  391.640015  393.829987  392.029785   \n",
              "2022-12-07  392.940002  395.640015  391.970001  393.160004  391.362854   \n",
              "2022-12-08  395.140015  397.359985  393.269989  396.239990  394.428772   \n",
              "2022-12-09  394.940002  397.619995  393.149994  393.279999  391.482300   \n",
              "\n",
              "              Volume  \n",
              "Date                  \n",
              "2019-12-10  52649800  \n",
              "2019-12-11  53429100  \n",
              "2019-12-12  96389600  \n",
              "2019-12-13  81503900  \n",
              "2019-12-16  82749700  \n",
              "...              ...  \n",
              "2022-12-05  77289800  \n",
              "2022-12-06  77972200  \n",
              "2022-12-07  65927900  \n",
              "2022-12-08  60737900  \n",
              "2022-12-09  81367500  \n",
              "\n",
              "[757 rows x 6 columns]"
            ],
            "text/html": [
              "\n",
              "  <div id=\"df-76d68c0f-32a5-4799-8747-85879167a7e3\">\n",
              "    <div class=\"colab-df-container\">\n",
              "      <div>\n",
              "<style scoped>\n",
              "    .dataframe tbody tr th:only-of-type {\n",
              "        vertical-align: middle;\n",
              "    }\n",
              "\n",
              "    .dataframe tbody tr th {\n",
              "        vertical-align: top;\n",
              "    }\n",
              "\n",
              "    .dataframe thead th {\n",
              "        text-align: right;\n",
              "    }\n",
              "</style>\n",
              "<table border=\"1\" class=\"dataframe\">\n",
              "  <thead>\n",
              "    <tr style=\"text-align: right;\">\n",
              "      <th></th>\n",
              "      <th>Open</th>\n",
              "      <th>High</th>\n",
              "      <th>Low</th>\n",
              "      <th>Close</th>\n",
              "      <th>Adj Close</th>\n",
              "      <th>Volume</th>\n",
              "    </tr>\n",
              "    <tr>\n",
              "      <th>Date</th>\n",
              "      <th></th>\n",
              "      <th></th>\n",
              "      <th></th>\n",
              "      <th></th>\n",
              "      <th></th>\n",
              "      <th></th>\n",
              "    </tr>\n",
              "  </thead>\n",
              "  <tbody>\n",
              "    <tr>\n",
              "      <th>2019-12-10</th>\n",
              "      <td>313.820007</td>\n",
              "      <td>314.549988</td>\n",
              "      <td>312.809998</td>\n",
              "      <td>313.529999</td>\n",
              "      <td>297.422302</td>\n",
              "      <td>52649800</td>\n",
              "    </tr>\n",
              "    <tr>\n",
              "      <th>2019-12-11</th>\n",
              "      <td>314.029999</td>\n",
              "      <td>314.700012</td>\n",
              "      <td>313.440002</td>\n",
              "      <td>314.420013</td>\n",
              "      <td>298.266632</td>\n",
              "      <td>53429100</td>\n",
              "    </tr>\n",
              "    <tr>\n",
              "      <th>2019-12-12</th>\n",
              "      <td>314.429993</td>\n",
              "      <td>317.989990</td>\n",
              "      <td>314.170013</td>\n",
              "      <td>317.130005</td>\n",
              "      <td>300.837402</td>\n",
              "      <td>96389600</td>\n",
              "    </tr>\n",
              "    <tr>\n",
              "      <th>2019-12-13</th>\n",
              "      <td>316.869995</td>\n",
              "      <td>318.670013</td>\n",
              "      <td>316.019989</td>\n",
              "      <td>317.320007</td>\n",
              "      <td>301.017639</td>\n",
              "      <td>81503900</td>\n",
              "    </tr>\n",
              "    <tr>\n",
              "      <th>2019-12-16</th>\n",
              "      <td>319.220001</td>\n",
              "      <td>320.149994</td>\n",
              "      <td>317.250000</td>\n",
              "      <td>319.500000</td>\n",
              "      <td>303.085632</td>\n",
              "      <td>82749700</td>\n",
              "    </tr>\n",
              "    <tr>\n",
              "      <th>...</th>\n",
              "      <td>...</td>\n",
              "      <td>...</td>\n",
              "      <td>...</td>\n",
              "      <td>...</td>\n",
              "      <td>...</td>\n",
              "      <td>...</td>\n",
              "    </tr>\n",
              "    <tr>\n",
              "      <th>2022-12-05</th>\n",
              "      <td>403.950012</td>\n",
              "      <td>404.929993</td>\n",
              "      <td>398.170013</td>\n",
              "      <td>399.589996</td>\n",
              "      <td>397.763458</td>\n",
              "      <td>77289800</td>\n",
              "    </tr>\n",
              "    <tr>\n",
              "      <th>2022-12-06</th>\n",
              "      <td>399.420013</td>\n",
              "      <td>399.989990</td>\n",
              "      <td>391.640015</td>\n",
              "      <td>393.829987</td>\n",
              "      <td>392.029785</td>\n",
              "      <td>77972200</td>\n",
              "    </tr>\n",
              "    <tr>\n",
              "      <th>2022-12-07</th>\n",
              "      <td>392.940002</td>\n",
              "      <td>395.640015</td>\n",
              "      <td>391.970001</td>\n",
              "      <td>393.160004</td>\n",
              "      <td>391.362854</td>\n",
              "      <td>65927900</td>\n",
              "    </tr>\n",
              "    <tr>\n",
              "      <th>2022-12-08</th>\n",
              "      <td>395.140015</td>\n",
              "      <td>397.359985</td>\n",
              "      <td>393.269989</td>\n",
              "      <td>396.239990</td>\n",
              "      <td>394.428772</td>\n",
              "      <td>60737900</td>\n",
              "    </tr>\n",
              "    <tr>\n",
              "      <th>2022-12-09</th>\n",
              "      <td>394.940002</td>\n",
              "      <td>397.619995</td>\n",
              "      <td>393.149994</td>\n",
              "      <td>393.279999</td>\n",
              "      <td>391.482300</td>\n",
              "      <td>81367500</td>\n",
              "    </tr>\n",
              "  </tbody>\n",
              "</table>\n",
              "<p>757 rows × 6 columns</p>\n",
              "</div>\n",
              "      <button class=\"colab-df-convert\" onclick=\"convertToInteractive('df-76d68c0f-32a5-4799-8747-85879167a7e3')\"\n",
              "              title=\"Convert this dataframe to an interactive table.\"\n",
              "              style=\"display:none;\">\n",
              "        \n",
              "  <svg xmlns=\"http://www.w3.org/2000/svg\" height=\"24px\"viewBox=\"0 0 24 24\"\n",
              "       width=\"24px\">\n",
              "    <path d=\"M0 0h24v24H0V0z\" fill=\"none\"/>\n",
              "    <path d=\"M18.56 5.44l.94 2.06.94-2.06 2.06-.94-2.06-.94-.94-2.06-.94 2.06-2.06.94zm-11 1L8.5 8.5l.94-2.06 2.06-.94-2.06-.94L8.5 2.5l-.94 2.06-2.06.94zm10 10l.94 2.06.94-2.06 2.06-.94-2.06-.94-.94-2.06-.94 2.06-2.06.94z\"/><path d=\"M17.41 7.96l-1.37-1.37c-.4-.4-.92-.59-1.43-.59-.52 0-1.04.2-1.43.59L10.3 9.45l-7.72 7.72c-.78.78-.78 2.05 0 2.83L4 21.41c.39.39.9.59 1.41.59.51 0 1.02-.2 1.41-.59l7.78-7.78 2.81-2.81c.8-.78.8-2.07 0-2.86zM5.41 20L4 18.59l7.72-7.72 1.47 1.35L5.41 20z\"/>\n",
              "  </svg>\n",
              "      </button>\n",
              "      \n",
              "  <style>\n",
              "    .colab-df-container {\n",
              "      display:flex;\n",
              "      flex-wrap:wrap;\n",
              "      gap: 12px;\n",
              "    }\n",
              "\n",
              "    .colab-df-convert {\n",
              "      background-color: #E8F0FE;\n",
              "      border: none;\n",
              "      border-radius: 50%;\n",
              "      cursor: pointer;\n",
              "      display: none;\n",
              "      fill: #1967D2;\n",
              "      height: 32px;\n",
              "      padding: 0 0 0 0;\n",
              "      width: 32px;\n",
              "    }\n",
              "\n",
              "    .colab-df-convert:hover {\n",
              "      background-color: #E2EBFA;\n",
              "      box-shadow: 0px 1px 2px rgba(60, 64, 67, 0.3), 0px 1px 3px 1px rgba(60, 64, 67, 0.15);\n",
              "      fill: #174EA6;\n",
              "    }\n",
              "\n",
              "    [theme=dark] .colab-df-convert {\n",
              "      background-color: #3B4455;\n",
              "      fill: #D2E3FC;\n",
              "    }\n",
              "\n",
              "    [theme=dark] .colab-df-convert:hover {\n",
              "      background-color: #434B5C;\n",
              "      box-shadow: 0px 1px 3px 1px rgba(0, 0, 0, 0.15);\n",
              "      filter: drop-shadow(0px 1px 2px rgba(0, 0, 0, 0.3));\n",
              "      fill: #FFFFFF;\n",
              "    }\n",
              "  </style>\n",
              "\n",
              "      <script>\n",
              "        const buttonEl =\n",
              "          document.querySelector('#df-76d68c0f-32a5-4799-8747-85879167a7e3 button.colab-df-convert');\n",
              "        buttonEl.style.display =\n",
              "          google.colab.kernel.accessAllowed ? 'block' : 'none';\n",
              "\n",
              "        async function convertToInteractive(key) {\n",
              "          const element = document.querySelector('#df-76d68c0f-32a5-4799-8747-85879167a7e3');\n",
              "          const dataTable =\n",
              "            await google.colab.kernel.invokeFunction('convertToInteractive',\n",
              "                                                     [key], {});\n",
              "          if (!dataTable) return;\n",
              "\n",
              "          const docLinkHtml = 'Like what you see? Visit the ' +\n",
              "            '<a target=\"_blank\" href=https://colab.research.google.com/notebooks/data_table.ipynb>data table notebook</a>'\n",
              "            + ' to learn more about interactive tables.';\n",
              "          element.innerHTML = '';\n",
              "          dataTable['output_type'] = 'display_data';\n",
              "          await google.colab.output.renderOutput(dataTable, element);\n",
              "          const docLink = document.createElement('div');\n",
              "          docLink.innerHTML = docLinkHtml;\n",
              "          element.appendChild(docLink);\n",
              "        }\n",
              "      </script>\n",
              "    </div>\n",
              "  </div>\n",
              "  "
            ]
          },
          "metadata": {},
          "execution_count": 104
        }
      ]
    },
    {
      "cell_type": "markdown",
      "source": [
        "##Calculating True Range"
      ],
      "metadata": {
        "id": "zKwn0Q0Tz8vy"
      }
    },
    {
      "cell_type": "markdown",
      "source": [
        "\\begin{align}\n",
        "  TR = max(H - L, |H - P.C|, |L - P.C|)\n",
        "\\end{align}\n",
        "\n",
        "where,<br>\n",
        "$TR$ is the true range,<br>\n",
        "$H$ is the current high,<br>\n",
        "$L$ is the current low,<br>\n",
        "$P.C$ is the previous close"
      ],
      "metadata": {
        "id": "nW6rih3X0DoK"
      }
    },
    {
      "cell_type": "code",
      "source": [
        "def calculate_true_range(data):\n",
        "\n",
        "  high = data['High']\n",
        "  low = data['Low']\n",
        "  close = data['Adj Close']\n",
        "  \n",
        "  tr1 = pd.DataFrame(high - low)\n",
        "  tr2 = pd.DataFrame(abs(high - close.shift(1)))\n",
        "  tr3 = pd.DataFrame(abs(low - close.shift(1)))\n",
        "  frames = [tr1, tr2, tr3]\n",
        "  tr = pd.concat(frames, axis = 1, join = 'inner').max(axis = 1)\n",
        "\n",
        "  return tr"
      ],
      "metadata": {
        "id": "8kGY5ezHLrlP"
      },
      "execution_count": null,
      "outputs": []
    },
    {
      "cell_type": "markdown",
      "source": [],
      "metadata": {
        "id": "7GoI2xK91YWC"
      }
    },
    {
      "cell_type": "code",
      "source": [
        "true_range = calculate_true_range(stock_df)\n",
        "true_range"
      ],
      "metadata": {
        "colab": {
          "base_uri": "https://localhost:8080/"
        },
        "id": "_85At9MbWp4t",
        "outputId": "aba69ecb-1891-40ac-d6e6-fe6fe4b830c4"
      },
      "execution_count": null,
      "outputs": [
        {
          "output_type": "execute_result",
          "data": {
            "text/plain": [
              "Date\n",
              "2019-12-10     1.739990\n",
              "2019-12-11    17.277710\n",
              "2019-12-12    19.723358\n",
              "2019-12-13    17.832611\n",
              "2019-12-16    19.132355\n",
              "                ...    \n",
              "2022-12-05     6.880005\n",
              "2022-12-06     8.349976\n",
              "2022-12-07     3.670013\n",
              "2022-12-08     5.997131\n",
              "2022-12-09     4.470001\n",
              "Length: 757, dtype: float64"
            ]
          },
          "metadata": {},
          "execution_count": 106
        }
      ]
    },
    {
      "cell_type": "markdown",
      "source": [
        "##Calculating Average True Range"
      ],
      "metadata": {
        "id": "dFVythYS1fxC"
      }
    },
    {
      "cell_type": "markdown",
      "source": [
        "\\begin{align}\n",
        "  ATR = SMA(TR) \n",
        "\\end{align}\n",
        "\n",
        "where,<br>\n",
        "$ATR$ is the average true range,<br>\n",
        "$SMA(TR)$ is the simple moving average of the true range.<br>\n",
        "\n",
        "Here, we will take the period of the $SMA$ to be 14"
      ],
      "metadata": {
        "id": "GHXOYcow1h_C"
      }
    },
    {
      "cell_type": "code",
      "source": [
        "def calculate_average_true_range(data, period):\n",
        "\n",
        "  tr = calculate_true_range(data)\n",
        "  atr = tr.rolling(period).mean()\n",
        "\n",
        "  return atr"
      ],
      "metadata": {
        "id": "EYpk8m-GWuZg"
      },
      "execution_count": null,
      "outputs": []
    },
    {
      "cell_type": "code",
      "source": [
        "average_true_range = calculate_average_true_range(stock_df, 14)\n",
        "average_true_range"
      ],
      "metadata": {
        "colab": {
          "base_uri": "https://localhost:8080/"
        },
        "id": "2WQUrjPxZdbO",
        "outputId": "d8421d3a-8ecf-4c30-95c6-6259d2e1ba70"
      },
      "execution_count": null,
      "outputs": [
        {
          "output_type": "execute_result",
          "data": {
            "text/plain": [
              "Date\n",
              "2019-12-10         NaN\n",
              "2019-12-11         NaN\n",
              "2019-12-12         NaN\n",
              "2019-12-13         NaN\n",
              "2019-12-16         NaN\n",
              "                ...   \n",
              "2022-12-05    5.828990\n",
              "2022-12-06    5.782839\n",
              "2022-12-07    5.831412\n",
              "2022-12-08    5.916207\n",
              "2022-12-09    5.851772\n",
              "Length: 757, dtype: float64"
            ]
          },
          "metadata": {},
          "execution_count": 108
        }
      ]
    },
    {
      "cell_type": "markdown",
      "source": [
        "##Calculating Directional Movement"
      ],
      "metadata": {
        "id": "hi434YWM17tF"
      }
    },
    {
      "cell_type": "markdown",
      "source": [
        "\\begin{align}\n",
        "  +DM = max(H - P.H, 0) \n",
        "\\end{align}\n",
        "\n",
        "\\begin{align}\n",
        "  -DM = max(P.L - L, 0)  \n",
        "\\end{align}\n",
        "\n",
        "where,<br>\n",
        "$+DM$ is the positive directional movement,<br>\n",
        "$-DM$ is the negative directional movement,<br>\n",
        "$H$ is the current high,<br>\n",
        "$P.H$ is the previous high,<br>\n",
        "$L$ is the current low,<br>\n",
        "$P.L$ is the previous low<br>"
      ],
      "metadata": {
        "id": "D2rP11tl2Abg"
      }
    },
    {
      "cell_type": "code",
      "source": [
        "def calculate_directional_movement(data):\n",
        "\n",
        "  high = data['High']\n",
        "  low = data['Low']\n",
        "  difference = pd.DataFrame()\n",
        "\n",
        "  plus_dm = high.diff()\n",
        "  minus_dm = -low.diff()\n",
        "  plus_dm[plus_dm < 0] = 0\n",
        "  minus_dm[minus_dm < 0] = 0\n",
        "\n",
        "  difference['+ DM'] = plus_dm\n",
        "  difference['- DM'] = minus_dm\n",
        "\n",
        "  return difference"
      ],
      "metadata": {
        "id": "A4z1nl8eZkoT"
      },
      "execution_count": null,
      "outputs": []
    },
    {
      "cell_type": "code",
      "source": [
        "directional_movements = calculate_directional_movement(stock_df)\n",
        "directional_movements"
      ],
      "metadata": {
        "colab": {
          "base_uri": "https://localhost:8080/",
          "height": 455
        },
        "id": "z0Cx8h_Sar9f",
        "outputId": "6f0101d3-9e38-4c77-c6c5-3713d64959f2"
      },
      "execution_count": null,
      "outputs": [
        {
          "output_type": "execute_result",
          "data": {
            "text/plain": [
              "                + DM      - DM\n",
              "Date                          \n",
              "2019-12-31       NaN       NaN\n",
              "2020-01-02  2.760010  0.000000\n",
              "2020-01-03  0.000000  1.429993\n",
              "2020-01-06  0.089996  0.740021\n",
              "2020-01-07  0.000000  0.000000\n",
              "...              ...       ...\n",
              "2022-12-05  0.000000  3.970001\n",
              "2022-12-06  0.000000  6.529999\n",
              "2022-12-07  0.000000  0.000000\n",
              "2022-12-08  1.719971  0.000000\n",
              "2022-12-09  0.260010  0.119995\n",
              "\n",
              "[743 rows x 2 columns]"
            ],
            "text/html": [
              "\n",
              "  <div id=\"df-34f35fea-f5a8-49d1-866e-09a357d70359\">\n",
              "    <div class=\"colab-df-container\">\n",
              "      <div>\n",
              "<style scoped>\n",
              "    .dataframe tbody tr th:only-of-type {\n",
              "        vertical-align: middle;\n",
              "    }\n",
              "\n",
              "    .dataframe tbody tr th {\n",
              "        vertical-align: top;\n",
              "    }\n",
              "\n",
              "    .dataframe thead th {\n",
              "        text-align: right;\n",
              "    }\n",
              "</style>\n",
              "<table border=\"1\" class=\"dataframe\">\n",
              "  <thead>\n",
              "    <tr style=\"text-align: right;\">\n",
              "      <th></th>\n",
              "      <th>+ DM</th>\n",
              "      <th>- DM</th>\n",
              "    </tr>\n",
              "    <tr>\n",
              "      <th>Date</th>\n",
              "      <th></th>\n",
              "      <th></th>\n",
              "    </tr>\n",
              "  </thead>\n",
              "  <tbody>\n",
              "    <tr>\n",
              "      <th>2019-12-31</th>\n",
              "      <td>NaN</td>\n",
              "      <td>NaN</td>\n",
              "    </tr>\n",
              "    <tr>\n",
              "      <th>2020-01-02</th>\n",
              "      <td>2.760010</td>\n",
              "      <td>0.000000</td>\n",
              "    </tr>\n",
              "    <tr>\n",
              "      <th>2020-01-03</th>\n",
              "      <td>0.000000</td>\n",
              "      <td>1.429993</td>\n",
              "    </tr>\n",
              "    <tr>\n",
              "      <th>2020-01-06</th>\n",
              "      <td>0.089996</td>\n",
              "      <td>0.740021</td>\n",
              "    </tr>\n",
              "    <tr>\n",
              "      <th>2020-01-07</th>\n",
              "      <td>0.000000</td>\n",
              "      <td>0.000000</td>\n",
              "    </tr>\n",
              "    <tr>\n",
              "      <th>...</th>\n",
              "      <td>...</td>\n",
              "      <td>...</td>\n",
              "    </tr>\n",
              "    <tr>\n",
              "      <th>2022-12-05</th>\n",
              "      <td>0.000000</td>\n",
              "      <td>3.970001</td>\n",
              "    </tr>\n",
              "    <tr>\n",
              "      <th>2022-12-06</th>\n",
              "      <td>0.000000</td>\n",
              "      <td>6.529999</td>\n",
              "    </tr>\n",
              "    <tr>\n",
              "      <th>2022-12-07</th>\n",
              "      <td>0.000000</td>\n",
              "      <td>0.000000</td>\n",
              "    </tr>\n",
              "    <tr>\n",
              "      <th>2022-12-08</th>\n",
              "      <td>1.719971</td>\n",
              "      <td>0.000000</td>\n",
              "    </tr>\n",
              "    <tr>\n",
              "      <th>2022-12-09</th>\n",
              "      <td>0.260010</td>\n",
              "      <td>0.119995</td>\n",
              "    </tr>\n",
              "  </tbody>\n",
              "</table>\n",
              "<p>743 rows × 2 columns</p>\n",
              "</div>\n",
              "      <button class=\"colab-df-convert\" onclick=\"convertToInteractive('df-34f35fea-f5a8-49d1-866e-09a357d70359')\"\n",
              "              title=\"Convert this dataframe to an interactive table.\"\n",
              "              style=\"display:none;\">\n",
              "        \n",
              "  <svg xmlns=\"http://www.w3.org/2000/svg\" height=\"24px\"viewBox=\"0 0 24 24\"\n",
              "       width=\"24px\">\n",
              "    <path d=\"M0 0h24v24H0V0z\" fill=\"none\"/>\n",
              "    <path d=\"M18.56 5.44l.94 2.06.94-2.06 2.06-.94-2.06-.94-.94-2.06-.94 2.06-2.06.94zm-11 1L8.5 8.5l.94-2.06 2.06-.94-2.06-.94L8.5 2.5l-.94 2.06-2.06.94zm10 10l.94 2.06.94-2.06 2.06-.94-2.06-.94-.94-2.06-.94 2.06-2.06.94z\"/><path d=\"M17.41 7.96l-1.37-1.37c-.4-.4-.92-.59-1.43-.59-.52 0-1.04.2-1.43.59L10.3 9.45l-7.72 7.72c-.78.78-.78 2.05 0 2.83L4 21.41c.39.39.9.59 1.41.59.51 0 1.02-.2 1.41-.59l7.78-7.78 2.81-2.81c.8-.78.8-2.07 0-2.86zM5.41 20L4 18.59l7.72-7.72 1.47 1.35L5.41 20z\"/>\n",
              "  </svg>\n",
              "      </button>\n",
              "      \n",
              "  <style>\n",
              "    .colab-df-container {\n",
              "      display:flex;\n",
              "      flex-wrap:wrap;\n",
              "      gap: 12px;\n",
              "    }\n",
              "\n",
              "    .colab-df-convert {\n",
              "      background-color: #E8F0FE;\n",
              "      border: none;\n",
              "      border-radius: 50%;\n",
              "      cursor: pointer;\n",
              "      display: none;\n",
              "      fill: #1967D2;\n",
              "      height: 32px;\n",
              "      padding: 0 0 0 0;\n",
              "      width: 32px;\n",
              "    }\n",
              "\n",
              "    .colab-df-convert:hover {\n",
              "      background-color: #E2EBFA;\n",
              "      box-shadow: 0px 1px 2px rgba(60, 64, 67, 0.3), 0px 1px 3px 1px rgba(60, 64, 67, 0.15);\n",
              "      fill: #174EA6;\n",
              "    }\n",
              "\n",
              "    [theme=dark] .colab-df-convert {\n",
              "      background-color: #3B4455;\n",
              "      fill: #D2E3FC;\n",
              "    }\n",
              "\n",
              "    [theme=dark] .colab-df-convert:hover {\n",
              "      background-color: #434B5C;\n",
              "      box-shadow: 0px 1px 3px 1px rgba(0, 0, 0, 0.15);\n",
              "      filter: drop-shadow(0px 1px 2px rgba(0, 0, 0, 0.3));\n",
              "      fill: #FFFFFF;\n",
              "    }\n",
              "  </style>\n",
              "\n",
              "      <script>\n",
              "        const buttonEl =\n",
              "          document.querySelector('#df-34f35fea-f5a8-49d1-866e-09a357d70359 button.colab-df-convert');\n",
              "        buttonEl.style.display =\n",
              "          google.colab.kernel.accessAllowed ? 'block' : 'none';\n",
              "\n",
              "        async function convertToInteractive(key) {\n",
              "          const element = document.querySelector('#df-34f35fea-f5a8-49d1-866e-09a357d70359');\n",
              "          const dataTable =\n",
              "            await google.colab.kernel.invokeFunction('convertToInteractive',\n",
              "                                                     [key], {});\n",
              "          if (!dataTable) return;\n",
              "\n",
              "          const docLinkHtml = 'Like what you see? Visit the ' +\n",
              "            '<a target=\"_blank\" href=https://colab.research.google.com/notebooks/data_table.ipynb>data table notebook</a>'\n",
              "            + ' to learn more about interactive tables.';\n",
              "          element.innerHTML = '';\n",
              "          dataTable['output_type'] = 'display_data';\n",
              "          await google.colab.output.renderOutput(dataTable, element);\n",
              "          const docLink = document.createElement('div');\n",
              "          docLink.innerHTML = docLinkHtml;\n",
              "          element.appendChild(docLink);\n",
              "        }\n",
              "      </script>\n",
              "    </div>\n",
              "  </div>\n",
              "  "
            ]
          },
          "metadata": {},
          "execution_count": 148
        }
      ]
    },
    {
      "cell_type": "markdown",
      "source": [
        "##Calculating Directional Indices"
      ],
      "metadata": {
        "id": "dv38WDf234Td"
      }
    },
    {
      "cell_type": "markdown",
      "source": [
        "\\begin{align}\n",
        "  +DI = \\frac{EMA(+DM)}{ATR} \\times 100 \n",
        "\\end{align}\n",
        "\n",
        "\\begin{align}\n",
        "  -DI = |\\frac{EMA(-DM)}{ATR} \\times 100| \n",
        "\\end{align}\n",
        "\n",
        "where,<br>\n",
        "$+DI$ is the positive directional index,<br>\n",
        "$-DI$ is the negative directional index,<br>\n",
        "$EMA(+DM)$ is the 14 day exponential moving average of the positive directional movement,<br>\n",
        "$EMA(-DM)$ is the 14 day exponential moving average of the negative directional movement."
      ],
      "metadata": {
        "id": "c9YAs7xN37GV"
      }
    },
    {
      "cell_type": "code",
      "source": [
        "def calculate_directional_indices(data, period):\n",
        "  \n",
        "  dis = pd.DataFrame()\n",
        "  dms = calculate_directional_movement(data)\n",
        "  atr = calculate_average_true_range(data, period)\n",
        "\n",
        "  dis['+ DI'] = 100 * (dms['+ DM'].ewm(alpha=1/period).mean() / atr)\n",
        "  dis['- DI'] = abs(100 * (dms['- DM'].ewm(alpha=1/period).mean() / atr))\n",
        "\n",
        "  return dis\n"
      ],
      "metadata": {
        "id": "xzf_ip_bazvq"
      },
      "execution_count": null,
      "outputs": []
    },
    {
      "cell_type": "code",
      "source": [
        "directional_indices = calculate_directional_indices(stock_df, 14)\n",
        "directional_indices"
      ],
      "metadata": {
        "colab": {
          "base_uri": "https://localhost:8080/",
          "height": 455
        },
        "id": "_dW5VTJycPG3",
        "outputId": "97d1eefa-4dc7-4f94-8b6e-6a21fe483c9e"
      },
      "execution_count": null,
      "outputs": [
        {
          "output_type": "execute_result",
          "data": {
            "text/plain": [
              "                 + DI       - DI\n",
              "Date                            \n",
              "2019-12-31        NaN        NaN\n",
              "2020-01-02        NaN        NaN\n",
              "2020-01-03        NaN        NaN\n",
              "2020-01-06        NaN        NaN\n",
              "2020-01-07        NaN        NaN\n",
              "...               ...        ...\n",
              "2022-12-05  37.546636  27.634809\n",
              "2022-12-06  35.142980  33.931421\n",
              "2022-12-07  32.360950  31.245303\n",
              "2022-12-08  31.695348  28.597654\n",
              "2022-12-09  30.072849  26.993839\n",
              "\n",
              "[743 rows x 2 columns]"
            ],
            "text/html": [
              "\n",
              "  <div id=\"df-dde02a1e-b8ad-4576-a0f9-791412731981\">\n",
              "    <div class=\"colab-df-container\">\n",
              "      <div>\n",
              "<style scoped>\n",
              "    .dataframe tbody tr th:only-of-type {\n",
              "        vertical-align: middle;\n",
              "    }\n",
              "\n",
              "    .dataframe tbody tr th {\n",
              "        vertical-align: top;\n",
              "    }\n",
              "\n",
              "    .dataframe thead th {\n",
              "        text-align: right;\n",
              "    }\n",
              "</style>\n",
              "<table border=\"1\" class=\"dataframe\">\n",
              "  <thead>\n",
              "    <tr style=\"text-align: right;\">\n",
              "      <th></th>\n",
              "      <th>+ DI</th>\n",
              "      <th>- DI</th>\n",
              "    </tr>\n",
              "    <tr>\n",
              "      <th>Date</th>\n",
              "      <th></th>\n",
              "      <th></th>\n",
              "    </tr>\n",
              "  </thead>\n",
              "  <tbody>\n",
              "    <tr>\n",
              "      <th>2019-12-31</th>\n",
              "      <td>NaN</td>\n",
              "      <td>NaN</td>\n",
              "    </tr>\n",
              "    <tr>\n",
              "      <th>2020-01-02</th>\n",
              "      <td>NaN</td>\n",
              "      <td>NaN</td>\n",
              "    </tr>\n",
              "    <tr>\n",
              "      <th>2020-01-03</th>\n",
              "      <td>NaN</td>\n",
              "      <td>NaN</td>\n",
              "    </tr>\n",
              "    <tr>\n",
              "      <th>2020-01-06</th>\n",
              "      <td>NaN</td>\n",
              "      <td>NaN</td>\n",
              "    </tr>\n",
              "    <tr>\n",
              "      <th>2020-01-07</th>\n",
              "      <td>NaN</td>\n",
              "      <td>NaN</td>\n",
              "    </tr>\n",
              "    <tr>\n",
              "      <th>...</th>\n",
              "      <td>...</td>\n",
              "      <td>...</td>\n",
              "    </tr>\n",
              "    <tr>\n",
              "      <th>2022-12-05</th>\n",
              "      <td>37.546636</td>\n",
              "      <td>27.634809</td>\n",
              "    </tr>\n",
              "    <tr>\n",
              "      <th>2022-12-06</th>\n",
              "      <td>35.142980</td>\n",
              "      <td>33.931421</td>\n",
              "    </tr>\n",
              "    <tr>\n",
              "      <th>2022-12-07</th>\n",
              "      <td>32.360950</td>\n",
              "      <td>31.245303</td>\n",
              "    </tr>\n",
              "    <tr>\n",
              "      <th>2022-12-08</th>\n",
              "      <td>31.695348</td>\n",
              "      <td>28.597654</td>\n",
              "    </tr>\n",
              "    <tr>\n",
              "      <th>2022-12-09</th>\n",
              "      <td>30.072849</td>\n",
              "      <td>26.993839</td>\n",
              "    </tr>\n",
              "  </tbody>\n",
              "</table>\n",
              "<p>743 rows × 2 columns</p>\n",
              "</div>\n",
              "      <button class=\"colab-df-convert\" onclick=\"convertToInteractive('df-dde02a1e-b8ad-4576-a0f9-791412731981')\"\n",
              "              title=\"Convert this dataframe to an interactive table.\"\n",
              "              style=\"display:none;\">\n",
              "        \n",
              "  <svg xmlns=\"http://www.w3.org/2000/svg\" height=\"24px\"viewBox=\"0 0 24 24\"\n",
              "       width=\"24px\">\n",
              "    <path d=\"M0 0h24v24H0V0z\" fill=\"none\"/>\n",
              "    <path d=\"M18.56 5.44l.94 2.06.94-2.06 2.06-.94-2.06-.94-.94-2.06-.94 2.06-2.06.94zm-11 1L8.5 8.5l.94-2.06 2.06-.94-2.06-.94L8.5 2.5l-.94 2.06-2.06.94zm10 10l.94 2.06.94-2.06 2.06-.94-2.06-.94-.94-2.06-.94 2.06-2.06.94z\"/><path d=\"M17.41 7.96l-1.37-1.37c-.4-.4-.92-.59-1.43-.59-.52 0-1.04.2-1.43.59L10.3 9.45l-7.72 7.72c-.78.78-.78 2.05 0 2.83L4 21.41c.39.39.9.59 1.41.59.51 0 1.02-.2 1.41-.59l7.78-7.78 2.81-2.81c.8-.78.8-2.07 0-2.86zM5.41 20L4 18.59l7.72-7.72 1.47 1.35L5.41 20z\"/>\n",
              "  </svg>\n",
              "      </button>\n",
              "      \n",
              "  <style>\n",
              "    .colab-df-container {\n",
              "      display:flex;\n",
              "      flex-wrap:wrap;\n",
              "      gap: 12px;\n",
              "    }\n",
              "\n",
              "    .colab-df-convert {\n",
              "      background-color: #E8F0FE;\n",
              "      border: none;\n",
              "      border-radius: 50%;\n",
              "      cursor: pointer;\n",
              "      display: none;\n",
              "      fill: #1967D2;\n",
              "      height: 32px;\n",
              "      padding: 0 0 0 0;\n",
              "      width: 32px;\n",
              "    }\n",
              "\n",
              "    .colab-df-convert:hover {\n",
              "      background-color: #E2EBFA;\n",
              "      box-shadow: 0px 1px 2px rgba(60, 64, 67, 0.3), 0px 1px 3px 1px rgba(60, 64, 67, 0.15);\n",
              "      fill: #174EA6;\n",
              "    }\n",
              "\n",
              "    [theme=dark] .colab-df-convert {\n",
              "      background-color: #3B4455;\n",
              "      fill: #D2E3FC;\n",
              "    }\n",
              "\n",
              "    [theme=dark] .colab-df-convert:hover {\n",
              "      background-color: #434B5C;\n",
              "      box-shadow: 0px 1px 3px 1px rgba(0, 0, 0, 0.15);\n",
              "      filter: drop-shadow(0px 1px 2px rgba(0, 0, 0, 0.3));\n",
              "      fill: #FFFFFF;\n",
              "    }\n",
              "  </style>\n",
              "\n",
              "      <script>\n",
              "        const buttonEl =\n",
              "          document.querySelector('#df-dde02a1e-b8ad-4576-a0f9-791412731981 button.colab-df-convert');\n",
              "        buttonEl.style.display =\n",
              "          google.colab.kernel.accessAllowed ? 'block' : 'none';\n",
              "\n",
              "        async function convertToInteractive(key) {\n",
              "          const element = document.querySelector('#df-dde02a1e-b8ad-4576-a0f9-791412731981');\n",
              "          const dataTable =\n",
              "            await google.colab.kernel.invokeFunction('convertToInteractive',\n",
              "                                                     [key], {});\n",
              "          if (!dataTable) return;\n",
              "\n",
              "          const docLinkHtml = 'Like what you see? Visit the ' +\n",
              "            '<a target=\"_blank\" href=https://colab.research.google.com/notebooks/data_table.ipynb>data table notebook</a>'\n",
              "            + ' to learn more about interactive tables.';\n",
              "          element.innerHTML = '';\n",
              "          dataTable['output_type'] = 'display_data';\n",
              "          await google.colab.output.renderOutput(dataTable, element);\n",
              "          const docLink = document.createElement('div');\n",
              "          docLink.innerHTML = docLinkHtml;\n",
              "          element.appendChild(docLink);\n",
              "        }\n",
              "      </script>\n",
              "    </div>\n",
              "  </div>\n",
              "  "
            ]
          },
          "metadata": {},
          "execution_count": 150
        }
      ]
    },
    {
      "cell_type": "markdown",
      "source": [
        "##Calculating Directional Index"
      ],
      "metadata": {
        "id": "6uIn8Jaw47ZJ"
      }
    },
    {
      "cell_type": "markdown",
      "source": [
        "\\begin{align}\n",
        "  DI = |\\frac{(+DI) - (-DI)}{(+DI) + (-DI)}| \\times 100\n",
        "\\end{align}\n",
        "\n",
        "where,<br>\n",
        "$DI$ is the directional index"
      ],
      "metadata": {
        "id": "xjASI2Rk5COh"
      }
    },
    {
      "cell_type": "code",
      "source": [
        "def calculate_directional_index(data, period):\n",
        "\n",
        "  dis = calculate_directional_indices(data, period)\n",
        "  plus_di = dis['+ DI']\n",
        "  minus_di = dis['- DI']\n",
        "\n",
        "  di = (abs(plus_di - minus_di) / abs(plus_di + minus_di)) * 100\n",
        "\n",
        "  return di"
      ],
      "metadata": {
        "id": "0I1fSneXcVTS"
      },
      "execution_count": null,
      "outputs": []
    },
    {
      "cell_type": "code",
      "source": [
        "directional_index = calculate_directional_index(stock_df, 14)\n",
        "directional_index"
      ],
      "metadata": {
        "colab": {
          "base_uri": "https://localhost:8080/"
        },
        "id": "xad0ZzMEdD2X",
        "outputId": "a0a9caee-0421-44dd-c879-c96bd6d8f677"
      },
      "execution_count": null,
      "outputs": [
        {
          "output_type": "execute_result",
          "data": {
            "text/plain": [
              "Date\n",
              "2019-12-31          NaN\n",
              "2020-01-02          NaN\n",
              "2020-01-03          NaN\n",
              "2020-01-06          NaN\n",
              "2020-01-07          NaN\n",
              "                ...    \n",
              "2022-12-05    15.206517\n",
              "2022-12-06     1.753990\n",
              "2022-12-07     1.753990\n",
              "2022-12-08     5.137735\n",
              "2022-12-09     5.395460\n",
              "Length: 743, dtype: float64"
            ]
          },
          "metadata": {},
          "execution_count": 152
        }
      ]
    },
    {
      "cell_type": "markdown",
      "source": [
        "##Calculating Average Directional Index"
      ],
      "metadata": {
        "id": "Vb0OReOY5bt1"
      }
    },
    {
      "cell_type": "markdown",
      "source": [
        "\\begin{align}\n",
        "  ADI = EMA(\\frac{P.DI \\times 13 + DI}{14})\n",
        "\\end{align}\n",
        "\n",
        "where,<br>\n",
        "$ADI$ is the average directional index,<br>\n",
        "$P.DI$ is the previous directional index,<br>\n",
        "$EMA$ is the exponential moving average of the expression in ()"
      ],
      "metadata": {
        "id": "nFlsmdx35ep2"
      }
    },
    {
      "cell_type": "code",
      "source": [
        "def calculate_average_directional_index(data, period):\n",
        "\n",
        "  di = calculate_directional_index(data, period)\n",
        "\n",
        "  adi = (di.shift(1) * (period - 1) + di) / period\n",
        "  adi_smooth = adi.ewm(alpha=1/period).mean()\n",
        "\n",
        "  return adi_smooth"
      ],
      "metadata": {
        "id": "GAvQE6iwdPa1"
      },
      "execution_count": null,
      "outputs": []
    },
    {
      "cell_type": "code",
      "source": [
        "average_directional_index = calculate_average_directional_index(stock_df, 14)\n",
        "average_directional_index"
      ],
      "metadata": {
        "colab": {
          "base_uri": "https://localhost:8080/"
        },
        "id": "Cnb0MZTYd5yw",
        "outputId": "ed95e45a-79bd-4f13-b56d-627def942fdc"
      },
      "execution_count": null,
      "outputs": [
        {
          "output_type": "execute_result",
          "data": {
            "text/plain": [
              "Date\n",
              "2019-12-31          NaN\n",
              "2020-01-02          NaN\n",
              "2020-01-03          NaN\n",
              "2020-01-06          NaN\n",
              "2020-01-07          NaN\n",
              "                ...    \n",
              "2022-12-05    21.394855\n",
              "2022-12-06    20.884195\n",
              "2022-12-07    19.517752\n",
              "2022-12-08    18.266176\n",
              "2022-12-09    17.329745\n",
              "Length: 743, dtype: float64"
            ]
          },
          "metadata": {},
          "execution_count": 154
        }
      ]
    },
    {
      "cell_type": "code",
      "source": [
        "def  creating_final_relevant_dataframe(data, period):\n",
        "\n",
        "  #adding all relevant data to our dataframe\n",
        "\n",
        "  dis = calculate_directional_indices(data, period)\n",
        "  adi = calculate_average_directional_index(data, period)\n",
        "\n",
        "  data['+ DI'] = dis['+ DI']\n",
        "  data['- DI'] = dis['- DI']\n",
        "  data['average DI'] = adi\n",
        "  data.dropna(inplace=True)\n",
        "\n",
        "  return data"
      ],
      "metadata": {
        "id": "NLBnEjVWd5GN"
      },
      "execution_count": null,
      "outputs": []
    },
    {
      "cell_type": "code",
      "source": [
        "relevant_data = creating_final_relevant_dataframe(stock_df, 14)\n",
        "relevant_data"
      ],
      "metadata": {
        "colab": {
          "base_uri": "https://localhost:8080/",
          "height": 455
        },
        "id": "q4qHe1iIgBXj",
        "outputId": "a168dd13-7047-4d43-b66c-fdde5f27633c"
      },
      "execution_count": null,
      "outputs": [
        {
          "output_type": "execute_result",
          "data": {
            "text/plain": [
              "                  Open        High         Low       Close   Adj Close  \\\n",
              "Date                                                                     \n",
              "2020-01-22  332.239990  332.950012  331.170013  331.339996  315.862671   \n",
              "2020-01-23  330.630005  332.170013  329.410004  331.720001  316.224976   \n",
              "2020-01-24  332.440002  332.529999  327.359985  328.769989  313.412720   \n",
              "2020-01-27  323.029999  325.119995  322.660004  323.500000  308.388947   \n",
              "2020-01-28  325.059998  327.850006  323.600006  326.890015  311.620483   \n",
              "...                ...         ...         ...         ...         ...   \n",
              "2022-12-05  403.950012  404.929993  398.170013  399.589996  397.763458   \n",
              "2022-12-06  399.420013  399.989990  391.640015  393.829987  392.029785   \n",
              "2022-12-07  392.940002  395.640015  391.970001  393.160004  391.362854   \n",
              "2022-12-08  395.140015  397.359985  393.269989  396.239990  394.428772   \n",
              "2022-12-09  394.940002  397.619995  393.149994  393.279999  391.482300   \n",
              "\n",
              "              Volume       + DI       - DI  average DI  \n",
              "Date                                                    \n",
              "2020-01-22  48914900   5.087614   0.753459   71.900435  \n",
              "2020-01-23  51963000   4.580557   1.812728   71.948734  \n",
              "2020-01-24  87578400   4.289821   2.873524   61.078769  \n",
              "2020-01-27  84062500   3.940879   5.506010   49.513553  \n",
              "2020-01-28  63834000   5.079183   4.877393   41.673879  \n",
              "...              ...        ...        ...         ...  \n",
              "2022-12-05  77289800  37.546636  27.634809   21.394855  \n",
              "2022-12-06  77972200  35.142980  33.931421   20.884195  \n",
              "2022-12-07  65927900  32.360950  31.245303   19.517752  \n",
              "2022-12-08  60737900  31.695348  28.597654   18.266176  \n",
              "2022-12-09  81367500  30.072849  26.993839   17.329745  \n",
              "\n",
              "[729 rows x 9 columns]"
            ],
            "text/html": [
              "\n",
              "  <div id=\"df-ba19777a-a5cd-4bce-86ad-c1d963e1d7fb\">\n",
              "    <div class=\"colab-df-container\">\n",
              "      <div>\n",
              "<style scoped>\n",
              "    .dataframe tbody tr th:only-of-type {\n",
              "        vertical-align: middle;\n",
              "    }\n",
              "\n",
              "    .dataframe tbody tr th {\n",
              "        vertical-align: top;\n",
              "    }\n",
              "\n",
              "    .dataframe thead th {\n",
              "        text-align: right;\n",
              "    }\n",
              "</style>\n",
              "<table border=\"1\" class=\"dataframe\">\n",
              "  <thead>\n",
              "    <tr style=\"text-align: right;\">\n",
              "      <th></th>\n",
              "      <th>Open</th>\n",
              "      <th>High</th>\n",
              "      <th>Low</th>\n",
              "      <th>Close</th>\n",
              "      <th>Adj Close</th>\n",
              "      <th>Volume</th>\n",
              "      <th>+ DI</th>\n",
              "      <th>- DI</th>\n",
              "      <th>average DI</th>\n",
              "    </tr>\n",
              "    <tr>\n",
              "      <th>Date</th>\n",
              "      <th></th>\n",
              "      <th></th>\n",
              "      <th></th>\n",
              "      <th></th>\n",
              "      <th></th>\n",
              "      <th></th>\n",
              "      <th></th>\n",
              "      <th></th>\n",
              "      <th></th>\n",
              "    </tr>\n",
              "  </thead>\n",
              "  <tbody>\n",
              "    <tr>\n",
              "      <th>2020-01-22</th>\n",
              "      <td>332.239990</td>\n",
              "      <td>332.950012</td>\n",
              "      <td>331.170013</td>\n",
              "      <td>331.339996</td>\n",
              "      <td>315.862671</td>\n",
              "      <td>48914900</td>\n",
              "      <td>5.087614</td>\n",
              "      <td>0.753459</td>\n",
              "      <td>71.900435</td>\n",
              "    </tr>\n",
              "    <tr>\n",
              "      <th>2020-01-23</th>\n",
              "      <td>330.630005</td>\n",
              "      <td>332.170013</td>\n",
              "      <td>329.410004</td>\n",
              "      <td>331.720001</td>\n",
              "      <td>316.224976</td>\n",
              "      <td>51963000</td>\n",
              "      <td>4.580557</td>\n",
              "      <td>1.812728</td>\n",
              "      <td>71.948734</td>\n",
              "    </tr>\n",
              "    <tr>\n",
              "      <th>2020-01-24</th>\n",
              "      <td>332.440002</td>\n",
              "      <td>332.529999</td>\n",
              "      <td>327.359985</td>\n",
              "      <td>328.769989</td>\n",
              "      <td>313.412720</td>\n",
              "      <td>87578400</td>\n",
              "      <td>4.289821</td>\n",
              "      <td>2.873524</td>\n",
              "      <td>61.078769</td>\n",
              "    </tr>\n",
              "    <tr>\n",
              "      <th>2020-01-27</th>\n",
              "      <td>323.029999</td>\n",
              "      <td>325.119995</td>\n",
              "      <td>322.660004</td>\n",
              "      <td>323.500000</td>\n",
              "      <td>308.388947</td>\n",
              "      <td>84062500</td>\n",
              "      <td>3.940879</td>\n",
              "      <td>5.506010</td>\n",
              "      <td>49.513553</td>\n",
              "    </tr>\n",
              "    <tr>\n",
              "      <th>2020-01-28</th>\n",
              "      <td>325.059998</td>\n",
              "      <td>327.850006</td>\n",
              "      <td>323.600006</td>\n",
              "      <td>326.890015</td>\n",
              "      <td>311.620483</td>\n",
              "      <td>63834000</td>\n",
              "      <td>5.079183</td>\n",
              "      <td>4.877393</td>\n",
              "      <td>41.673879</td>\n",
              "    </tr>\n",
              "    <tr>\n",
              "      <th>...</th>\n",
              "      <td>...</td>\n",
              "      <td>...</td>\n",
              "      <td>...</td>\n",
              "      <td>...</td>\n",
              "      <td>...</td>\n",
              "      <td>...</td>\n",
              "      <td>...</td>\n",
              "      <td>...</td>\n",
              "      <td>...</td>\n",
              "    </tr>\n",
              "    <tr>\n",
              "      <th>2022-12-05</th>\n",
              "      <td>403.950012</td>\n",
              "      <td>404.929993</td>\n",
              "      <td>398.170013</td>\n",
              "      <td>399.589996</td>\n",
              "      <td>397.763458</td>\n",
              "      <td>77289800</td>\n",
              "      <td>37.546636</td>\n",
              "      <td>27.634809</td>\n",
              "      <td>21.394855</td>\n",
              "    </tr>\n",
              "    <tr>\n",
              "      <th>2022-12-06</th>\n",
              "      <td>399.420013</td>\n",
              "      <td>399.989990</td>\n",
              "      <td>391.640015</td>\n",
              "      <td>393.829987</td>\n",
              "      <td>392.029785</td>\n",
              "      <td>77972200</td>\n",
              "      <td>35.142980</td>\n",
              "      <td>33.931421</td>\n",
              "      <td>20.884195</td>\n",
              "    </tr>\n",
              "    <tr>\n",
              "      <th>2022-12-07</th>\n",
              "      <td>392.940002</td>\n",
              "      <td>395.640015</td>\n",
              "      <td>391.970001</td>\n",
              "      <td>393.160004</td>\n",
              "      <td>391.362854</td>\n",
              "      <td>65927900</td>\n",
              "      <td>32.360950</td>\n",
              "      <td>31.245303</td>\n",
              "      <td>19.517752</td>\n",
              "    </tr>\n",
              "    <tr>\n",
              "      <th>2022-12-08</th>\n",
              "      <td>395.140015</td>\n",
              "      <td>397.359985</td>\n",
              "      <td>393.269989</td>\n",
              "      <td>396.239990</td>\n",
              "      <td>394.428772</td>\n",
              "      <td>60737900</td>\n",
              "      <td>31.695348</td>\n",
              "      <td>28.597654</td>\n",
              "      <td>18.266176</td>\n",
              "    </tr>\n",
              "    <tr>\n",
              "      <th>2022-12-09</th>\n",
              "      <td>394.940002</td>\n",
              "      <td>397.619995</td>\n",
              "      <td>393.149994</td>\n",
              "      <td>393.279999</td>\n",
              "      <td>391.482300</td>\n",
              "      <td>81367500</td>\n",
              "      <td>30.072849</td>\n",
              "      <td>26.993839</td>\n",
              "      <td>17.329745</td>\n",
              "    </tr>\n",
              "  </tbody>\n",
              "</table>\n",
              "<p>729 rows × 9 columns</p>\n",
              "</div>\n",
              "      <button class=\"colab-df-convert\" onclick=\"convertToInteractive('df-ba19777a-a5cd-4bce-86ad-c1d963e1d7fb')\"\n",
              "              title=\"Convert this dataframe to an interactive table.\"\n",
              "              style=\"display:none;\">\n",
              "        \n",
              "  <svg xmlns=\"http://www.w3.org/2000/svg\" height=\"24px\"viewBox=\"0 0 24 24\"\n",
              "       width=\"24px\">\n",
              "    <path d=\"M0 0h24v24H0V0z\" fill=\"none\"/>\n",
              "    <path d=\"M18.56 5.44l.94 2.06.94-2.06 2.06-.94-2.06-.94-.94-2.06-.94 2.06-2.06.94zm-11 1L8.5 8.5l.94-2.06 2.06-.94-2.06-.94L8.5 2.5l-.94 2.06-2.06.94zm10 10l.94 2.06.94-2.06 2.06-.94-2.06-.94-.94-2.06-.94 2.06-2.06.94z\"/><path d=\"M17.41 7.96l-1.37-1.37c-.4-.4-.92-.59-1.43-.59-.52 0-1.04.2-1.43.59L10.3 9.45l-7.72 7.72c-.78.78-.78 2.05 0 2.83L4 21.41c.39.39.9.59 1.41.59.51 0 1.02-.2 1.41-.59l7.78-7.78 2.81-2.81c.8-.78.8-2.07 0-2.86zM5.41 20L4 18.59l7.72-7.72 1.47 1.35L5.41 20z\"/>\n",
              "  </svg>\n",
              "      </button>\n",
              "      \n",
              "  <style>\n",
              "    .colab-df-container {\n",
              "      display:flex;\n",
              "      flex-wrap:wrap;\n",
              "      gap: 12px;\n",
              "    }\n",
              "\n",
              "    .colab-df-convert {\n",
              "      background-color: #E8F0FE;\n",
              "      border: none;\n",
              "      border-radius: 50%;\n",
              "      cursor: pointer;\n",
              "      display: none;\n",
              "      fill: #1967D2;\n",
              "      height: 32px;\n",
              "      padding: 0 0 0 0;\n",
              "      width: 32px;\n",
              "    }\n",
              "\n",
              "    .colab-df-convert:hover {\n",
              "      background-color: #E2EBFA;\n",
              "      box-shadow: 0px 1px 2px rgba(60, 64, 67, 0.3), 0px 1px 3px 1px rgba(60, 64, 67, 0.15);\n",
              "      fill: #174EA6;\n",
              "    }\n",
              "\n",
              "    [theme=dark] .colab-df-convert {\n",
              "      background-color: #3B4455;\n",
              "      fill: #D2E3FC;\n",
              "    }\n",
              "\n",
              "    [theme=dark] .colab-df-convert:hover {\n",
              "      background-color: #434B5C;\n",
              "      box-shadow: 0px 1px 3px 1px rgba(0, 0, 0, 0.15);\n",
              "      filter: drop-shadow(0px 1px 2px rgba(0, 0, 0, 0.3));\n",
              "      fill: #FFFFFF;\n",
              "    }\n",
              "  </style>\n",
              "\n",
              "      <script>\n",
              "        const buttonEl =\n",
              "          document.querySelector('#df-ba19777a-a5cd-4bce-86ad-c1d963e1d7fb button.colab-df-convert');\n",
              "        buttonEl.style.display =\n",
              "          google.colab.kernel.accessAllowed ? 'block' : 'none';\n",
              "\n",
              "        async function convertToInteractive(key) {\n",
              "          const element = document.querySelector('#df-ba19777a-a5cd-4bce-86ad-c1d963e1d7fb');\n",
              "          const dataTable =\n",
              "            await google.colab.kernel.invokeFunction('convertToInteractive',\n",
              "                                                     [key], {});\n",
              "          if (!dataTable) return;\n",
              "\n",
              "          const docLinkHtml = 'Like what you see? Visit the ' +\n",
              "            '<a target=\"_blank\" href=https://colab.research.google.com/notebooks/data_table.ipynb>data table notebook</a>'\n",
              "            + ' to learn more about interactive tables.';\n",
              "          element.innerHTML = '';\n",
              "          dataTable['output_type'] = 'display_data';\n",
              "          await google.colab.output.renderOutput(dataTable, element);\n",
              "          const docLink = document.createElement('div');\n",
              "          docLink.innerHTML = docLinkHtml;\n",
              "          element.appendChild(docLink);\n",
              "        }\n",
              "      </script>\n",
              "    </div>\n",
              "  </div>\n",
              "  "
            ]
          },
          "metadata": {},
          "execution_count": 156
        }
      ]
    },
    {
      "cell_type": "code",
      "source": [
        "def plotting_relevant_data(data):\n",
        "\n",
        "  #plots the relevant_data dataframe\n",
        "\n",
        "  plt.figure(figsize=(14, 6))\n",
        "  ax1 = plt.subplot2grid((11,1), (0,0), rowspan = 5, colspan = 1)\n",
        "  ax2 = plt.subplot2grid((11,1), (8,0), rowspan = 5, colspan = 1)\n",
        "\n",
        "  ax1.plot(data['Adj Close'], linewidth = 2, color = '#ff9800')\n",
        "\n",
        "  ax1.set_title('S&P 500 CLOSING PRICE')\n",
        "\n",
        "  ax2.plot(data['+ DI'], color = '#26a69a', label = '+ DI 14', linewidth = 3, alpha = 0.3)\n",
        "  ax2.plot(data['- DI'], color = '#f44336', label = '- DI 14', linewidth = 3, alpha = 0.3)\n",
        "  ax2.plot(data['average DI'], color = '#2196f3', label = 'ADX 14', linewidth = 3)\n",
        "\n",
        "  ax2.axhline(25, color = 'grey', linewidth = 2, linestyle = '--')\n",
        "\n",
        "  ax2.legend()\n",
        "\n",
        "  ax2.set_title('S&P 500 14 Day Average Directional Index')\n",
        "\n",
        "  plt.show()"
      ],
      "metadata": {
        "id": "RLkfj0SfgL-T"
      },
      "execution_count": null,
      "outputs": []
    },
    {
      "cell_type": "code",
      "source": [
        "plotting_relevant_data(relevant_data)"
      ],
      "metadata": {
        "colab": {
          "base_uri": "https://localhost:8080/",
          "height": 390
        },
        "id": "9iDNSnB0hZ_g",
        "outputId": "d7c2e9e0-4b05-4fac-a9fb-f657110fec8f"
      },
      "execution_count": null,
      "outputs": [
        {
          "output_type": "display_data",
          "data": {
            "text/plain": [
              "<Figure size 1008x432 with 2 Axes>"
            ],
            "image/png": "[encoded data removed]"
          },
          "metadata": {
            "needs_background": "light"
          }
        }
      ]
    },
    {
      "cell_type": "markdown",
      "source": [
        "##Strategy"
      ],
      "metadata": {
        "id": "yYXdBu7s6XtR"
      }
    },
    {
      "cell_type": "markdown",
      "source": [
        "When<br> \n",
        "ADI crosses above 25 and $+DI > -DI$, buy.<br>\n",
        "ADI crosses above 25 and $+DI < -DI$, sell."
      ],
      "metadata": {
        "id": "BC4-dPRm6Z5Q"
      }
    },
    {
      "cell_type": "code",
      "source": [
        "def generating_trading_signals_adi(data):\n",
        "\n",
        "  #creates signals dataframe which is used to plot trading signals and and calculate CAGR \n",
        "\n",
        "  signal = pd.DataFrame()\n",
        "  signal['Close'] = data['Adj Close']\n",
        "  signal['+ DI'] = data['+ DI']\n",
        "  signal['- DI'] = data['- DI']\n",
        "  signal['average DI'] = data['average DI']\n",
        "  buy_price = []\n",
        "  sell_price = []\n",
        "\n",
        "  for i in range(0, len(data)):\n",
        "\n",
        "    if signal['average DI'][i] > 25 and (signal['average DI'].shift(1))[i] < 25:\n",
        "\n",
        "      if signal['+ DI'][i] > signal['- DI'][i]:\n",
        "        \n",
        "        buy_price.append(signal['Close'][i])\n",
        "        sell_price.append(np.nan)\n",
        "\n",
        "      elif signal['+ DI'][i] < signal['- DI'][i]:\n",
        "\n",
        "        buy_price.append(np.nan)\n",
        "        sell_price.append(signal['Close'][i])\n",
        "\n",
        "      else:\n",
        "\n",
        "        buy_price.append(np.nan)\n",
        "        sell_price.append(np.nan)\n",
        "\n",
        "    else:\n",
        "\n",
        "      buy_price.append(np.nan)\n",
        "      sell_price.append(np.nan)\n",
        "\n",
        "  signal['Buy'] = buy_price\n",
        "  signal['Sell'] = sell_price\n",
        "  \n",
        "  return signal"
      ],
      "metadata": {
        "id": "FHBuIMk0sSg5"
      },
      "execution_count": null,
      "outputs": []
    },
    {
      "cell_type": "code",
      "source": [
        "signals = generating_trading_signals_adi(relevant_data)\n",
        "signals"
      ],
      "metadata": {
        "colab": {
          "base_uri": "https://localhost:8080/",
          "height": 455
        },
        "id": "2GlGR6k7xN1l",
        "outputId": "9c41b6a9-cb2e-4e81-d4a1-ed0ba5b95bcb"
      },
      "execution_count": null,
      "outputs": [
        {
          "output_type": "execute_result",
          "data": {
            "text/plain": [
              "                 Close       + DI       - DI  average DI  Buy  Sell\n",
              "Date                                                               \n",
              "2020-01-22  315.862671   5.087614   0.753459   71.900435  NaN   NaN\n",
              "2020-01-23  316.224976   4.580557   1.812728   71.948734  NaN   NaN\n",
              "2020-01-24  313.412720   4.289821   2.873524   61.078769  NaN   NaN\n",
              "2020-01-27  308.388947   3.940879   5.506010   49.513553  NaN   NaN\n",
              "2020-01-28  311.620483   5.079183   4.877393   41.673879  NaN   NaN\n",
              "...                ...        ...        ...         ...  ...   ...\n",
              "2022-12-05  397.763458  37.546636  27.634809   21.394855  NaN   NaN\n",
              "2022-12-06  392.029785  35.142980  33.931421   20.884195  NaN   NaN\n",
              "2022-12-07  391.362854  32.360950  31.245303   19.517752  NaN   NaN\n",
              "2022-12-08  394.428772  31.695348  28.597654   18.266176  NaN   NaN\n",
              "2022-12-09  391.482300  30.072849  26.993839   17.329745  NaN   NaN\n",
              "\n",
              "[729 rows x 6 columns]"
            ],
            "text/html": [
              "\n",
              "  <div id=\"df-76787d5f-b804-46d6-a12a-bbf3491cabe7\">\n",
              "    <div class=\"colab-df-container\">\n",
              "      <div>\n",
              "<style scoped>\n",
              "    .dataframe tbody tr th:only-of-type {\n",
              "        vertical-align: middle;\n",
              "    }\n",
              "\n",
              "    .dataframe tbody tr th {\n",
              "        vertical-align: top;\n",
              "    }\n",
              "\n",
              "    .dataframe thead th {\n",
              "        text-align: right;\n",
              "    }\n",
              "</style>\n",
              "<table border=\"1\" class=\"dataframe\">\n",
              "  <thead>\n",
              "    <tr style=\"text-align: right;\">\n",
              "      <th></th>\n",
              "      <th>Close</th>\n",
              "      <th>+ DI</th>\n",
              "      <th>- DI</th>\n",
              "      <th>average DI</th>\n",
              "      <th>Buy</th>\n",
              "      <th>Sell</th>\n",
              "    </tr>\n",
              "    <tr>\n",
              "      <th>Date</th>\n",
              "      <th></th>\n",
              "      <th></th>\n",
              "      <th></th>\n",
              "      <th></th>\n",
              "      <th></th>\n",
              "      <th></th>\n",
              "    </tr>\n",
              "  </thead>\n",
              "  <tbody>\n",
              "    <tr>\n",
              "      <th>2020-01-22</th>\n",
              "      <td>315.862671</td>\n",
              "      <td>5.087614</td>\n",
              "      <td>0.753459</td>\n",
              "      <td>71.900435</td>\n",
              "      <td>NaN</td>\n",
              "      <td>NaN</td>\n",
              "    </tr>\n",
              "    <tr>\n",
              "      <th>2020-01-23</th>\n",
              "      <td>316.224976</td>\n",
              "      <td>4.580557</td>\n",
              "      <td>1.812728</td>\n",
              "      <td>71.948734</td>\n",
              "      <td>NaN</td>\n",
              "      <td>NaN</td>\n",
              "    </tr>\n",
              "    <tr>\n",
              "      <th>2020-01-24</th>\n",
              "      <td>313.412720</td>\n",
              "      <td>4.289821</td>\n",
              "      <td>2.873524</td>\n",
              "      <td>61.078769</td>\n",
              "      <td>NaN</td>\n",
              "      <td>NaN</td>\n",
              "    </tr>\n",
              "    <tr>\n",
              "      <th>2020-01-27</th>\n",
              "      <td>308.388947</td>\n",
              "      <td>3.940879</td>\n",
              "      <td>5.506010</td>\n",
              "      <td>49.513553</td>\n",
              "      <td>NaN</td>\n",
              "      <td>NaN</td>\n",
              "    </tr>\n",
              "    <tr>\n",
              "      <th>2020-01-28</th>\n",
              "      <td>311.620483</td>\n",
              "      <td>5.079183</td>\n",
              "      <td>4.877393</td>\n",
              "      <td>41.673879</td>\n",
              "      <td>NaN</td>\n",
              "      <td>NaN</td>\n",
              "    </tr>\n",
              "    <tr>\n",
              "      <th>...</th>\n",
              "      <td>...</td>\n",
              "      <td>...</td>\n",
              "      <td>...</td>\n",
              "      <td>...</td>\n",
              "      <td>...</td>\n",
              "      <td>...</td>\n",
              "    </tr>\n",
              "    <tr>\n",
              "      <th>2022-12-05</th>\n",
              "      <td>397.763458</td>\n",
              "      <td>37.546636</td>\n",
              "      <td>27.634809</td>\n",
              "      <td>21.394855</td>\n",
              "      <td>NaN</td>\n",
              "      <td>NaN</td>\n",
              "    </tr>\n",
              "    <tr>\n",
              "      <th>2022-12-06</th>\n",
              "      <td>392.029785</td>\n",
              "      <td>35.142980</td>\n",
              "      <td>33.931421</td>\n",
              "      <td>20.884195</td>\n",
              "      <td>NaN</td>\n",
              "      <td>NaN</td>\n",
              "    </tr>\n",
              "    <tr>\n",
              "      <th>2022-12-07</th>\n",
              "      <td>391.362854</td>\n",
              "      <td>32.360950</td>\n",
              "      <td>31.245303</td>\n",
              "      <td>19.517752</td>\n",
              "      <td>NaN</td>\n",
              "      <td>NaN</td>\n",
              "    </tr>\n",
              "    <tr>\n",
              "      <th>2022-12-08</th>\n",
              "      <td>394.428772</td>\n",
              "      <td>31.695348</td>\n",
              "      <td>28.597654</td>\n",
              "      <td>18.266176</td>\n",
              "      <td>NaN</td>\n",
              "      <td>NaN</td>\n",
              "    </tr>\n",
              "    <tr>\n",
              "      <th>2022-12-09</th>\n",
              "      <td>391.482300</td>\n",
              "      <td>30.072849</td>\n",
              "      <td>26.993839</td>\n",
              "      <td>17.329745</td>\n",
              "      <td>NaN</td>\n",
              "      <td>NaN</td>\n",
              "    </tr>\n",
              "  </tbody>\n",
              "</table>\n",
              "<p>729 rows × 6 columns</p>\n",
              "</div>\n",
              "      <button class=\"colab-df-convert\" onclick=\"convertToInteractive('df-76787d5f-b804-46d6-a12a-bbf3491cabe7')\"\n",
              "              title=\"Convert this dataframe to an interactive table.\"\n",
              "              style=\"display:none;\">\n",
              "        \n",
              "  <svg xmlns=\"http://www.w3.org/2000/svg\" height=\"24px\"viewBox=\"0 0 24 24\"\n",
              "       width=\"24px\">\n",
              "    <path d=\"M0 0h24v24H0V0z\" fill=\"none\"/>\n",
              "    <path d=\"M18.56 5.44l.94 2.06.94-2.06 2.06-.94-2.06-.94-.94-2.06-.94 2.06-2.06.94zm-11 1L8.5 8.5l.94-2.06 2.06-.94-2.06-.94L8.5 2.5l-.94 2.06-2.06.94zm10 10l.94 2.06.94-2.06 2.06-.94-2.06-.94-.94-2.06-.94 2.06-2.06.94z\"/><path d=\"M17.41 7.96l-1.37-1.37c-.4-.4-.92-.59-1.43-.59-.52 0-1.04.2-1.43.59L10.3 9.45l-7.72 7.72c-.78.78-.78 2.05 0 2.83L4 21.41c.39.39.9.59 1.41.59.51 0 1.02-.2 1.41-.59l7.78-7.78 2.81-2.81c.8-.78.8-2.07 0-2.86zM5.41 20L4 18.59l7.72-7.72 1.47 1.35L5.41 20z\"/>\n",
              "  </svg>\n",
              "      </button>\n",
              "      \n",
              "  <style>\n",
              "    .colab-df-container {\n",
              "      display:flex;\n",
              "      flex-wrap:wrap;\n",
              "      gap: 12px;\n",
              "    }\n",
              "\n",
              "    .colab-df-convert {\n",
              "      background-color: #E8F0FE;\n",
              "      border: none;\n",
              "      border-radius: 50%;\n",
              "      cursor: pointer;\n",
              "      display: none;\n",
              "      fill: #1967D2;\n",
              "      height: 32px;\n",
              "      padding: 0 0 0 0;\n",
              "      width: 32px;\n",
              "    }\n",
              "\n",
              "    .colab-df-convert:hover {\n",
              "      background-color: #E2EBFA;\n",
              "      box-shadow: 0px 1px 2px rgba(60, 64, 67, 0.3), 0px 1px 3px 1px rgba(60, 64, 67, 0.15);\n",
              "      fill: #174EA6;\n",
              "    }\n",
              "\n",
              "    [theme=dark] .colab-df-convert {\n",
              "      background-color: #3B4455;\n",
              "      fill: #D2E3FC;\n",
              "    }\n",
              "\n",
              "    [theme=dark] .colab-df-convert:hover {\n",
              "      background-color: #434B5C;\n",
              "      box-shadow: 0px 1px 3px 1px rgba(0, 0, 0, 0.15);\n",
              "      filter: drop-shadow(0px 1px 2px rgba(0, 0, 0, 0.3));\n",
              "      fill: #FFFFFF;\n",
              "    }\n",
              "  </style>\n",
              "\n",
              "      <script>\n",
              "        const buttonEl =\n",
              "          document.querySelector('#df-76787d5f-b804-46d6-a12a-bbf3491cabe7 button.colab-df-convert');\n",
              "        buttonEl.style.display =\n",
              "          google.colab.kernel.accessAllowed ? 'block' : 'none';\n",
              "\n",
              "        async function convertToInteractive(key) {\n",
              "          const element = document.querySelector('#df-76787d5f-b804-46d6-a12a-bbf3491cabe7');\n",
              "          const dataTable =\n",
              "            await google.colab.kernel.invokeFunction('convertToInteractive',\n",
              "                                                     [key], {});\n",
              "          if (!dataTable) return;\n",
              "\n",
              "          const docLinkHtml = 'Like what you see? Visit the ' +\n",
              "            '<a target=\"_blank\" href=https://colab.research.google.com/notebooks/data_table.ipynb>data table notebook</a>'\n",
              "            + ' to learn more about interactive tables.';\n",
              "          element.innerHTML = '';\n",
              "          dataTable['output_type'] = 'display_data';\n",
              "          await google.colab.output.renderOutput(dataTable, element);\n",
              "          const docLink = document.createElement('div');\n",
              "          docLink.innerHTML = docLinkHtml;\n",
              "          element.appendChild(docLink);\n",
              "        }\n",
              "      </script>\n",
              "    </div>\n",
              "  </div>\n",
              "  "
            ]
          },
          "metadata": {},
          "execution_count": 160
        }
      ]
    },
    {
      "cell_type": "markdown",
      "source": [
        "##Plotting Trading Signals"
      ],
      "metadata": {
        "id": "GRwPuYy37IiS"
      }
    },
    {
      "cell_type": "code",
      "source": [
        "def plotting_trading_signals_adi(data):\n",
        "  \n",
        "  #Plots relevant columns from signals\n",
        "  plt.figure(figsize=(14, 6))\n",
        "  ax1 = plt.subplot2grid((11,1), (0,0), rowspan = 5, colspan = 1)\n",
        "  ax2 = plt.subplot2grid((11,1), (8,0), rowspan = 5, colspan = 1)\n",
        "\n",
        "  ax1.plot(data['Close'], linewidth = 2, color = '#ff9800')\n",
        "  ax1.scatter(data.index, data['Buy'], c='green', label='Buy Signal', marker='^')\n",
        "  ax1.scatter(data.index, data['Sell'], c='red', label='Sell Signal', marker='v')\n",
        "\n",
        "  ax1.set_title('S&P 500 CLOSING PRICE with trading signals')\n",
        "\n",
        "  ax2.plot(data['+ DI'], color = '#26a69a', label = '+ DI 14', linewidth = 3, alpha = 0.3)\n",
        "  ax2.plot(data['- DI'], color = '#f44336', label = '- DI 14', linewidth = 3, alpha = 0.3)\n",
        "  ax2.plot(data['average DI'], color = '#2196f3', label = 'ADX 14', linewidth = 3)\n",
        "\n",
        "  ax2.axhline(25, color = 'grey', linewidth = 2, linestyle = '--')\n",
        "\n",
        "  ax2.legend()\n",
        "\n",
        "  ax2.set_title('S&P 500 14 Day Average Directional Index')\n",
        "\n",
        "  plt.show()"
      ],
      "metadata": {
        "id": "JnIZc-81xUcx"
      },
      "execution_count": null,
      "outputs": []
    },
    {
      "cell_type": "code",
      "source": [
        "plotting_trading_signals_adi(signals)"
      ],
      "metadata": {
        "colab": {
          "base_uri": "https://localhost:8080/",
          "height": 390
        },
        "id": "En6jBrxEx18J",
        "outputId": "d7306bef-92ea-44a0-ea3d-55d8c3dc0e07"
      },
      "execution_count": null,
      "outputs": [
        {
          "output_type": "display_data",
          "data": {
            "text/plain": [
              "<Figure size 1008x432 with 2 Axes>"
            ],
            "image/png": "[encoded data removed]"
          },
          "metadata": {
            "needs_background": "light"
          }
        }
      ]
    },
    {
      "cell_type": "markdown",
      "source": [
        "##Calculating and Printing CAGR"
      ],
      "metadata": {
        "id": "i5kciN0M7PTq"
      }
    },
    {
      "cell_type": "code",
      "source": [
        "print('CAGR =', profit_and_loss_calculation(signals), '%')"
      ],
      "metadata": {
        "colab": {
          "base_uri": "https://localhost:8080/"
        },
        "id": "InpLVdBkx5UE",
        "outputId": "ff8c785d-2eea-440f-eedc-420576135fe1"
      },
      "execution_count": null,
      "outputs": [
        {
          "output_type": "stream",
          "name": "stdout",
          "text": [
            "CAGR = -36.94975098809273 %\n"
          ]
        }
      ]
    },
    {
      "cell_type": "markdown",
      "source": [
        "# Donchain Channels"
      ],
      "metadata": {
        "id": "nLXmWywGH0tF"
      }
    },
    {
      "cell_type": "code",
      "source": [
        "data = ['SPY']\n",
        "df = get_stock_data(data)\n",
        "df.head()"
      ],
      "metadata": {
        "id": "HamPTG4ezeg8",
        "colab": {
          "base_uri": "https://localhost:8080/",
          "height": 255
        },
        "outputId": "c9ba92c0-f55e-4308-ed93-96d811214e41"
      },
      "execution_count": null,
      "outputs": [
        {
          "output_type": "stream",
          "name": "stdout",
          "text": [
            "\r[*********************100%***********************]  1 of 1 completed\n"
          ]
        },
        {
          "output_type": "execute_result",
          "data": {
            "text/plain": [
              "                  Open        High         Low       Close   Adj Close  \\\n",
              "Date                                                                     \n",
              "2019-12-10  313.820007  314.549988  312.809998  313.529999  297.422272   \n",
              "2019-12-11  314.029999  314.700012  313.440002  314.420013  298.266571   \n",
              "2019-12-12  314.429993  317.989990  314.170013  317.130005  300.837341   \n",
              "2019-12-13  316.869995  318.670013  316.019989  317.320007  301.017578   \n",
              "2019-12-16  319.220001  320.149994  317.250000  319.500000  303.085602   \n",
              "\n",
              "              Volume  \n",
              "Date                  \n",
              "2019-12-10  52649800  \n",
              "2019-12-11  53429100  \n",
              "2019-12-12  96389600  \n",
              "2019-12-13  81503900  \n",
              "2019-12-16  82749700  "
            ],
            "text/html": [
              "\n",
              "  <div id=\"df-a2cd83dc-93f9-462a-b0de-8edfcd808a97\">\n",
              "    <div class=\"colab-df-container\">\n",
              "      <div>\n",
              "<style scoped>\n",
              "    .dataframe tbody tr th:only-of-type {\n",
              "        vertical-align: middle;\n",
              "    }\n",
              "\n",
              "    .dataframe tbody tr th {\n",
              "        vertical-align: top;\n",
              "    }\n",
              "\n",
              "    .dataframe thead th {\n",
              "        text-align: right;\n",
              "    }\n",
              "</style>\n",
              "<table border=\"1\" class=\"dataframe\">\n",
              "  <thead>\n",
              "    <tr style=\"text-align: right;\">\n",
              "      <th></th>\n",
              "      <th>Open</th>\n",
              "      <th>High</th>\n",
              "      <th>Low</th>\n",
              "      <th>Close</th>\n",
              "      <th>Adj Close</th>\n",
              "      <th>Volume</th>\n",
              "    </tr>\n",
              "    <tr>\n",
              "      <th>Date</th>\n",
              "      <th></th>\n",
              "      <th></th>\n",
              "      <th></th>\n",
              "      <th></th>\n",
              "      <th></th>\n",
              "      <th></th>\n",
              "    </tr>\n",
              "  </thead>\n",
              "  <tbody>\n",
              "    <tr>\n",
              "      <th>2019-12-10</th>\n",
              "      <td>313.820007</td>\n",
              "      <td>314.549988</td>\n",
              "      <td>312.809998</td>\n",
              "      <td>313.529999</td>\n",
              "      <td>297.422272</td>\n",
              "      <td>52649800</td>\n",
              "    </tr>\n",
              "    <tr>\n",
              "      <th>2019-12-11</th>\n",
              "      <td>314.029999</td>\n",
              "      <td>314.700012</td>\n",
              "      <td>313.440002</td>\n",
              "      <td>314.420013</td>\n",
              "      <td>298.266571</td>\n",
              "      <td>53429100</td>\n",
              "    </tr>\n",
              "    <tr>\n",
              "      <th>2019-12-12</th>\n",
              "      <td>314.429993</td>\n",
              "      <td>317.989990</td>\n",
              "      <td>314.170013</td>\n",
              "      <td>317.130005</td>\n",
              "      <td>300.837341</td>\n",
              "      <td>96389600</td>\n",
              "    </tr>\n",
              "    <tr>\n",
              "      <th>2019-12-13</th>\n",
              "      <td>316.869995</td>\n",
              "      <td>318.670013</td>\n",
              "      <td>316.019989</td>\n",
              "      <td>317.320007</td>\n",
              "      <td>301.017578</td>\n",
              "      <td>81503900</td>\n",
              "    </tr>\n",
              "    <tr>\n",
              "      <th>2019-12-16</th>\n",
              "      <td>319.220001</td>\n",
              "      <td>320.149994</td>\n",
              "      <td>317.250000</td>\n",
              "      <td>319.500000</td>\n",
              "      <td>303.085602</td>\n",
              "      <td>82749700</td>\n",
              "    </tr>\n",
              "  </tbody>\n",
              "</table>\n",
              "</div>\n",
              "      <button class=\"colab-df-convert\" onclick=\"convertToInteractive('df-a2cd83dc-93f9-462a-b0de-8edfcd808a97')\"\n",
              "              title=\"Convert this dataframe to an interactive table.\"\n",
              "              style=\"display:none;\">\n",
              "        \n",
              "  <svg xmlns=\"http://www.w3.org/2000/svg\" height=\"24px\"viewBox=\"0 0 24 24\"\n",
              "       width=\"24px\">\n",
              "    <path d=\"M0 0h24v24H0V0z\" fill=\"none\"/>\n",
              "    <path d=\"M18.56 5.44l.94 2.06.94-2.06 2.06-.94-2.06-.94-.94-2.06-.94 2.06-2.06.94zm-11 1L8.5 8.5l.94-2.06 2.06-.94-2.06-.94L8.5 2.5l-.94 2.06-2.06.94zm10 10l.94 2.06.94-2.06 2.06-.94-2.06-.94-.94-2.06-.94 2.06-2.06.94z\"/><path d=\"M17.41 7.96l-1.37-1.37c-.4-.4-.92-.59-1.43-.59-.52 0-1.04.2-1.43.59L10.3 9.45l-7.72 7.72c-.78.78-.78 2.05 0 2.83L4 21.41c.39.39.9.59 1.41.59.51 0 1.02-.2 1.41-.59l7.78-7.78 2.81-2.81c.8-.78.8-2.07 0-2.86zM5.41 20L4 18.59l7.72-7.72 1.47 1.35L5.41 20z\"/>\n",
              "  </svg>\n",
              "      </button>\n",
              "      \n",
              "  <style>\n",
              "    .colab-df-container {\n",
              "      display:flex;\n",
              "      flex-wrap:wrap;\n",
              "      gap: 12px;\n",
              "    }\n",
              "\n",
              "    .colab-df-convert {\n",
              "      background-color: #E8F0FE;\n",
              "      border: none;\n",
              "      border-radius: 50%;\n",
              "      cursor: pointer;\n",
              "      display: none;\n",
              "      fill: #1967D2;\n",
              "      height: 32px;\n",
              "      padding: 0 0 0 0;\n",
              "      width: 32px;\n",
              "    }\n",
              "\n",
              "    .colab-df-convert:hover {\n",
              "      background-color: #E2EBFA;\n",
              "      box-shadow: 0px 1px 2px rgba(60, 64, 67, 0.3), 0px 1px 3px 1px rgba(60, 64, 67, 0.15);\n",
              "      fill: #174EA6;\n",
              "    }\n",
              "\n",
              "    [theme=dark] .colab-df-convert {\n",
              "      background-color: #3B4455;\n",
              "      fill: #D2E3FC;\n",
              "    }\n",
              "\n",
              "    [theme=dark] .colab-df-convert:hover {\n",
              "      background-color: #434B5C;\n",
              "      box-shadow: 0px 1px 3px 1px rgba(0, 0, 0, 0.15);\n",
              "      filter: drop-shadow(0px 1px 2px rgba(0, 0, 0, 0.3));\n",
              "      fill: #FFFFFF;\n",
              "    }\n",
              "  </style>\n",
              "\n",
              "      <script>\n",
              "        const buttonEl =\n",
              "          document.querySelector('#df-a2cd83dc-93f9-462a-b0de-8edfcd808a97 button.colab-df-convert');\n",
              "        buttonEl.style.display =\n",
              "          google.colab.kernel.accessAllowed ? 'block' : 'none';\n",
              "\n",
              "        async function convertToInteractive(key) {\n",
              "          const element = document.querySelector('#df-a2cd83dc-93f9-462a-b0de-8edfcd808a97');\n",
              "          const dataTable =\n",
              "            await google.colab.kernel.invokeFunction('convertToInteractive',\n",
              "                                                     [key], {});\n",
              "          if (!dataTable) return;\n",
              "\n",
              "          const docLinkHtml = 'Like what you see? Visit the ' +\n",
              "            '<a target=\"_blank\" href=https://colab.research.google.com/notebooks/data_table.ipynb>data table notebook</a>'\n",
              "            + ' to learn more about interactive tables.';\n",
              "          element.innerHTML = '';\n",
              "          dataTable['output_type'] = 'display_data';\n",
              "          await google.colab.output.renderOutput(dataTable, element);\n",
              "          const docLink = document.createElement('div');\n",
              "          docLink.innerHTML = docLinkHtml;\n",
              "          element.appendChild(docLink);\n",
              "        }\n",
              "      </script>\n",
              "    </div>\n",
              "  </div>\n",
              "  "
            ]
          },
          "metadata": {},
          "execution_count": 4
        }
      ]
    },
    {
      "cell_type": "code",
      "source": [
        "df['Upper_Channel_Line'] = pd.Series.rolling(df['High'], window=20).max()\n",
        "df['Lower_Channel_Line'] = pd.Series.rolling(df['Low'], window=20).min()\n",
        "df['Middle_Channel_Line'] = (df['Upper_Channel_Line'] + df['Lower_Channel_Line'])/2\n",
        "df = df.dropna()\n",
        "df.head()"
      ],
      "metadata": {
        "colab": {
          "base_uri": "https://localhost:8080/",
          "height": 238
        },
        "id": "oVs7CtzPIQYz",
        "outputId": "8ddd8907-dc08-46b7-df9a-b142f1bfd525"
      },
      "execution_count": null,
      "outputs": [
        {
          "output_type": "execute_result",
          "data": {
            "text/plain": [
              "                  Open        High         Low       Close   Adj Close  \\\n",
              "Date                                                                     \n",
              "2020-01-08  322.940002  325.779999  322.670013  324.450012  309.294525   \n",
              "2020-01-09  326.160004  326.730011  325.519989  326.649994  311.391724   \n",
              "2020-01-10  327.290009  327.459991  325.200012  325.709991  310.495667   \n",
              "2020-01-13  326.390015  327.959991  325.920013  327.950012  312.631073   \n",
              "2020-01-14  327.470001  328.619995  326.839996  327.450012  312.154449   \n",
              "\n",
              "              Volume  Upper_Channel_Line  Lower_Channel_Line  \\\n",
              "Date                                                           \n",
              "2020-01-08  68296000          325.779999          312.809998   \n",
              "2020-01-09  48473300          326.730011          313.440002   \n",
              "2020-01-10  53029300          327.459991          314.170013   \n",
              "2020-01-13  47086800          327.959991          316.019989   \n",
              "2020-01-14  62832800          328.619995          317.250000   \n",
              "\n",
              "            Middle_Channel_Line  \n",
              "Date                             \n",
              "2020-01-08           319.294998  \n",
              "2020-01-09           320.085007  \n",
              "2020-01-10           320.815002  \n",
              "2020-01-13           321.989990  \n",
              "2020-01-14           322.934998  "
            ],
            "text/html": [
              "\n",
              "  <div id=\"df-64aa0814-e419-4dfc-b440-bc354feb97fd\">\n",
              "    <div class=\"colab-df-container\">\n",
              "      <div>\n",
              "<style scoped>\n",
              "    .dataframe tbody tr th:only-of-type {\n",
              "        vertical-align: middle;\n",
              "    }\n",
              "\n",
              "    .dataframe tbody tr th {\n",
              "        vertical-align: top;\n",
              "    }\n",
              "\n",
              "    .dataframe thead th {\n",
              "        text-align: right;\n",
              "    }\n",
              "</style>\n",
              "<table border=\"1\" class=\"dataframe\">\n",
              "  <thead>\n",
              "    <tr style=\"text-align: right;\">\n",
              "      <th></th>\n",
              "      <th>Open</th>\n",
              "      <th>High</th>\n",
              "      <th>Low</th>\n",
              "      <th>Close</th>\n",
              "      <th>Adj Close</th>\n",
              "      <th>Volume</th>\n",
              "      <th>Upper_Channel_Line</th>\n",
              "      <th>Lower_Channel_Line</th>\n",
              "      <th>Middle_Channel_Line</th>\n",
              "    </tr>\n",
              "    <tr>\n",
              "      <th>Date</th>\n",
              "      <th></th>\n",
              "      <th></th>\n",
              "      <th></th>\n",
              "      <th></th>\n",
              "      <th></th>\n",
              "      <th></th>\n",
              "      <th></th>\n",
              "      <th></th>\n",
              "      <th></th>\n",
              "    </tr>\n",
              "  </thead>\n",
              "  <tbody>\n",
              "    <tr>\n",
              "      <th>2020-01-08</th>\n",
              "      <td>322.940002</td>\n",
              "      <td>325.779999</td>\n",
              "      <td>322.670013</td>\n",
              "      <td>324.450012</td>\n",
              "      <td>309.294525</td>\n",
              "      <td>68296000</td>\n",
              "      <td>325.779999</td>\n",
              "      <td>312.809998</td>\n",
              "      <td>319.294998</td>\n",
              "    </tr>\n",
              "    <tr>\n",
              "      <th>2020-01-09</th>\n",
              "      <td>326.160004</td>\n",
              "      <td>326.730011</td>\n",
              "      <td>325.519989</td>\n",
              "      <td>326.649994</td>\n",
              "      <td>311.391724</td>\n",
              "      <td>48473300</td>\n",
              "      <td>326.730011</td>\n",
              "      <td>313.440002</td>\n",
              "      <td>320.085007</td>\n",
              "    </tr>\n",
              "    <tr>\n",
              "      <th>2020-01-10</th>\n",
              "      <td>327.290009</td>\n",
              "      <td>327.459991</td>\n",
              "      <td>325.200012</td>\n",
              "      <td>325.709991</td>\n",
              "      <td>310.495667</td>\n",
              "      <td>53029300</td>\n",
              "      <td>327.459991</td>\n",
              "      <td>314.170013</td>\n",
              "      <td>320.815002</td>\n",
              "    </tr>\n",
              "    <tr>\n",
              "      <th>2020-01-13</th>\n",
              "      <td>326.390015</td>\n",
              "      <td>327.959991</td>\n",
              "      <td>325.920013</td>\n",
              "      <td>327.950012</td>\n",
              "      <td>312.631073</td>\n",
              "      <td>47086800</td>\n",
              "      <td>327.959991</td>\n",
              "      <td>316.019989</td>\n",
              "      <td>321.989990</td>\n",
              "    </tr>\n",
              "    <tr>\n",
              "      <th>2020-01-14</th>\n",
              "      <td>327.470001</td>\n",
              "      <td>328.619995</td>\n",
              "      <td>326.839996</td>\n",
              "      <td>327.450012</td>\n",
              "      <td>312.154449</td>\n",
              "      <td>62832800</td>\n",
              "      <td>328.619995</td>\n",
              "      <td>317.250000</td>\n",
              "      <td>322.934998</td>\n",
              "    </tr>\n",
              "  </tbody>\n",
              "</table>\n",
              "</div>\n",
              "      <button class=\"colab-df-convert\" onclick=\"convertToInteractive('df-64aa0814-e419-4dfc-b440-bc354feb97fd')\"\n",
              "              title=\"Convert this dataframe to an interactive table.\"\n",
              "              style=\"display:none;\">\n",
              "        \n",
              "  <svg xmlns=\"http://www.w3.org/2000/svg\" height=\"24px\"viewBox=\"0 0 24 24\"\n",
              "       width=\"24px\">\n",
              "    <path d=\"M0 0h24v24H0V0z\" fill=\"none\"/>\n",
              "    <path d=\"M18.56 5.44l.94 2.06.94-2.06 2.06-.94-2.06-.94-.94-2.06-.94 2.06-2.06.94zm-11 1L8.5 8.5l.94-2.06 2.06-.94-2.06-.94L8.5 2.5l-.94 2.06-2.06.94zm10 10l.94 2.06.94-2.06 2.06-.94-2.06-.94-.94-2.06-.94 2.06-2.06.94z\"/><path d=\"M17.41 7.96l-1.37-1.37c-.4-.4-.92-.59-1.43-.59-.52 0-1.04.2-1.43.59L10.3 9.45l-7.72 7.72c-.78.78-.78 2.05 0 2.83L4 21.41c.39.39.9.59 1.41.59.51 0 1.02-.2 1.41-.59l7.78-7.78 2.81-2.81c.8-.78.8-2.07 0-2.86zM5.41 20L4 18.59l7.72-7.72 1.47 1.35L5.41 20z\"/>\n",
              "  </svg>\n",
              "      </button>\n",
              "      \n",
              "  <style>\n",
              "    .colab-df-container {\n",
              "      display:flex;\n",
              "      flex-wrap:wrap;\n",
              "      gap: 12px;\n",
              "    }\n",
              "\n",
              "    .colab-df-convert {\n",
              "      background-color: #E8F0FE;\n",
              "      border: none;\n",
              "      border-radius: 50%;\n",
              "      cursor: pointer;\n",
              "      display: none;\n",
              "      fill: #1967D2;\n",
              "      height: 32px;\n",
              "      padding: 0 0 0 0;\n",
              "      width: 32px;\n",
              "    }\n",
              "\n",
              "    .colab-df-convert:hover {\n",
              "      background-color: #E2EBFA;\n",
              "      box-shadow: 0px 1px 2px rgba(60, 64, 67, 0.3), 0px 1px 3px 1px rgba(60, 64, 67, 0.15);\n",
              "      fill: #174EA6;\n",
              "    }\n",
              "\n",
              "    [theme=dark] .colab-df-convert {\n",
              "      background-color: #3B4455;\n",
              "      fill: #D2E3FC;\n",
              "    }\n",
              "\n",
              "    [theme=dark] .colab-df-convert:hover {\n",
              "      background-color: #434B5C;\n",
              "      box-shadow: 0px 1px 3px 1px rgba(0, 0, 0, 0.15);\n",
              "      filter: drop-shadow(0px 1px 2px rgba(0, 0, 0, 0.3));\n",
              "      fill: #FFFFFF;\n",
              "    }\n",
              "  </style>\n",
              "\n",
              "      <script>\n",
              "        const buttonEl =\n",
              "          document.querySelector('#df-64aa0814-e419-4dfc-b440-bc354feb97fd button.colab-df-convert');\n",
              "        buttonEl.style.display =\n",
              "          google.colab.kernel.accessAllowed ? 'block' : 'none';\n",
              "\n",
              "        async function convertToInteractive(key) {\n",
              "          const element = document.querySelector('#df-64aa0814-e419-4dfc-b440-bc354feb97fd');\n",
              "          const dataTable =\n",
              "            await google.colab.kernel.invokeFunction('convertToInteractive',\n",
              "                                                     [key], {});\n",
              "          if (!dataTable) return;\n",
              "\n",
              "          const docLinkHtml = 'Like what you see? Visit the ' +\n",
              "            '<a target=\"_blank\" href=https://colab.research.google.com/notebooks/data_table.ipynb>data table notebook</a>'\n",
              "            + ' to learn more about interactive tables.';\n",
              "          element.innerHTML = '';\n",
              "          dataTable['output_type'] = 'display_data';\n",
              "          await google.colab.output.renderOutput(dataTable, element);\n",
              "          const docLink = document.createElement('div');\n",
              "          docLink.innerHTML = docLinkHtml;\n",
              "          element.appendChild(docLink);\n",
              "        }\n",
              "      </script>\n",
              "    </div>\n",
              "  </div>\n",
              "  "
            ]
          },
          "metadata": {},
          "execution_count": 5
        }
      ]
    },
    {
      "cell_type": "code",
      "source": [
        "plt.figure(figsize=(16,10))\n",
        "plt.plot(df['Adj Close'])\n",
        "plt.fill_between(df.index, df['Lower_Channel_Line'], df['Upper_Channel_Line'],  color='lightblue', alpha=0.4)\n",
        "plt.plot(df['Upper_Channel_Line'], c='darkred', linestyle='-', drawstyle=\"steps\")\n",
        "plt.plot(df['Lower_Channel_Line'], c='forestgreen', linestyle='-', drawstyle=\"steps\")\n",
        "plt.plot(df['Middle_Channel_Line'], c='blue', linestyle='-')\n",
        "plt.title('Dochain Channel for Stock')\n",
        "plt.legend(loc='best')\n",
        "plt.xlabel('Price')\n",
        "plt.ylabel('Date')\n",
        "plt.show()"
      ],
      "metadata": {
        "id": "sNeQTxE0Ihzb",
        "outputId": "2b031400-21c6-4636-ec33-85eae9a54eea",
        "colab": {
          "base_uri": "https://localhost:8080/",
          "height": 638
        }
      },
      "execution_count": null,
      "outputs": [
        {
          "output_type": "stream",
          "name": "stderr",
          "text": [
            "WARNING:matplotlib.legend:No handles with labels found to put in legend.\n"
          ]
        },
        {
          "output_type": "display_data",
          "data": {
            "text/plain": [
              "<Figure size 1152x720 with 1 Axes>"
            ],
            "image/png": "[encoded data removed]"
          },
          "metadata": {
            "needs_background": "light"
          }
        }
      ]
    },
    {
      "cell_type": "code",
      "source": [
        "def generating_trading_signals(df): \n",
        "\n",
        "  signal = pd.DataFrame()\n",
        "  signal['Close'] = df['Close']\n",
        "  signal['UC'] = df['Upper_Channel_Line']\n",
        "  signal['LC'] = df['Lower_Channel_Line']\n",
        "  buy_price = []\n",
        "  sell_price = []\n",
        "\n",
        "  flag = False\n",
        "\n",
        "  for i in range(0, len(signal['Close'])):\n",
        "\n",
        "    if signal['Close'][i] > signal['UC'][i-1] and flag == False:\n",
        "      buy_price.append(signal['Close'][i])\n",
        "      sell_price.append(np.nan)\n",
        "      flag = True\n",
        "\n",
        "    elif signal['Close'][i] < signal['LC'][i-1] and flag == True:\n",
        "      buy_price.append(np.nan)\n",
        "      sell_price.append(signal['Close'][i])\n",
        "      flag = False\n",
        "\n",
        "    else:\n",
        "      buy_price.append(np.nan)\n",
        "      sell_price.append(np.nan)\n",
        "\n",
        "  signal['Buy'] = buy_price\n",
        "  signal['Sell'] = sell_price\n",
        "  \n",
        "  return signal"
      ],
      "metadata": {
        "id": "TPPbAmy1W78h"
      },
      "execution_count": null,
      "outputs": []
    },
    {
      "cell_type": "code",
      "source": [
        "signals_d=generating_trading_signals(df)\n",
        "signals_d"
      ],
      "metadata": {
        "colab": {
          "base_uri": "https://localhost:8080/",
          "height": 455
        },
        "id": "NJuF5-Eh9nFK",
        "outputId": "138059a7-3efc-4881-e4c3-86edb3303a3c"
      },
      "execution_count": null,
      "outputs": [
        {
          "output_type": "execute_result",
          "data": {
            "text/plain": [
              "                 Close          UC          LC         Buy  Sell\n",
              "Date                                                            \n",
              "2020-01-08  324.450012  325.779999  312.809998         NaN   NaN\n",
              "2020-01-09  326.649994  326.730011  313.440002  326.649994   NaN\n",
              "2020-01-10  325.709991  327.459991  314.170013         NaN   NaN\n",
              "2020-01-13  327.950012  327.959991  316.019989         NaN   NaN\n",
              "2020-01-14  327.450012  328.619995  317.250000         NaN   NaN\n",
              "...                ...         ...         ...         ...   ...\n",
              "2022-12-05  399.589996  410.000000  373.609985         NaN   NaN\n",
              "2022-12-06  393.829987  410.000000  373.609985         NaN   NaN\n",
              "2022-12-07  393.160004  410.000000  373.609985         NaN   NaN\n",
              "2022-12-08  396.239990  410.000000  385.640015         NaN   NaN\n",
              "2022-12-09  393.279999  410.000000  390.140015         NaN   NaN\n",
              "\n",
              "[738 rows x 5 columns]"
            ],
            "text/html": [
              "\n",
              "  <div id=\"df-103b4f4d-603b-4698-b6ab-fcfb1cae70ba\">\n",
              "    <div class=\"colab-df-container\">\n",
              "      <div>\n",
              "<style scoped>\n",
              "    .dataframe tbody tr th:only-of-type {\n",
              "        vertical-align: middle;\n",
              "    }\n",
              "\n",
              "    .dataframe tbody tr th {\n",
              "        vertical-align: top;\n",
              "    }\n",
              "\n",
              "    .dataframe thead th {\n",
              "        text-align: right;\n",
              "    }\n",
              "</style>\n",
              "<table border=\"1\" class=\"dataframe\">\n",
              "  <thead>\n",
              "    <tr style=\"text-align: right;\">\n",
              "      <th></th>\n",
              "      <th>Close</th>\n",
              "      <th>UC</th>\n",
              "      <th>LC</th>\n",
              "      <th>Buy</th>\n",
              "      <th>Sell</th>\n",
              "    </tr>\n",
              "    <tr>\n",
              "      <th>Date</th>\n",
              "      <th></th>\n",
              "      <th></th>\n",
              "      <th></th>\n",
              "      <th></th>\n",
              "      <th></th>\n",
              "    </tr>\n",
              "  </thead>\n",
              "  <tbody>\n",
              "    <tr>\n",
              "      <th>2020-01-08</th>\n",
              "      <td>324.450012</td>\n",
              "      <td>325.779999</td>\n",
              "      <td>312.809998</td>\n",
              "      <td>NaN</td>\n",
              "      <td>NaN</td>\n",
              "    </tr>\n",
              "    <tr>\n",
              "      <th>2020-01-09</th>\n",
              "      <td>326.649994</td>\n",
              "      <td>326.730011</td>\n",
              "      <td>313.440002</td>\n",
              "      <td>326.649994</td>\n",
              "      <td>NaN</td>\n",
              "    </tr>\n",
              "    <tr>\n",
              "      <th>2020-01-10</th>\n",
              "      <td>325.709991</td>\n",
              "      <td>327.459991</td>\n",
              "      <td>314.170013</td>\n",
              "      <td>NaN</td>\n",
              "      <td>NaN</td>\n",
              "    </tr>\n",
              "    <tr>\n",
              "      <th>2020-01-13</th>\n",
              "      <td>327.950012</td>\n",
              "      <td>327.959991</td>\n",
              "      <td>316.019989</td>\n",
              "      <td>NaN</td>\n",
              "      <td>NaN</td>\n",
              "    </tr>\n",
              "    <tr>\n",
              "      <th>2020-01-14</th>\n",
              "      <td>327.450012</td>\n",
              "      <td>328.619995</td>\n",
              "      <td>317.250000</td>\n",
              "      <td>NaN</td>\n",
              "      <td>NaN</td>\n",
              "    </tr>\n",
              "    <tr>\n",
              "      <th>...</th>\n",
              "      <td>...</td>\n",
              "      <td>...</td>\n",
              "      <td>...</td>\n",
              "      <td>...</td>\n",
              "      <td>...</td>\n",
              "    </tr>\n",
              "    <tr>\n",
              "      <th>2022-12-05</th>\n",
              "      <td>399.589996</td>\n",
              "      <td>410.000000</td>\n",
              "      <td>373.609985</td>\n",
              "      <td>NaN</td>\n",
              "      <td>NaN</td>\n",
              "    </tr>\n",
              "    <tr>\n",
              "      <th>2022-12-06</th>\n",
              "      <td>393.829987</td>\n",
              "      <td>410.000000</td>\n",
              "      <td>373.609985</td>\n",
              "      <td>NaN</td>\n",
              "      <td>NaN</td>\n",
              "    </tr>\n",
              "    <tr>\n",
              "      <th>2022-12-07</th>\n",
              "      <td>393.160004</td>\n",
              "      <td>410.000000</td>\n",
              "      <td>373.609985</td>\n",
              "      <td>NaN</td>\n",
              "      <td>NaN</td>\n",
              "    </tr>\n",
              "    <tr>\n",
              "      <th>2022-12-08</th>\n",
              "      <td>396.239990</td>\n",
              "      <td>410.000000</td>\n",
              "      <td>385.640015</td>\n",
              "      <td>NaN</td>\n",
              "      <td>NaN</td>\n",
              "    </tr>\n",
              "    <tr>\n",
              "      <th>2022-12-09</th>\n",
              "      <td>393.279999</td>\n",
              "      <td>410.000000</td>\n",
              "      <td>390.140015</td>\n",
              "      <td>NaN</td>\n",
              "      <td>NaN</td>\n",
              "    </tr>\n",
              "  </tbody>\n",
              "</table>\n",
              "<p>738 rows × 5 columns</p>\n",
              "</div>\n",
              "      <button class=\"colab-df-convert\" onclick=\"convertToInteractive('df-103b4f4d-603b-4698-b6ab-fcfb1cae70ba')\"\n",
              "              title=\"Convert this dataframe to an interactive table.\"\n",
              "              style=\"display:none;\">\n",
              "        \n",
              "  <svg xmlns=\"http://www.w3.org/2000/svg\" height=\"24px\"viewBox=\"0 0 24 24\"\n",
              "       width=\"24px\">\n",
              "    <path d=\"M0 0h24v24H0V0z\" fill=\"none\"/>\n",
              "    <path d=\"M18.56 5.44l.94 2.06.94-2.06 2.06-.94-2.06-.94-.94-2.06-.94 2.06-2.06.94zm-11 1L8.5 8.5l.94-2.06 2.06-.94-2.06-.94L8.5 2.5l-.94 2.06-2.06.94zm10 10l.94 2.06.94-2.06 2.06-.94-2.06-.94-.94-2.06-.94 2.06-2.06.94z\"/><path d=\"M17.41 7.96l-1.37-1.37c-.4-.4-.92-.59-1.43-.59-.52 0-1.04.2-1.43.59L10.3 9.45l-7.72 7.72c-.78.78-.78 2.05 0 2.83L4 21.41c.39.39.9.59 1.41.59.51 0 1.02-.2 1.41-.59l7.78-7.78 2.81-2.81c.8-.78.8-2.07 0-2.86zM5.41 20L4 18.59l7.72-7.72 1.47 1.35L5.41 20z\"/>\n",
              "  </svg>\n",
              "      </button>\n",
              "      \n",
              "  <style>\n",
              "    .colab-df-container {\n",
              "      display:flex;\n",
              "      flex-wrap:wrap;\n",
              "      gap: 12px;\n",
              "    }\n",
              "\n",
              "    .colab-df-convert {\n",
              "      background-color: #E8F0FE;\n",
              "      border: none;\n",
              "      border-radius: 50%;\n",
              "      cursor: pointer;\n",
              "      display: none;\n",
              "      fill: #1967D2;\n",
              "      height: 32px;\n",
              "      padding: 0 0 0 0;\n",
              "      width: 32px;\n",
              "    }\n",
              "\n",
              "    .colab-df-convert:hover {\n",
              "      background-color: #E2EBFA;\n",
              "      box-shadow: 0px 1px 2px rgba(60, 64, 67, 0.3), 0px 1px 3px 1px rgba(60, 64, 67, 0.15);\n",
              "      fill: #174EA6;\n",
              "    }\n",
              "\n",
              "    [theme=dark] .colab-df-convert {\n",
              "      background-color: #3B4455;\n",
              "      fill: #D2E3FC;\n",
              "    }\n",
              "\n",
              "    [theme=dark] .colab-df-convert:hover {\n",
              "      background-color: #434B5C;\n",
              "      box-shadow: 0px 1px 3px 1px rgba(0, 0, 0, 0.15);\n",
              "      filter: drop-shadow(0px 1px 2px rgba(0, 0, 0, 0.3));\n",
              "      fill: #FFFFFF;\n",
              "    }\n",
              "  </style>\n",
              "\n",
              "      <script>\n",
              "        const buttonEl =\n",
              "          document.querySelector('#df-103b4f4d-603b-4698-b6ab-fcfb1cae70ba button.colab-df-convert');\n",
              "        buttonEl.style.display =\n",
              "          google.colab.kernel.accessAllowed ? 'block' : 'none';\n",
              "\n",
              "        async function convertToInteractive(key) {\n",
              "          const element = document.querySelector('#df-103b4f4d-603b-4698-b6ab-fcfb1cae70ba');\n",
              "          const dataTable =\n",
              "            await google.colab.kernel.invokeFunction('convertToInteractive',\n",
              "                                                     [key], {});\n",
              "          if (!dataTable) return;\n",
              "\n",
              "          const docLinkHtml = 'Like what you see? Visit the ' +\n",
              "            '<a target=\"_blank\" href=https://colab.research.google.com/notebooks/data_table.ipynb>data table notebook</a>'\n",
              "            + ' to learn more about interactive tables.';\n",
              "          element.innerHTML = '';\n",
              "          dataTable['output_type'] = 'display_data';\n",
              "          await google.colab.output.renderOutput(dataTable, element);\n",
              "          const docLink = document.createElement('div');\n",
              "          docLink.innerHTML = docLinkHtml;\n",
              "          element.appendChild(docLink);\n",
              "        }\n",
              "      </script>\n",
              "    </div>\n",
              "  </div>\n",
              "  "
            ]
          },
          "metadata": {},
          "execution_count": 10
        }
      ]
    },
    {
      "cell_type": "code",
      "source": [
        "def plotting_signals_data(signals_d): # plots important columns from signal\n",
        "\n",
        "  plt.figure(figsize=(14,6),)\n",
        "  l1 = plt.plot(signals_d['Close'], c='blue', alpha=0.4)\n",
        "  l2 = plt.plot(signals_d['UC'], c='red', alpha=0.4)\n",
        "  l3 = plt.plot(signals_d['LC'], c='green', alpha=0.4)\n",
        "  plt.scatter(signals_d.index, signals_d['Buy'], c='green', label='Buy Signal', marker='^')\n",
        "  plt.scatter(signals_d.index, signals_d['Sell'], c='red', label='Sell Signal', marker='v')\n",
        "  plt.ylabel('Stock Closing Price')\n",
        "  plt.xlabel('Date')\n",
        "  plt.title('Sell Signal Plot')\n",
        "  plt.legend(['Stock Closing Price', 'Upper Donchian Channel', 'Lower Donchian Channel'], loc='upper left');"
      ],
      "metadata": {
        "id": "7033r0iG-QEY"
      },
      "execution_count": null,
      "outputs": []
    },
    {
      "cell_type": "code",
      "source": [
        "plotting_signals_data(signals_d)"
      ],
      "metadata": {
        "colab": {
          "base_uri": "https://localhost:8080/",
          "height": 404
        },
        "id": "PdH9S6aA_J-a",
        "outputId": "ffca9be3-6d1b-4187-fc40-2f92cca9d240"
      },
      "execution_count": null,
      "outputs": [
        {
          "output_type": "display_data",
          "data": {
            "text/plain": [
              "<Figure size 1008x432 with 1 Axes>"
            ],
            "image/png": "[encoded data removed]"
          },
          "metadata": {
            "needs_background": "light"
          }
        }
      ]
    },
    {
      "cell_type": "code",
      "source": [
        "def profit_and_loss_calculation(signals_d): # calculated CAGR with signal dataframe\n",
        "\n",
        "  #In this function i assume that we start off with a capital of 100,000\n",
        "  #Upon encountering a buy signal no_of_stocks amount of stocks are bought\n",
        "  #Upon encountering a sell signal no_of_stocks amount of stocks are sold\n",
        "  #In the end of the simulation, all stocks held are sold off at the current market price\n",
        "  initial_capital = 100000\n",
        "  no_of_stocks = initial_capital // max(signals_d['Close'])\n",
        "  assets_in_cash = 100000\n",
        "  stocks_held = 0\n",
        "  buy_check = signals_d['Buy'].isna()\n",
        "  sell_check = signals_d['Sell'].isna()\n",
        "\n",
        "  for i in range(0, len(signals_d)):\n",
        "    \n",
        "    if buy_check[i] == False:\n",
        "      assets_in_cash -= no_of_stocks * signals_d['Buy'][i]\n",
        "      stocks_held += no_of_stocks\n",
        "\n",
        "    if sell_check[i] == False:\n",
        "      assets_in_cash += no_of_stocks * signals_d['Sell'][i]\n",
        "      stocks_held -= no_of_stocks\n",
        "\n",
        "  final_assets = assets_in_cash + stocks_held * signals_d['Close'][len(signals_d) - 1]\n",
        "  no_of_days = (signals_d.index[-1] - signals_d.index[0]).days\n",
        "  returns = ((final_assets / initial_capital) ** (float(no_of_days) / (3 * 365)) - 1) * 100\n",
        "  \n",
        "  return returns"
      ],
      "metadata": {
        "id": "v3zxJxMS_Rzy"
      },
      "execution_count": null,
      "outputs": []
    },
    {
      "cell_type": "code",
      "source": [
        "print('CAGR =', profit_and_loss_calculation(signals_d), '%')"
      ],
      "metadata": {
        "colab": {
          "base_uri": "https://localhost:8080/"
        },
        "id": "S9rg5m0QAGCZ",
        "outputId": "6274eb7c-4bc9-4ce8-c9ae-50e28d01e408"
      },
      "execution_count": null,
      "outputs": [
        {
          "output_type": "stream",
          "name": "stdout",
          "text": [
            "CAGR = 7.60800772081176 %\n"
          ]
        }
      ]
    },
    {
      "cell_type": "markdown",
      "source": [
        "# Commodity Channel Index"
      ],
      "metadata": {
        "id": "vrY3IDpeLUZ7"
      }
    },
    {
      "cell_type": "code",
      "source": [
        "data = ['SPY']\n",
        "df = get_stock_data(data)\n",
        "df.head()"
      ],
      "metadata": {
        "colab": {
          "base_uri": "https://localhost:8080/",
          "height": 255
        },
        "id": "1rNMHC35GAoR",
        "outputId": "408a62a4-97af-4760-e83e-ee1ef1aa45e1"
      },
      "execution_count": null,
      "outputs": [
        {
          "output_type": "stream",
          "name": "stdout",
          "text": [
            "\r[*********************100%***********************]  1 of 1 completed\n"
          ]
        },
        {
          "output_type": "execute_result",
          "data": {
            "text/plain": [
              "                  Open        High         Low       Close   Adj Close  \\\n",
              "Date                                                                     \n",
              "2019-12-10  313.820007  314.549988  312.809998  313.529999  297.422333   \n",
              "2019-12-11  314.029999  314.700012  313.440002  314.420013  298.266632   \n",
              "2019-12-12  314.429993  317.989990  314.170013  317.130005  300.837402   \n",
              "2019-12-13  316.869995  318.670013  316.019989  317.320007  301.017670   \n",
              "2019-12-16  319.220001  320.149994  317.250000  319.500000  303.085663   \n",
              "\n",
              "              Volume  \n",
              "Date                  \n",
              "2019-12-10  52649800  \n",
              "2019-12-11  53429100  \n",
              "2019-12-12  96389600  \n",
              "2019-12-13  81503900  \n",
              "2019-12-16  82749700  "
            ],
            "text/html": [
              "\n",
              "  <div id=\"df-55d2832e-5cfd-450d-9cca-3de76806148b\">\n",
              "    <div class=\"colab-df-container\">\n",
              "      <div>\n",
              "<style scoped>\n",
              "    .dataframe tbody tr th:only-of-type {\n",
              "        vertical-align: middle;\n",
              "    }\n",
              "\n",
              "    .dataframe tbody tr th {\n",
              "        vertical-align: top;\n",
              "    }\n",
              "\n",
              "    .dataframe thead th {\n",
              "        text-align: right;\n",
              "    }\n",
              "</style>\n",
              "<table border=\"1\" class=\"dataframe\">\n",
              "  <thead>\n",
              "    <tr style=\"text-align: right;\">\n",
              "      <th></th>\n",
              "      <th>Open</th>\n",
              "      <th>High</th>\n",
              "      <th>Low</th>\n",
              "      <th>Close</th>\n",
              "      <th>Adj Close</th>\n",
              "      <th>Volume</th>\n",
              "    </tr>\n",
              "    <tr>\n",
              "      <th>Date</th>\n",
              "      <th></th>\n",
              "      <th></th>\n",
              "      <th></th>\n",
              "      <th></th>\n",
              "      <th></th>\n",
              "      <th></th>\n",
              "    </tr>\n",
              "  </thead>\n",
              "  <tbody>\n",
              "    <tr>\n",
              "      <th>2019-12-10</th>\n",
              "      <td>313.820007</td>\n",
              "      <td>314.549988</td>\n",
              "      <td>312.809998</td>\n",
              "      <td>313.529999</td>\n",
              "      <td>297.422333</td>\n",
              "      <td>52649800</td>\n",
              "    </tr>\n",
              "    <tr>\n",
              "      <th>2019-12-11</th>\n",
              "      <td>314.029999</td>\n",
              "      <td>314.700012</td>\n",
              "      <td>313.440002</td>\n",
              "      <td>314.420013</td>\n",
              "      <td>298.266632</td>\n",
              "      <td>53429100</td>\n",
              "    </tr>\n",
              "    <tr>\n",
              "      <th>2019-12-12</th>\n",
              "      <td>314.429993</td>\n",
              "      <td>317.989990</td>\n",
              "      <td>314.170013</td>\n",
              "      <td>317.130005</td>\n",
              "      <td>300.837402</td>\n",
              "      <td>96389600</td>\n",
              "    </tr>\n",
              "    <tr>\n",
              "      <th>2019-12-13</th>\n",
              "      <td>316.869995</td>\n",
              "      <td>318.670013</td>\n",
              "      <td>316.019989</td>\n",
              "      <td>317.320007</td>\n",
              "      <td>301.017670</td>\n",
              "      <td>81503900</td>\n",
              "    </tr>\n",
              "    <tr>\n",
              "      <th>2019-12-16</th>\n",
              "      <td>319.220001</td>\n",
              "      <td>320.149994</td>\n",
              "      <td>317.250000</td>\n",
              "      <td>319.500000</td>\n",
              "      <td>303.085663</td>\n",
              "      <td>82749700</td>\n",
              "    </tr>\n",
              "  </tbody>\n",
              "</table>\n",
              "</div>\n",
              "      <button class=\"colab-df-convert\" onclick=\"convertToInteractive('df-55d2832e-5cfd-450d-9cca-3de76806148b')\"\n",
              "              title=\"Convert this dataframe to an interactive table.\"\n",
              "              style=\"display:none;\">\n",
              "        \n",
              "  <svg xmlns=\"http://www.w3.org/2000/svg\" height=\"24px\"viewBox=\"0 0 24 24\"\n",
              "       width=\"24px\">\n",
              "    <path d=\"M0 0h24v24H0V0z\" fill=\"none\"/>\n",
              "    <path d=\"M18.56 5.44l.94 2.06.94-2.06 2.06-.94-2.06-.94-.94-2.06-.94 2.06-2.06.94zm-11 1L8.5 8.5l.94-2.06 2.06-.94-2.06-.94L8.5 2.5l-.94 2.06-2.06.94zm10 10l.94 2.06.94-2.06 2.06-.94-2.06-.94-.94-2.06-.94 2.06-2.06.94z\"/><path d=\"M17.41 7.96l-1.37-1.37c-.4-.4-.92-.59-1.43-.59-.52 0-1.04.2-1.43.59L10.3 9.45l-7.72 7.72c-.78.78-.78 2.05 0 2.83L4 21.41c.39.39.9.59 1.41.59.51 0 1.02-.2 1.41-.59l7.78-7.78 2.81-2.81c.8-.78.8-2.07 0-2.86zM5.41 20L4 18.59l7.72-7.72 1.47 1.35L5.41 20z\"/>\n",
              "  </svg>\n",
              "      </button>\n",
              "      \n",
              "  <style>\n",
              "    .colab-df-container {\n",
              "      display:flex;\n",
              "      flex-wrap:wrap;\n",
              "      gap: 12px;\n",
              "    }\n",
              "\n",
              "    .colab-df-convert {\n",
              "      background-color: #E8F0FE;\n",
              "      border: none;\n",
              "      border-radius: 50%;\n",
              "      cursor: pointer;\n",
              "      display: none;\n",
              "      fill: #1967D2;\n",
              "      height: 32px;\n",
              "      padding: 0 0 0 0;\n",
              "      width: 32px;\n",
              "    }\n",
              "\n",
              "    .colab-df-convert:hover {\n",
              "      background-color: #E2EBFA;\n",
              "      box-shadow: 0px 1px 2px rgba(60, 64, 67, 0.3), 0px 1px 3px 1px rgba(60, 64, 67, 0.15);\n",
              "      fill: #174EA6;\n",
              "    }\n",
              "\n",
              "    [theme=dark] .colab-df-convert {\n",
              "      background-color: #3B4455;\n",
              "      fill: #D2E3FC;\n",
              "    }\n",
              "\n",
              "    [theme=dark] .colab-df-convert:hover {\n",
              "      background-color: #434B5C;\n",
              "      box-shadow: 0px 1px 3px 1px rgba(0, 0, 0, 0.15);\n",
              "      filter: drop-shadow(0px 1px 2px rgba(0, 0, 0, 0.3));\n",
              "      fill: #FFFFFF;\n",
              "    }\n",
              "  </style>\n",
              "\n",
              "      <script>\n",
              "        const buttonEl =\n",
              "          document.querySelector('#df-55d2832e-5cfd-450d-9cca-3de76806148b button.colab-df-convert');\n",
              "        buttonEl.style.display =\n",
              "          google.colab.kernel.accessAllowed ? 'block' : 'none';\n",
              "\n",
              "        async function convertToInteractive(key) {\n",
              "          const element = document.querySelector('#df-55d2832e-5cfd-450d-9cca-3de76806148b');\n",
              "          const dataTable =\n",
              "            await google.colab.kernel.invokeFunction('convertToInteractive',\n",
              "                                                     [key], {});\n",
              "          if (!dataTable) return;\n",
              "\n",
              "          const docLinkHtml = 'Like what you see? Visit the ' +\n",
              "            '<a target=\"_blank\" href=https://colab.research.google.com/notebooks/data_table.ipynb>data table notebook</a>'\n",
              "            + ' to learn more about interactive tables.';\n",
              "          element.innerHTML = '';\n",
              "          dataTable['output_type'] = 'display_data';\n",
              "          await google.colab.output.renderOutput(dataTable, element);\n",
              "          const docLink = document.createElement('div');\n",
              "          docLink.innerHTML = docLinkHtml;\n",
              "          element.appendChild(docLink);\n",
              "        }\n",
              "      </script>\n",
              "    </div>\n",
              "  </div>\n",
              "  "
            ]
          },
          "metadata": {},
          "execution_count": 15
        }
      ]
    },
    {
      "cell_type": "code",
      "source": [
        "n = 20\n",
        "df['TP'] = (df['High'] + df['Low'] + df['Adj Close'])/3\n",
        "df['SMA_TP'] = df['TP'].rolling(n).mean()\n",
        "df['SMA_STD'] = df['TP'].rolling(n).std()\n",
        "df['CCI'] = (df['TP'] - df['SMA_TP']) / (0.015*df['SMA_STD'])\n",
        "df = df.drop(['TP', 'SMA_TP', 'SMA_STD'],axis=1)"
      ],
      "metadata": {
        "id": "xr4_B507LuF_"
      },
      "execution_count": null,
      "outputs": []
    },
    {
      "cell_type": "code",
      "source": [
        "symbol='SPY'\n",
        "fig = plt.figure(figsize=(14,7))\n",
        "ax1 = plt.subplot(2, 1, 1)\n",
        "ax1.plot(df['Adj Close'])\n",
        "ax1.set_title('Stock '+ symbol +' Closing Price')\n",
        "ax1.set_ylabel('Price')\n",
        "\n",
        "ax2 = plt.subplot(2, 1, 2)\n",
        "ax2.plot(df['CCI'], label='Commodity Channel Index')\n",
        "ax2.axhline(y=100, color='red')\n",
        "ax2.axhline(y=-100, color='red')\n",
        "ax2.axhline(y=200, color='darkblue')\n",
        "ax2.axhline(y=-200, color='darkblue')\n",
        "ax2.grid()\n",
        "ax2.set_ylabel('CCI')\n",
        "ax2.set_xlabel('Date')\n",
        "plt.show()"
      ],
      "metadata": {
        "colab": {
          "base_uri": "https://localhost:8080/",
          "height": 458
        },
        "id": "q16wfctjMA2I",
        "outputId": "a51d16d4-78cc-44de-f130-db243abe2aba"
      },
      "execution_count": null,
      "outputs": [
        {
          "output_type": "display_data",
          "data": {
            "text/plain": [
              "<Figure size 1008x504 with 2 Axes>"
            ],
            "image/png": "[encoded data removed]"
          },
          "metadata": {
            "needs_background": "light"
          }
        }
      ]
    },
    {
      "cell_type": "code",
      "source": [
        "def implement_cci_strategy(prices, cci):\n",
        "    buy_price = []\n",
        "    sell_price = []\n",
        "    cci_signal = []\n",
        "    signal = 0\n",
        "    \n",
        "    lower_band = (-100)\n",
        "    upper_band = 100\n",
        "    \n",
        "    for i in range(len(prices)):\n",
        "        if cci[i-1] > lower_band and cci[i] < lower_band:\n",
        "            if signal != 1:\n",
        "                buy_price.append(prices[i])\n",
        "                sell_price.append(np.nan)\n",
        "                signal = 1\n",
        "                cci_signal.append(signal)\n",
        "            else:\n",
        "                buy_price.append(np.nan)\n",
        "                sell_price.append(np.nan)\n",
        "                cci_signal.append(0)\n",
        "                \n",
        "        elif cci[i-1] < upper_band and cci[i] > upper_band:\n",
        "            if signal != -1:\n",
        "                buy_price.append(np.nan)\n",
        "                sell_price.append(prices[i])\n",
        "                signal = -1\n",
        "                cci_signal.append(signal)\n",
        "            else:\n",
        "                buy_price.append(np.nan)\n",
        "                sell_price.append(np.nan)\n",
        "                cci_signal.append(0)\n",
        "                \n",
        "        else:\n",
        "            buy_price.append(np.nan)\n",
        "            sell_price.append(np.nan)\n",
        "            cci_signal.append(0)\n",
        "            \n",
        "    return buy_price, sell_price, cci_signal\n",
        "\n",
        "buy_price, sell_price, cci_signal = implement_cci_strategy(df['Close'], df['CCI'])\n",
        "\n",
        "signals_cci=pd.DataFrame()\n",
        "signals_cci['Close']=df['Close']\n",
        "signals_cci['Buy_c']=buy_price\n",
        "signals_cci['Sell_c']=sell_price\n"
      ],
      "metadata": {
        "id": "Cx6uVaT7MbFK"
      },
      "execution_count": null,
      "outputs": []
    },
    {
      "cell_type": "code",
      "source": [
        "ax1 = plt.subplot2grid((20,1), (0,0), rowspan = 5, colspan = 1)\n",
        "ax2 = plt.subplot2grid((10,1), (6,0), rowspan = 4, colspan = 1)\n",
        "ax1.plot(signals_cci['Close'], color = 'skyblue', label = 'SPY')\n",
        "ax1.plot(signals_cci.index, buy_price, marker = '^', markersize = 12, linewidth = 0, label = 'BUY SIGNAL', color = 'green')\n",
        "ax1.plot(signals_cci.index, sell_price, marker = 'v', markersize = 12, linewidth = 0, label = 'SELL SIGNAL', color = 'r')\n",
        "ax1.set_title('SPY SHARE PRICE')\n",
        "ax1.legend()\n",
        "ax2.plot(df['CCI'], color = 'orange')\n",
        "ax2.set_title('SPY CCI 20')\n",
        "ax2.axhline(100, linestyle = '--', linewidth = 1, color = 'black')\n",
        "ax2.axhline(-100, linestyle = '--', linewidth = 1, color = 'black')\n",
        "plt.show()"
      ],
      "metadata": {
        "colab": {
          "base_uri": "https://localhost:8080/",
          "height": 281
        },
        "id": "nr8vWx8sP-w8",
        "outputId": "d4818243-1f7c-417b-9c3e-8012dd5d0b52"
      },
      "execution_count": null,
      "outputs": [
        {
          "output_type": "display_data",
          "data": {
            "text/plain": [
              "<Figure size 432x288 with 2 Axes>"
            ],
            "image/png": "[encoded data removed]"
          },
          "metadata": {
            "needs_background": "light"
          }
        }
      ]
    },
    {
      "cell_type": "code",
      "source": [],
      "metadata": {
        "colab": {
          "base_uri": "https://localhost:8080/",
          "height": 520
        },
        "id": "LyNzCgssR1bD",
        "outputId": "716cd455-61ed-41ad-c559-1702f1985b6f"
      },
      "execution_count": null,
      "outputs": [
        {
          "output_type": "error",
          "ename": "KeyError",
          "evalue": "ignored",
          "traceback": [
            "\u001b[0;31m---------------------------------------------------------------------------\u001b[0m",
            "\u001b[0;31mKeyError\u001b[0m                                  Traceback (most recent call last)",
            "\u001b[0;32m/usr/local/lib/python3.8/dist-packages/pandas/core/indexes/base.py\u001b[0m in \u001b[0;36mget_loc\u001b[0;34m(self, key, method, tolerance)\u001b[0m\n\u001b[1;32m   3360\u001b[0m             \u001b[0;32mtry\u001b[0m\u001b[0;34m:\u001b[0m\u001b[0;34m\u001b[0m\u001b[0;34m\u001b[0m\u001b[0m\n\u001b[0;32m-> 3361\u001b[0;31m                 \u001b[0;32mreturn\u001b[0m \u001b[0mself\u001b[0m\u001b[0;34m.\u001b[0m\u001b[0m_engine\u001b[0m\u001b[0;34m.\u001b[0m\u001b[0mget_loc\u001b[0m\u001b[0;34m(\u001b[0m\u001b[0mcasted_key\u001b[0m\u001b[0;34m)\u001b[0m\u001b[0;34m\u001b[0m\u001b[0;34m\u001b[0m\u001b[0m\n\u001b[0m\u001b[1;32m   3362\u001b[0m             \u001b[0;32mexcept\u001b[0m \u001b[0mKeyError\u001b[0m \u001b[0;32mas\u001b[0m \u001b[0merr\u001b[0m\u001b[0;34m:\u001b[0m\u001b[0;34m\u001b[0m\u001b[0;34m\u001b[0m\u001b[0m\n",
            "\u001b[0;32m/usr/local/lib/python3.8/dist-packages/pandas/_libs/index.pyx\u001b[0m in \u001b[0;36mpandas._libs.index.IndexEngine.get_loc\u001b[0;34m()\u001b[0m\n",
            "\u001b[0;32m/usr/local/lib/python3.8/dist-packages/pandas/_libs/index.pyx\u001b[0m in \u001b[0;36mpandas._libs.index.IndexEngine.get_loc\u001b[0;34m()\u001b[0m\n",
            "\u001b[0;32mpandas/_libs/hashtable_class_helper.pxi\u001b[0m in \u001b[0;36mpandas._libs.hashtable.PyObjectHashTable.get_item\u001b[0;34m()\u001b[0m\n",
            "\u001b[0;32mpandas/_libs/hashtable_class_helper.pxi\u001b[0m in \u001b[0;36mpandas._libs.hashtable.PyObjectHashTable.get_item\u001b[0;34m()\u001b[0m\n",
            "\u001b[0;31mKeyError\u001b[0m: 'Close'",
            "\nThe above exception was the direct cause of the following exception:\n",
            "\u001b[0;31mKeyError\u001b[0m                                  Traceback (most recent call last)",
            "\u001b[0;32m<ipython-input-32-538b045653b3>\u001b[0m in \u001b[0;36m<module>\u001b[0;34m\u001b[0m\n\u001b[0;32m----> 1\u001b[0;31m \u001b[0mplotting_signals_data\u001b[0m\u001b[0;34m(\u001b[0m\u001b[0msignals_cci\u001b[0m\u001b[0;34m)\u001b[0m\u001b[0;34m\u001b[0m\u001b[0;34m\u001b[0m\u001b[0m\n\u001b[0m",
            "\u001b[0;32m<ipython-input-30-fa9be0675a56>\u001b[0m in \u001b[0;36mplotting_signals_data\u001b[0;34m(signals_cci)\u001b[0m\n\u001b[1;32m      2\u001b[0m \u001b[0;34m\u001b[0m\u001b[0m\n\u001b[1;32m      3\u001b[0m   \u001b[0mplt\u001b[0m\u001b[0;34m.\u001b[0m\u001b[0mfigure\u001b[0m\u001b[0;34m(\u001b[0m\u001b[0mfigsize\u001b[0m\u001b[0;34m=\u001b[0m\u001b[0;34m(\u001b[0m\u001b[0;36m14\u001b[0m\u001b[0;34m,\u001b[0m\u001b[0;36m6\u001b[0m\u001b[0;34m)\u001b[0m\u001b[0;34m,\u001b[0m\u001b[0;34m)\u001b[0m\u001b[0;34m\u001b[0m\u001b[0;34m\u001b[0m\u001b[0m\n\u001b[0;32m----> 4\u001b[0;31m   \u001b[0ml1\u001b[0m \u001b[0;34m=\u001b[0m \u001b[0mplt\u001b[0m\u001b[0;34m.\u001b[0m\u001b[0mplot\u001b[0m\u001b[0;34m(\u001b[0m\u001b[0msignals_cci\u001b[0m\u001b[0;34m[\u001b[0m\u001b[0;34m'Close'\u001b[0m\u001b[0;34m]\u001b[0m\u001b[0;34m,\u001b[0m \u001b[0mc\u001b[0m\u001b[0;34m=\u001b[0m\u001b[0;34m'blue'\u001b[0m\u001b[0;34m,\u001b[0m \u001b[0malpha\u001b[0m\u001b[0;34m=\u001b[0m\u001b[0;36m0.4\u001b[0m\u001b[0;34m)\u001b[0m\u001b[0;34m\u001b[0m\u001b[0;34m\u001b[0m\u001b[0m\n\u001b[0m\u001b[1;32m      5\u001b[0m   \u001b[0mplt\u001b[0m\u001b[0;34m.\u001b[0m\u001b[0mscatter\u001b[0m\u001b[0;34m(\u001b[0m\u001b[0msignals_cci\u001b[0m\u001b[0;34m.\u001b[0m\u001b[0mindex\u001b[0m\u001b[0;34m,\u001b[0m \u001b[0msignals_cci\u001b[0m\u001b[0;34m[\u001b[0m\u001b[0;34m'Buy_c'\u001b[0m\u001b[0;34m]\u001b[0m\u001b[0;34m,\u001b[0m \u001b[0mc\u001b[0m\u001b[0;34m=\u001b[0m\u001b[0;34m'green'\u001b[0m\u001b[0;34m,\u001b[0m \u001b[0mlabel\u001b[0m\u001b[0;34m=\u001b[0m\u001b[0;34m'Buy Signal'\u001b[0m\u001b[0;34m,\u001b[0m \u001b[0mmarker\u001b[0m\u001b[0;34m=\u001b[0m\u001b[0;34m'^'\u001b[0m\u001b[0;34m)\u001b[0m\u001b[0;34m\u001b[0m\u001b[0;34m\u001b[0m\u001b[0m\n\u001b[1;32m      6\u001b[0m   \u001b[0mplt\u001b[0m\u001b[0;34m.\u001b[0m\u001b[0mscatter\u001b[0m\u001b[0;34m(\u001b[0m\u001b[0msignals_cci\u001b[0m\u001b[0;34m.\u001b[0m\u001b[0mindex\u001b[0m\u001b[0;34m,\u001b[0m \u001b[0msignals_cci\u001b[0m\u001b[0;34m[\u001b[0m\u001b[0;34m'Sell_c'\u001b[0m\u001b[0;34m]\u001b[0m\u001b[0;34m,\u001b[0m \u001b[0mc\u001b[0m\u001b[0;34m=\u001b[0m\u001b[0;34m'red'\u001b[0m\u001b[0;34m,\u001b[0m \u001b[0mlabel\u001b[0m\u001b[0;34m=\u001b[0m\u001b[0;34m'Sell Signal'\u001b[0m\u001b[0;34m,\u001b[0m \u001b[0mmarker\u001b[0m\u001b[0;34m=\u001b[0m\u001b[0;34m'v'\u001b[0m\u001b[0;34m)\u001b[0m\u001b[0;34m\u001b[0m\u001b[0;34m\u001b[0m\u001b[0m\n",
            "\u001b[0;32m/usr/local/lib/python3.8/dist-packages/pandas/core/frame.py\u001b[0m in \u001b[0;36m__getitem__\u001b[0;34m(self, key)\u001b[0m\n\u001b[1;32m   3456\u001b[0m             \u001b[0;32mif\u001b[0m \u001b[0mself\u001b[0m\u001b[0;34m.\u001b[0m\u001b[0mcolumns\u001b[0m\u001b[0;34m.\u001b[0m\u001b[0mnlevels\u001b[0m \u001b[0;34m>\u001b[0m \u001b[0;36m1\u001b[0m\u001b[0;34m:\u001b[0m\u001b[0;34m\u001b[0m\u001b[0;34m\u001b[0m\u001b[0m\n\u001b[1;32m   3457\u001b[0m                 \u001b[0;32mreturn\u001b[0m \u001b[0mself\u001b[0m\u001b[0;34m.\u001b[0m\u001b[0m_getitem_multilevel\u001b[0m\u001b[0;34m(\u001b[0m\u001b[0mkey\u001b[0m\u001b[0;34m)\u001b[0m\u001b[0;34m\u001b[0m\u001b[0;34m\u001b[0m\u001b[0m\n\u001b[0;32m-> 3458\u001b[0;31m             \u001b[0mindexer\u001b[0m \u001b[0;34m=\u001b[0m \u001b[0mself\u001b[0m\u001b[0;34m.\u001b[0m\u001b[0mcolumns\u001b[0m\u001b[0;34m.\u001b[0m\u001b[0mget_loc\u001b[0m\u001b[0;34m(\u001b[0m\u001b[0mkey\u001b[0m\u001b[0;34m)\u001b[0m\u001b[0;34m\u001b[0m\u001b[0;34m\u001b[0m\u001b[0m\n\u001b[0m\u001b[1;32m   3459\u001b[0m             \u001b[0;32mif\u001b[0m \u001b[0mis_integer\u001b[0m\u001b[0;34m(\u001b[0m\u001b[0mindexer\u001b[0m\u001b[0;34m)\u001b[0m\u001b[0;34m:\u001b[0m\u001b[0;34m\u001b[0m\u001b[0;34m\u001b[0m\u001b[0m\n\u001b[1;32m   3460\u001b[0m                 \u001b[0mindexer\u001b[0m \u001b[0;34m=\u001b[0m \u001b[0;34m[\u001b[0m\u001b[0mindexer\u001b[0m\u001b[0;34m]\u001b[0m\u001b[0;34m\u001b[0m\u001b[0;34m\u001b[0m\u001b[0m\n",
            "\u001b[0;32m/usr/local/lib/python3.8/dist-packages/pandas/core/indexes/base.py\u001b[0m in \u001b[0;36mget_loc\u001b[0;34m(self, key, method, tolerance)\u001b[0m\n\u001b[1;32m   3361\u001b[0m                 \u001b[0;32mreturn\u001b[0m \u001b[0mself\u001b[0m\u001b[0;34m.\u001b[0m\u001b[0m_engine\u001b[0m\u001b[0;34m.\u001b[0m\u001b[0mget_loc\u001b[0m\u001b[0;34m(\u001b[0m\u001b[0mcasted_key\u001b[0m\u001b[0;34m)\u001b[0m\u001b[0;34m\u001b[0m\u001b[0;34m\u001b[0m\u001b[0m\n\u001b[1;32m   3362\u001b[0m             \u001b[0;32mexcept\u001b[0m \u001b[0mKeyError\u001b[0m \u001b[0;32mas\u001b[0m \u001b[0merr\u001b[0m\u001b[0;34m:\u001b[0m\u001b[0;34m\u001b[0m\u001b[0;34m\u001b[0m\u001b[0m\n\u001b[0;32m-> 3363\u001b[0;31m                 \u001b[0;32mraise\u001b[0m \u001b[0mKeyError\u001b[0m\u001b[0;34m(\u001b[0m\u001b[0mkey\u001b[0m\u001b[0;34m)\u001b[0m \u001b[0;32mfrom\u001b[0m \u001b[0merr\u001b[0m\u001b[0;34m\u001b[0m\u001b[0;34m\u001b[0m\u001b[0m\n\u001b[0m\u001b[1;32m   3364\u001b[0m \u001b[0;34m\u001b[0m\u001b[0m\n\u001b[1;32m   3365\u001b[0m         \u001b[0;32mif\u001b[0m \u001b[0mis_scalar\u001b[0m\u001b[0;34m(\u001b[0m\u001b[0mkey\u001b[0m\u001b[0;34m)\u001b[0m \u001b[0;32mand\u001b[0m \u001b[0misna\u001b[0m\u001b[0;34m(\u001b[0m\u001b[0mkey\u001b[0m\u001b[0;34m)\u001b[0m \u001b[0;32mand\u001b[0m \u001b[0;32mnot\u001b[0m \u001b[0mself\u001b[0m\u001b[0;34m.\u001b[0m\u001b[0mhasnans\u001b[0m\u001b[0;34m:\u001b[0m\u001b[0;34m\u001b[0m\u001b[0;34m\u001b[0m\u001b[0m\n",
            "\u001b[0;31mKeyError\u001b[0m: 'Close'"
          ]
        },
        {
          "output_type": "display_data",
          "data": {
            "text/plain": [
              "<Figure size 1008x432 with 0 Axes>"
            ]
          },
          "metadata": {}
        }
      ]
    }
  ]
}